{
 "cells": [
  {
   "cell_type": "code",
   "execution_count": 1,
   "id": "6935b3d8-eeac-458f-97a8-e9481c1fe620",
   "metadata": {},
   "outputs": [],
   "source": [
    "import numpy as np\n",
    "import pandas as pd"
   ]
  },
  {
   "cell_type": "markdown",
   "id": "424ad15f-3658-43fd-8961-d80b7af1623f",
   "metadata": {},
   "source": [
    "### Load Data set"
   ]
  },
  {
   "cell_type": "code",
   "execution_count": 13,
   "id": "3f37bf81-5a54-44ac-acc9-0dc4c54429a8",
   "metadata": {},
   "outputs": [],
   "source": [
    "df = pd.read_csv(\"adidas-2.csv\", index_col=0, \n",
    "                 low_memory=False)"
   ]
  },
  {
   "cell_type": "markdown",
   "id": "ebb57195-4a78-4bea-80bc-2b4055e41808",
   "metadata": {},
   "source": [
    "## Inspect Data set"
   ]
  },
  {
   "cell_type": "code",
   "execution_count": 14,
   "id": "829a80d1-4032-41d0-a636-844c77fe5fbe",
   "metadata": {},
   "outputs": [
    {
     "data": {
      "text/html": [
       "<div>\n",
       "<style scoped>\n",
       "    .dataframe tbody tr th:only-of-type {\n",
       "        vertical-align: middle;\n",
       "    }\n",
       "\n",
       "    .dataframe tbody tr th {\n",
       "        vertical-align: top;\n",
       "    }\n",
       "\n",
       "    .dataframe thead th {\n",
       "        text-align: right;\n",
       "    }\n",
       "</style>\n",
       "<table border=\"1\" class=\"dataframe\">\n",
       "  <thead>\n",
       "    <tr style=\"text-align: right;\">\n",
       "      <th></th>\n",
       "      <th>Product ID</th>\n",
       "      <th>Listing Price</th>\n",
       "      <th>Sale Price</th>\n",
       "      <th>Discount</th>\n",
       "      <th>Brand</th>\n",
       "      <th>Description</th>\n",
       "      <th>Rating</th>\n",
       "      <th>Reviews</th>\n",
       "      <th>Last Visited</th>\n",
       "    </tr>\n",
       "    <tr>\n",
       "      <th>Product Name</th>\n",
       "      <th></th>\n",
       "      <th></th>\n",
       "      <th></th>\n",
       "      <th></th>\n",
       "      <th></th>\n",
       "      <th></th>\n",
       "      <th></th>\n",
       "      <th></th>\n",
       "      <th></th>\n",
       "    </tr>\n",
       "  </thead>\n",
       "  <tbody>\n",
       "    <tr>\n",
       "      <th>Women's adidas Originals NMD_Racer Primeknit Shoes</th>\n",
       "      <td>AH2430</td>\n",
       "      <td>14999</td>\n",
       "      <td>7499</td>\n",
       "      <td>50</td>\n",
       "      <td>Adidas Adidas ORIGINALS</td>\n",
       "      <td>Channeling the streamlined look of an '80s rac...</td>\n",
       "      <td>4.8</td>\n",
       "      <td>41</td>\n",
       "      <td>2020-04-13T15:06:14</td>\n",
       "    </tr>\n",
       "    <tr>\n",
       "      <th>Women's adidas Originals Sleek Shoes</th>\n",
       "      <td>G27341</td>\n",
       "      <td>7599</td>\n",
       "      <td>3799</td>\n",
       "      <td>50</td>\n",
       "      <td>Adidas ORIGINALS</td>\n",
       "      <td>A modern take on adidas sport heritage, tailor...</td>\n",
       "      <td>3.3</td>\n",
       "      <td>24</td>\n",
       "      <td>2020-04-13T15:06:15</td>\n",
       "    </tr>\n",
       "    <tr>\n",
       "      <th>Women's adidas Swim Puka Slippers</th>\n",
       "      <td>CM0081</td>\n",
       "      <td>999</td>\n",
       "      <td>599</td>\n",
       "      <td>40</td>\n",
       "      <td>Adidas CORE / NEO</td>\n",
       "      <td>These adidas Puka slippers for women's come wi...</td>\n",
       "      <td>2.6</td>\n",
       "      <td>37</td>\n",
       "      <td>2020-04-13T15:06:15</td>\n",
       "    </tr>\n",
       "    <tr>\n",
       "      <th>Women's adidas Sport Inspired Questar Ride Shoes</th>\n",
       "      <td>B44832</td>\n",
       "      <td>6999</td>\n",
       "      <td>3499</td>\n",
       "      <td>50</td>\n",
       "      <td>Adidas CORE / NEO</td>\n",
       "      <td>Inspired by modern tech runners, these women's...</td>\n",
       "      <td>4.1</td>\n",
       "      <td>35</td>\n",
       "      <td>2020-04-13T15:06:15</td>\n",
       "    </tr>\n",
       "    <tr>\n",
       "      <th>Women's adidas Originals Taekwondo Shoes</th>\n",
       "      <td>D98205</td>\n",
       "      <td>7999</td>\n",
       "      <td>3999</td>\n",
       "      <td>50</td>\n",
       "      <td>Adidas ORIGINALS</td>\n",
       "      <td>This design is inspired by vintage Taekwondo s...</td>\n",
       "      <td>3.5</td>\n",
       "      <td>72</td>\n",
       "      <td>2020-04-13T15:06:15</td>\n",
       "    </tr>\n",
       "  </tbody>\n",
       "</table>\n",
       "</div>"
      ],
      "text/plain": [
       "                                                   Product ID  Listing Price  \\\n",
       "Product Name                                                                   \n",
       "Women's adidas Originals NMD_Racer Primeknit Shoes     AH2430          14999   \n",
       "Women's adidas Originals Sleek Shoes                   G27341           7599   \n",
       "Women's adidas Swim Puka Slippers                      CM0081            999   \n",
       "Women's adidas Sport Inspired Questar Ride Shoes       B44832           6999   \n",
       "Women's adidas Originals Taekwondo Shoes               D98205           7999   \n",
       "\n",
       "                                                    Sale Price  Discount  \\\n",
       "Product Name                                                               \n",
       "Women's adidas Originals NMD_Racer Primeknit Shoes        7499        50   \n",
       "Women's adidas Originals Sleek Shoes                      3799        50   \n",
       "Women's adidas Swim Puka Slippers                          599        40   \n",
       "Women's adidas Sport Inspired Questar Ride Shoes          3499        50   \n",
       "Women's adidas Originals Taekwondo Shoes                  3999        50   \n",
       "\n",
       "                                                                      Brand  \\\n",
       "Product Name                                                                  \n",
       "Women's adidas Originals NMD_Racer Primeknit Shoes  Adidas Adidas ORIGINALS   \n",
       "Women's adidas Originals Sleek Shoes                       Adidas ORIGINALS   \n",
       "Women's adidas Swim Puka Slippers                         Adidas CORE / NEO   \n",
       "Women's adidas Sport Inspired Questar Ride Shoes          Adidas CORE / NEO   \n",
       "Women's adidas Originals Taekwondo Shoes                   Adidas ORIGINALS   \n",
       "\n",
       "                                                                                          Description  \\\n",
       "Product Name                                                                                            \n",
       "Women's adidas Originals NMD_Racer Primeknit Shoes  Channeling the streamlined look of an '80s rac...   \n",
       "Women's adidas Originals Sleek Shoes                A modern take on adidas sport heritage, tailor...   \n",
       "Women's adidas Swim Puka Slippers                   These adidas Puka slippers for women's come wi...   \n",
       "Women's adidas Sport Inspired Questar Ride Shoes    Inspired by modern tech runners, these women's...   \n",
       "Women's adidas Originals Taekwondo Shoes            This design is inspired by vintage Taekwondo s...   \n",
       "\n",
       "                                                    Rating  Reviews  \\\n",
       "Product Name                                                          \n",
       "Women's adidas Originals NMD_Racer Primeknit Shoes     4.8       41   \n",
       "Women's adidas Originals Sleek Shoes                   3.3       24   \n",
       "Women's adidas Swim Puka Slippers                      2.6       37   \n",
       "Women's adidas Sport Inspired Questar Ride Shoes       4.1       35   \n",
       "Women's adidas Originals Taekwondo Shoes               3.5       72   \n",
       "\n",
       "                                                           Last Visited  \n",
       "Product Name                                                             \n",
       "Women's adidas Originals NMD_Racer Primeknit Shoes  2020-04-13T15:06:14  \n",
       "Women's adidas Originals Sleek Shoes                2020-04-13T15:06:15  \n",
       "Women's adidas Swim Puka Slippers                   2020-04-13T15:06:15  \n",
       "Women's adidas Sport Inspired Questar Ride Shoes    2020-04-13T15:06:15  \n",
       "Women's adidas Originals Taekwondo Shoes            2020-04-13T15:06:15  "
      ]
     },
     "execution_count": 14,
     "metadata": {},
     "output_type": "execute_result"
    }
   ],
   "source": [
    "df.head()"
   ]
  },
  {
   "cell_type": "code",
   "execution_count": 15,
   "id": "1fe4d66e-c19f-4ea4-a233-7178c5c696b3",
   "metadata": {},
   "outputs": [
    {
     "data": {
      "text/plain": [
       "(3268, 9)"
      ]
     },
     "execution_count": 15,
     "metadata": {},
     "output_type": "execute_result"
    }
   ],
   "source": [
    "df.shape"
   ]
  },
  {
   "cell_type": "markdown",
   "id": "4c917ab7-e257-4ca4-adb0-2dc4773cb88b",
   "metadata": {},
   "source": [
    "## Drop columns"
   ]
  },
  {
   "cell_type": "code",
   "execution_count": 16,
   "id": "c1983c72-7f55-4fff-ab7c-db75dd326eb7",
   "metadata": {},
   "outputs": [],
   "source": [
    "newdf = df.drop(['Product ID', 'Discount', 'Description', 'Rating', 'Reviews', 'Last Visited'], axis = 1)"
   ]
  },
  {
   "cell_type": "code",
   "execution_count": 17,
   "id": "37f218ac-b504-43f8-aa1c-87e28ba5b80a",
   "metadata": {},
   "outputs": [
    {
     "data": {
      "text/html": [
       "<div>\n",
       "<style scoped>\n",
       "    .dataframe tbody tr th:only-of-type {\n",
       "        vertical-align: middle;\n",
       "    }\n",
       "\n",
       "    .dataframe tbody tr th {\n",
       "        vertical-align: top;\n",
       "    }\n",
       "\n",
       "    .dataframe thead th {\n",
       "        text-align: right;\n",
       "    }\n",
       "</style>\n",
       "<table border=\"1\" class=\"dataframe\">\n",
       "  <thead>\n",
       "    <tr style=\"text-align: right;\">\n",
       "      <th></th>\n",
       "      <th>Listing Price</th>\n",
       "      <th>Sale Price</th>\n",
       "      <th>Brand</th>\n",
       "    </tr>\n",
       "    <tr>\n",
       "      <th>Product Name</th>\n",
       "      <th></th>\n",
       "      <th></th>\n",
       "      <th></th>\n",
       "    </tr>\n",
       "  </thead>\n",
       "  <tbody>\n",
       "    <tr>\n",
       "      <th>Women's adidas Originals NMD_Racer Primeknit Shoes</th>\n",
       "      <td>14999</td>\n",
       "      <td>7499</td>\n",
       "      <td>Adidas Adidas ORIGINALS</td>\n",
       "    </tr>\n",
       "    <tr>\n",
       "      <th>Women's adidas Originals Sleek Shoes</th>\n",
       "      <td>7599</td>\n",
       "      <td>3799</td>\n",
       "      <td>Adidas ORIGINALS</td>\n",
       "    </tr>\n",
       "    <tr>\n",
       "      <th>Women's adidas Swim Puka Slippers</th>\n",
       "      <td>999</td>\n",
       "      <td>599</td>\n",
       "      <td>Adidas CORE / NEO</td>\n",
       "    </tr>\n",
       "    <tr>\n",
       "      <th>Women's adidas Sport Inspired Questar Ride Shoes</th>\n",
       "      <td>6999</td>\n",
       "      <td>3499</td>\n",
       "      <td>Adidas CORE / NEO</td>\n",
       "    </tr>\n",
       "    <tr>\n",
       "      <th>Women's adidas Originals Taekwondo Shoes</th>\n",
       "      <td>7999</td>\n",
       "      <td>3999</td>\n",
       "      <td>Adidas ORIGINALS</td>\n",
       "    </tr>\n",
       "    <tr>\n",
       "      <th>...</th>\n",
       "      <td>...</td>\n",
       "      <td>...</td>\n",
       "      <td>...</td>\n",
       "    </tr>\n",
       "    <tr>\n",
       "      <th>Air Jordan 8 Retro</th>\n",
       "      <td>15995</td>\n",
       "      <td>12797</td>\n",
       "      <td>Nike</td>\n",
       "    </tr>\n",
       "    <tr>\n",
       "      <th>Nike Phantom Venom Club IC</th>\n",
       "      <td>4995</td>\n",
       "      <td>3497</td>\n",
       "      <td>Nike</td>\n",
       "    </tr>\n",
       "    <tr>\n",
       "      <th>Nike Mercurial Superfly 7 Academy TF</th>\n",
       "      <td>8495</td>\n",
       "      <td>5947</td>\n",
       "      <td>Nike</td>\n",
       "    </tr>\n",
       "    <tr>\n",
       "      <th>Nike Air Max 98</th>\n",
       "      <td>0</td>\n",
       "      <td>16995</td>\n",
       "      <td>Nike</td>\n",
       "    </tr>\n",
       "    <tr>\n",
       "      <th>Nike P-6000 SE</th>\n",
       "      <td>8995</td>\n",
       "      <td>6297</td>\n",
       "      <td>Nike</td>\n",
       "    </tr>\n",
       "  </tbody>\n",
       "</table>\n",
       "<p>3268 rows × 3 columns</p>\n",
       "</div>"
      ],
      "text/plain": [
       "                                                    Listing Price  Sale Price  \\\n",
       "Product Name                                                                    \n",
       "Women's adidas Originals NMD_Racer Primeknit Shoes          14999        7499   \n",
       "Women's adidas Originals Sleek Shoes                         7599        3799   \n",
       "Women's adidas Swim Puka Slippers                             999         599   \n",
       "Women's adidas Sport Inspired Questar Ride Shoes             6999        3499   \n",
       "Women's adidas Originals Taekwondo Shoes                     7999        3999   \n",
       "...                                                           ...         ...   \n",
       "Air Jordan 8 Retro                                          15995       12797   \n",
       "Nike Phantom Venom Club IC                                   4995        3497   \n",
       "Nike Mercurial Superfly 7 Academy TF                         8495        5947   \n",
       "Nike Air Max 98                                                 0       16995   \n",
       "Nike P-6000 SE                                               8995        6297   \n",
       "\n",
       "                                                                      Brand  \n",
       "Product Name                                                                 \n",
       "Women's adidas Originals NMD_Racer Primeknit Shoes  Adidas Adidas ORIGINALS  \n",
       "Women's adidas Originals Sleek Shoes                       Adidas ORIGINALS  \n",
       "Women's adidas Swim Puka Slippers                         Adidas CORE / NEO  \n",
       "Women's adidas Sport Inspired Questar Ride Shoes          Adidas CORE / NEO  \n",
       "Women's adidas Originals Taekwondo Shoes                   Adidas ORIGINALS  \n",
       "...                                                                     ...  \n",
       "Air Jordan 8 Retro                                                     Nike  \n",
       "Nike Phantom Venom Club IC                                             Nike  \n",
       "Nike Mercurial Superfly 7 Academy TF                                   Nike  \n",
       "Nike Air Max 98                                                        Nike  \n",
       "Nike P-6000 SE                                                         Nike  \n",
       "\n",
       "[3268 rows x 3 columns]"
      ]
     },
     "execution_count": 17,
     "metadata": {},
     "output_type": "execute_result"
    }
   ],
   "source": [
    "newdf"
   ]
  },
  {
   "cell_type": "markdown",
   "id": "efaa350b-b22a-4b43-8a0b-021b2578b135",
   "metadata": {},
   "source": [
    "## Move decimal to the left in Sale Price column"
   ]
  },
  {
   "cell_type": "code",
   "execution_count": 21,
   "id": "4f2a0aeb-639d-4db1-b991-d29474e88f19",
   "metadata": {},
   "outputs": [],
   "source": [
    "newdf['Sale Price'] = newdf['Sale Price'].div(100).round(2)"
   ]
  },
  {
   "cell_type": "markdown",
   "id": "45ea2c09-69d3-4198-b14a-0371a43cdc71",
   "metadata": {},
   "source": [
    "## Count of Brands"
   ]
  },
  {
   "cell_type": "code",
   "execution_count": 34,
   "id": "e4edeb49-401c-48bf-9e0c-6d7a4ea51d67",
   "metadata": {},
   "outputs": [
    {
     "data": {
      "text/plain": [
       "Brand\n",
       "Adidas Adidas ORIGINALS        1\n",
       "Adidas CORE / NEO           1111\n",
       "Adidas ORIGINALS             907\n",
       "Adidas SPORT PERFORMANCE     606\n",
       "Nike                         643\n",
       "dtype: int64"
      ]
     },
     "execution_count": 34,
     "metadata": {},
     "output_type": "execute_result"
    }
   ],
   "source": [
    "brandpivot = newdf.pivot_table(index='Brand', aggfunc='size', fill_value=0)\n",
    "brandpivot"
   ]
  },
  {
   "cell_type": "markdown",
   "id": "ddb314de-e523-4482-8ec1-ea1c6bac8a78",
   "metadata": {},
   "source": [
    "## Average Sale Price Per Brand"
   ]
  },
  {
   "cell_type": "code",
   "execution_count": 33,
   "id": "227f6b1b-00ce-4ac5-953e-dda73e574553",
   "metadata": {},
   "outputs": [
    {
     "data": {
      "text/html": [
       "<div>\n",
       "<style scoped>\n",
       "    .dataframe tbody tr th:only-of-type {\n",
       "        vertical-align: middle;\n",
       "    }\n",
       "\n",
       "    .dataframe tbody tr th {\n",
       "        vertical-align: top;\n",
       "    }\n",
       "\n",
       "    .dataframe thead th {\n",
       "        text-align: right;\n",
       "    }\n",
       "</style>\n",
       "<table border=\"1\" class=\"dataframe\">\n",
       "  <thead>\n",
       "    <tr style=\"text-align: right;\">\n",
       "      <th></th>\n",
       "      <th>Sale Price</th>\n",
       "    </tr>\n",
       "    <tr>\n",
       "      <th>Brand</th>\n",
       "      <th></th>\n",
       "    </tr>\n",
       "  </thead>\n",
       "  <tbody>\n",
       "    <tr>\n",
       "      <th>Adidas Adidas ORIGINALS</th>\n",
       "      <td>74.990000</td>\n",
       "    </tr>\n",
       "    <tr>\n",
       "      <th>Adidas CORE / NEO</th>\n",
       "      <td>31.162124</td>\n",
       "    </tr>\n",
       "    <tr>\n",
       "      <th>Adidas ORIGINALS</th>\n",
       "      <td>68.116792</td>\n",
       "    </tr>\n",
       "    <tr>\n",
       "      <th>Adidas SPORT PERFORMANCE</th>\n",
       "      <td>63.227426</td>\n",
       "    </tr>\n",
       "    <tr>\n",
       "      <th>Nike</th>\n",
       "      <td>102.136765</td>\n",
       "    </tr>\n",
       "  </tbody>\n",
       "</table>\n",
       "</div>"
      ],
      "text/plain": [
       "                          Sale Price\n",
       "Brand                               \n",
       "Adidas Adidas ORIGINALS    74.990000\n",
       "Adidas CORE / NEO          31.162124\n",
       "Adidas ORIGINALS           68.116792\n",
       "Adidas SPORT PERFORMANCE   63.227426\n",
       "Nike                      102.136765"
      ]
     },
     "execution_count": 33,
     "metadata": {},
     "output_type": "execute_result"
    }
   ],
   "source": [
    "df_pivot = pd.pivot_table(newdf, values=['Sale Price'], index=['Brand'], aggfunc=np.average)\n",
    "df_pivot"
   ]
  },
  {
   "cell_type": "code",
   "execution_count": 38,
   "id": "dfa007aa-ea06-48fa-89d6-58d3239a721a",
   "metadata": {},
   "outputs": [
    {
     "name": "stdout",
     "output_type": "stream",
     "text": [
      "3268\n"
     ]
    }
   ],
   "source": [
    "total = newdf['Brand'].count()\n",
    "print (total)"
   ]
  },
  {
   "cell_type": "code",
   "execution_count": null,
   "id": "daf043c0-9ccd-4579-a9c7-8e4da43453bb",
   "metadata": {},
   "outputs": [],
   "source": []
  }
 ],
 "metadata": {
  "kernelspec": {
   "display_name": "Python 3",
   "language": "python",
   "name": "python3"
  },
  "language_info": {
   "codemirror_mode": {
    "name": "ipython",
    "version": 3
   },
   "file_extension": ".py",
   "mimetype": "text/x-python",
   "name": "python",
   "nbconvert_exporter": "python",
   "pygments_lexer": "ipython3",
   "version": "3.8.8"
  }
 },
 "nbformat": 4,
 "nbformat_minor": 5
}
