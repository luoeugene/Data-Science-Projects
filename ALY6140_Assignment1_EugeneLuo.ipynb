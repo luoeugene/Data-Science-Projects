{
 "cells": [
  {
   "cell_type": "markdown",
   "metadata": {},
   "source": [
    "  * Statistics Functions"
   ]
  },
  {
   "cell_type": "code",
   "execution_count": 11,
   "metadata": {},
   "outputs": [],
   "source": [
    "#Import necessary libraries\n",
    "import pandas as pd\n",
    "import numpy as np"
   ]
  },
  {
   "cell_type": "markdown",
   "metadata": {},
   "source": [
    "## `GRADED [1]`: Provided below are functions that are:\n",
    "- completely defined: `add_numbers`;\n",
    "- partially defined: `min_square`; _and_\n",
    "- not defined at all: `time_squares`\n",
    "\n",
    " 1. Complete `min_square` so that it returns the minimum of (square root of `a` and square root of `b`)\n",
    " 2. Write a function called `time_squares` that returns the multiplication of the square root of `a` and the square root of `b`.\n",
    " 3. Assume both a and b are positive numbers."
   ]
  },
  {
   "cell_type": "code",
   "execution_count": 67,
   "metadata": {},
   "outputs": [
    {
     "data": {
      "text/plain": [
       "2.4494897427831783"
      ]
     },
     "execution_count": 67,
     "metadata": {},
     "output_type": "execute_result"
    }
   ],
   "source": [
    "# [1] YOUR ANSWER HERE:\n",
    "\n",
    "def add_numbers(x, y):\n",
    "    result = x + y\n",
    "    return result\n",
    "\n",
    "def min_square(a, b):\n",
    "    # Write code to return the lower of (minimum of) square root of a and square root of b\n",
    "    result =  min(np.sqrt(a), np.sqrt(b))\n",
    "    return result\n",
    "\n",
    "def time_squares(a, b):\n",
    "    result = np.sqrt(a) * np.sqrt(b)\n",
    "    return result\n"
   ]
  },
  {
   "cell_type": "markdown",
   "metadata": {},
   "source": [
    "## `GRADED [2]`: \n",
    "Write a function called `personal_info` that takes a a last name, age, and a home town (a total of 3 arguments) and returns a full sentence string with the following content and format: `Your last name is [name], you are [age] years old, and you live in [city].`--where the values in square brackets are the actual values of the three arguments provided by the function. \n",
    "\n",
    "- Please make sure that you follow the format and grammar of the sentence exactly as defined and that you use `f-string` Python string formatting--any other type of formatting will receive reduced points.\n",
    "\n",
    "- Please properly __capitalize__ the city name\n",
    "\n",
    "`Hint`: Your string shold follow the Python f-strings formatting functionality. https://realpython.com/python-f-strings/"
   ]
  },
  {
   "cell_type": "code",
   "execution_count": 112,
   "metadata": {},
   "outputs": [],
   "source": [
    "def personal_info(name, age, city):\n",
    "    city = city.title()\n",
    "    print(f'Your last name is {name}, you are {age} years old, and you live in {city}.')"
   ]
  },
  {
   "cell_type": "code",
   "execution_count": 113,
   "metadata": {},
   "outputs": [
    {
     "name": "stdout",
     "output_type": "stream",
     "text": [
      "Your last name is Smith, you are 30 years old, and you live in Boston.\n"
     ]
    }
   ],
   "source": [
    "personal_info('Smith', 30, 'boston')  # please do not modify this cell"
   ]
  },
  {
   "cell_type": "markdown",
   "metadata": {
    "collapsed": true
   },
   "source": [
    "## `GRADED [3]`: \n",
    "Using a `while` loop: loop over every sequential _odd_ number between `2` and `29` (__`inclusive`__); in the same `while` loop print __`only`__ every 3rd sequential of those odd numnbers you have encountered in the loop."
   ]
  },
  {
   "cell_type": "code",
   "execution_count": 111,
   "metadata": {},
   "outputs": [
    {
     "name": "stdout",
     "output_type": "stream",
     "text": [
      "7\n",
      "13\n",
      "19\n",
      "25\n"
     ]
    }
   ],
   "source": [
    "number = 2\n",
    "seq = 0\n",
    "while number < 30:\n",
    "    if number % 2 != 0:\n",
    "        seq+=1\n",
    "        if seq == 3:\n",
    "            print(number)\n",
    "            seq = 0\n",
    "    number += 1"
   ]
  },
  {
   "cell_type": "markdown",
   "metadata": {},
   "source": [
    "## `GRADED [4]`: \n",
    "Define a function called `length_converter` that takes as an argument a length in `meters` and __prints__ the equivalent distance in `miles` using the following sentence: `Original length was [..] meters, which equals [..] miles.`\n",
    "\n",
    "Please round your result to __2 decimal places__."
   ]
  },
  {
   "cell_type": "code",
   "execution_count": 36,
   "metadata": {},
   "outputs": [],
   "source": [
    "def length_converter(meters):\n",
    "    miles = (meters * 0.000621371)\n",
    "    print(\"Original length was %.2f meters, which equals %.2f miles\" %(meters, miles))\n"
   ]
  },
  {
   "cell_type": "code",
   "execution_count": 37,
   "metadata": {},
   "outputs": [
    {
     "name": "stdout",
     "output_type": "stream",
     "text": [
      "Original length was 5000.00 meters, which equals 3.11 miles\n"
     ]
    }
   ],
   "source": [
    "length_converter(5000)  # please do not modify this cell"
   ]
  },
  {
   "cell_type": "markdown",
   "metadata": {},
   "source": [
    "## `GRADED [5]`: \n",
    "Given the following dictionary, please write code to calcuate the __median__ and __standard deviation__ of annual salary for those CEOs."
   ]
  },
  {
   "cell_type": "code",
   "execution_count": 115,
   "metadata": {},
   "outputs": [],
   "source": [
    "company_dict = {\n",
    "    'Satya Nadella': ['Microsoft', '$42,910,215'],\n",
    "    'Mark Zuckerberg': ['Facebook', '$1'],\n",
    "    'Jeff Bezos': ['Amazon', '$81,840'],\n",
    "    'Tim Cook': ['Apple', '$3,000,000']    \n",
    "} "
   ]
  },
  {
   "cell_type": "code",
   "execution_count": 139,
   "metadata": {},
   "outputs": [
    {
     "name": "stdout",
     "output_type": "stream",
     "text": [
      "1    1540920.0\n",
      "dtype: float64\n",
      "1    2.098790e+07\n",
      "dtype: float64\n"
     ]
    }
   ],
   "source": [
    "df = pd.DataFrame.from_dict(company_dict)\n",
    "df = df.T\n",
    "df[df.columns[1:]] = df[df.columns[1:]].replace('[\\$,]', '', regex=True).astype(float)\n",
    "df\n",
    "\n",
    "print(df.median())\n",
    "print(df.std())"
   ]
  },
  {
   "cell_type": "code",
   "execution_count": null,
   "metadata": {},
   "outputs": [],
   "source": []
  }
 ],
 "metadata": {
  "kernelspec": {
   "display_name": "Python 3",
   "language": "python",
   "name": "python3"
  },
  "language_info": {
   "codemirror_mode": {
    "name": "ipython",
    "version": 3
   },
   "file_extension": ".py",
   "mimetype": "text/x-python",
   "name": "python",
   "nbconvert_exporter": "python",
   "pygments_lexer": "ipython3",
   "version": "3.8.5"
  }
 },
 "nbformat": 4,
 "nbformat_minor": 2
}
