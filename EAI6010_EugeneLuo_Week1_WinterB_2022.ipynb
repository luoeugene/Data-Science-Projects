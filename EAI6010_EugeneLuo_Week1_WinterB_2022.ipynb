{
 "cells": [
  {
   "cell_type": "markdown",
   "metadata": {
    "id": "p8Q-QLttRgML",
    "toc": true
   },
   "source": [
    "<h1>Table of Contents<span class=\"tocSkip\"></span></h1>\n",
    "<div class=\"toc\"><ul class=\"toc-item\"></ul></div>"
   ]
  },
  {
   "cell_type": "markdown",
   "metadata": {
    "id": "of9sjvBgRgMQ"
   },
   "source": [
    "**Litecoin Price History**\n",
    "\n",
    "This tutorial, we're going to pull Litecoin cryptocurrency prices from a public API and download them as Excel files. I need to import two libraries first: *requests*  (to pull data from the web) and *pandas* to process it. May require `pip install requests`"
   ]
  },
  {
   "cell_type": "code",
   "execution_count": 1,
   "metadata": {
    "id": "hWS6pB4SRgMR",
    "scrolled": true
   },
   "outputs": [],
   "source": [
    "import requests\n",
    "import pandas as pd"
   ]
  },
  {
   "cell_type": "markdown",
   "metadata": {
    "id": "WlRXMXvHRgMT"
   },
   "source": [
    "I have a predefined function that simplifies the process of importing data from Cryptowatch (for reference, check their docs)."
   ]
  },
  {
   "cell_type": "code",
   "execution_count": 2,
   "metadata": {
    "id": "eoP7Fs7JRgMU",
    "scrolled": true
   },
   "outputs": [],
   "source": [
    "def get_historic_price(symbol, exchange='bitfinex', after='2018-09-01'):\n",
    "    url = 'https://api.cryptowat.ch/markets/{exchange}/{symbol}usd/ohlc'.format(\n",
    "        symbol=symbol, exchange=exchange)\n",
    "    resp = requests.get(url, params={\n",
    "        'periods': '3600',\n",
    "        'after': str(int(pd.Timestamp(after).timestamp()))\n",
    "    })\n",
    "    resp.raise_for_status()\n",
    "    data = resp.json()\n",
    "    df = pd.DataFrame(data['result']['3600'], columns=[\n",
    "        'CloseTime', 'OpenPrice', 'HighPrice', 'LowPrice', 'ClosePrice', 'Volume', 'NA'\n",
    "    ])\n",
    "    df['CloseTime'] = pd.to_datetime(df['CloseTime'], unit='s')\n",
    "    df.set_index('CloseTime', inplace=True)\n",
    "    return df"
   ]
  },
  {
   "cell_type": "markdown",
   "metadata": {
    "id": "wlc6-ml3RgMU"
   },
   "source": [
    "I will now pull data from Litecoin, the one of the most popular cryptocurrencies, for the last 100 days:"
   ]
  },
  {
   "cell_type": "code",
   "execution_count": 3,
   "metadata": {
    "colab": {
     "base_uri": "https://localhost:8080/",
     "height": 0
    },
    "id": "fsUx8Yz-RgMV",
    "outputId": "a897641a-2cea-46a4-a2ef-1d693bd71abb",
    "scrolled": true
   },
   "outputs": [
    {
     "data": {
      "text/plain": [
       "Timestamp('2021-11-17 14:32:26.348207')"
      ]
     },
     "execution_count": 3,
     "metadata": {},
     "output_type": "execute_result"
    }
   ],
   "source": [
    "last_100days = (pd.Timestamp.now() - pd.offsets.Day(100))\n",
    "last_100days"
   ]
  },
  {
   "cell_type": "code",
   "execution_count": 4,
   "metadata": {
    "colab": {
     "base_uri": "https://localhost:8080/",
     "height": 235
    },
    "id": "ARA_BWkuRgMW",
    "outputId": "fd4da817-e9ab-4e6b-a643-29130f527cc3",
    "scrolled": true
   },
   "outputs": [
    {
     "data": {
      "text/html": [
       "\n",
       "  <div id=\"df-42471683-3f35-4e82-87ae-0ccab6085a4e\">\n",
       "    <div class=\"colab-df-container\">\n",
       "      <div>\n",
       "<style scoped>\n",
       "    .dataframe tbody tr th:only-of-type {\n",
       "        vertical-align: middle;\n",
       "    }\n",
       "\n",
       "    .dataframe tbody tr th {\n",
       "        vertical-align: top;\n",
       "    }\n",
       "\n",
       "    .dataframe thead th {\n",
       "        text-align: right;\n",
       "    }\n",
       "</style>\n",
       "<table border=\"1\" class=\"dataframe\">\n",
       "  <thead>\n",
       "    <tr style=\"text-align: right;\">\n",
       "      <th></th>\n",
       "      <th>OpenPrice</th>\n",
       "      <th>HighPrice</th>\n",
       "      <th>LowPrice</th>\n",
       "      <th>ClosePrice</th>\n",
       "      <th>Volume</th>\n",
       "      <th>NA</th>\n",
       "    </tr>\n",
       "    <tr>\n",
       "      <th>CloseTime</th>\n",
       "      <th></th>\n",
       "      <th></th>\n",
       "      <th></th>\n",
       "      <th></th>\n",
       "      <th></th>\n",
       "      <th></th>\n",
       "    </tr>\n",
       "  </thead>\n",
       "  <tbody>\n",
       "    <tr>\n",
       "      <th>2022-02-25 11:00:00</th>\n",
       "      <td>104.00</td>\n",
       "      <td>104.06</td>\n",
       "      <td>102.97</td>\n",
       "      <td>103.24</td>\n",
       "      <td>60.985051</td>\n",
       "      <td>6310.734106</td>\n",
       "    </tr>\n",
       "    <tr>\n",
       "      <th>2022-02-25 12:00:00</th>\n",
       "      <td>102.90</td>\n",
       "      <td>104.90</td>\n",
       "      <td>102.77</td>\n",
       "      <td>104.76</td>\n",
       "      <td>464.859016</td>\n",
       "      <td>48320.635680</td>\n",
       "    </tr>\n",
       "    <tr>\n",
       "      <th>2022-02-25 13:00:00</th>\n",
       "      <td>104.72</td>\n",
       "      <td>106.06</td>\n",
       "      <td>104.34</td>\n",
       "      <td>105.92</td>\n",
       "      <td>639.287801</td>\n",
       "      <td>67300.435644</td>\n",
       "    </tr>\n",
       "    <tr>\n",
       "      <th>2022-02-25 14:00:00</th>\n",
       "      <td>106.16</td>\n",
       "      <td>107.05</td>\n",
       "      <td>105.84</td>\n",
       "      <td>106.22</td>\n",
       "      <td>1070.768960</td>\n",
       "      <td>113881.710686</td>\n",
       "    </tr>\n",
       "    <tr>\n",
       "      <th>2022-02-25 15:00:00</th>\n",
       "      <td>105.88</td>\n",
       "      <td>106.14</td>\n",
       "      <td>105.38</td>\n",
       "      <td>105.42</td>\n",
       "      <td>559.251871</td>\n",
       "      <td>59161.848546</td>\n",
       "    </tr>\n",
       "  </tbody>\n",
       "</table>\n",
       "</div>\n",
       "      <button class=\"colab-df-convert\" onclick=\"convertToInteractive('df-42471683-3f35-4e82-87ae-0ccab6085a4e')\"\n",
       "              title=\"Convert this dataframe to an interactive table.\"\n",
       "              style=\"display:none;\">\n",
       "        \n",
       "  <svg xmlns=\"http://www.w3.org/2000/svg\" height=\"24px\"viewBox=\"0 0 24 24\"\n",
       "       width=\"24px\">\n",
       "    <path d=\"M0 0h24v24H0V0z\" fill=\"none\"/>\n",
       "    <path d=\"M18.56 5.44l.94 2.06.94-2.06 2.06-.94-2.06-.94-.94-2.06-.94 2.06-2.06.94zm-11 1L8.5 8.5l.94-2.06 2.06-.94-2.06-.94L8.5 2.5l-.94 2.06-2.06.94zm10 10l.94 2.06.94-2.06 2.06-.94-2.06-.94-.94-2.06-.94 2.06-2.06.94z\"/><path d=\"M17.41 7.96l-1.37-1.37c-.4-.4-.92-.59-1.43-.59-.52 0-1.04.2-1.43.59L10.3 9.45l-7.72 7.72c-.78.78-.78 2.05 0 2.83L4 21.41c.39.39.9.59 1.41.59.51 0 1.02-.2 1.41-.59l7.78-7.78 2.81-2.81c.8-.78.8-2.07 0-2.86zM5.41 20L4 18.59l7.72-7.72 1.47 1.35L5.41 20z\"/>\n",
       "  </svg>\n",
       "      </button>\n",
       "      \n",
       "  <style>\n",
       "    .colab-df-container {\n",
       "      display:flex;\n",
       "      flex-wrap:wrap;\n",
       "      gap: 12px;\n",
       "    }\n",
       "\n",
       "    .colab-df-convert {\n",
       "      background-color: #E8F0FE;\n",
       "      border: none;\n",
       "      border-radius: 50%;\n",
       "      cursor: pointer;\n",
       "      display: none;\n",
       "      fill: #1967D2;\n",
       "      height: 32px;\n",
       "      padding: 0 0 0 0;\n",
       "      width: 32px;\n",
       "    }\n",
       "\n",
       "    .colab-df-convert:hover {\n",
       "      background-color: #E2EBFA;\n",
       "      box-shadow: 0px 1px 2px rgba(60, 64, 67, 0.3), 0px 1px 3px 1px rgba(60, 64, 67, 0.15);\n",
       "      fill: #174EA6;\n",
       "    }\n",
       "\n",
       "    [theme=dark] .colab-df-convert {\n",
       "      background-color: #3B4455;\n",
       "      fill: #D2E3FC;\n",
       "    }\n",
       "\n",
       "    [theme=dark] .colab-df-convert:hover {\n",
       "      background-color: #434B5C;\n",
       "      box-shadow: 0px 1px 3px 1px rgba(0, 0, 0, 0.15);\n",
       "      filter: drop-shadow(0px 1px 2px rgba(0, 0, 0, 0.3));\n",
       "      fill: #FFFFFF;\n",
       "    }\n",
       "  </style>\n",
       "\n",
       "      <script>\n",
       "        const buttonEl =\n",
       "          document.querySelector('#df-42471683-3f35-4e82-87ae-0ccab6085a4e button.colab-df-convert');\n",
       "        buttonEl.style.display =\n",
       "          google.colab.kernel.accessAllowed ? 'block' : 'none';\n",
       "\n",
       "        async function convertToInteractive(key) {\n",
       "          const element = document.querySelector('#df-42471683-3f35-4e82-87ae-0ccab6085a4e');\n",
       "          const dataTable =\n",
       "            await google.colab.kernel.invokeFunction('convertToInteractive',\n",
       "                                                     [key], {});\n",
       "          if (!dataTable) return;\n",
       "\n",
       "          const docLinkHtml = 'Like what you see? Visit the ' +\n",
       "            '<a target=\"_blank\" href=https://colab.research.google.com/notebooks/data_table.ipynb>data table notebook</a>'\n",
       "            + ' to learn more about interactive tables.';\n",
       "          element.innerHTML = '';\n",
       "          dataTable['output_type'] = 'display_data';\n",
       "          await google.colab.output.renderOutput(dataTable, element);\n",
       "          const docLink = document.createElement('div');\n",
       "          docLink.innerHTML = docLinkHtml;\n",
       "          element.appendChild(docLink);\n",
       "        }\n",
       "      </script>\n",
       "    </div>\n",
       "  </div>\n",
       "  "
      ],
      "text/plain": [
       "                     OpenPrice  HighPrice  ...       Volume             NA\n",
       "CloseTime                                  ...                            \n",
       "2022-02-25 11:00:00     104.00     104.06  ...    60.985051    6310.734106\n",
       "2022-02-25 12:00:00     102.90     104.90  ...   464.859016   48320.635680\n",
       "2022-02-25 13:00:00     104.72     106.06  ...   639.287801   67300.435644\n",
       "2022-02-25 14:00:00     106.16     107.05  ...  1070.768960  113881.710686\n",
       "2022-02-25 15:00:00     105.88     106.14  ...   559.251871   59161.848546\n",
       "\n",
       "[5 rows x 6 columns]"
      ]
     },
     "execution_count": 4,
     "metadata": {},
     "output_type": "execute_result"
    }
   ],
   "source": [
    "ltc = get_historic_price('ltc', 'bitstamp', after=last_100days)\n",
    "ltc.tail()"
   ]
  },
  {
   "cell_type": "markdown",
   "metadata": {
    "id": "_eTCCN76RgMX"
   },
   "source": [
    "Let's plot it:"
   ]
  },
  {
   "cell_type": "code",
   "execution_count": 5,
   "metadata": {
    "colab": {
     "base_uri": "https://localhost:8080/",
     "height": 449
    },
    "id": "vpNRPeheRgMX",
    "outputId": "796a0764-1c66-4fa0-f5c5-dfe7b2c1affb",
    "scrolled": false
   },
   "outputs": [
    {
     "data": {
      "text/plain": [
       "<matplotlib.axes._subplots.AxesSubplot at 0x7fa1d06df310>"
      ]
     },
     "execution_count": 5,
     "metadata": {},
     "output_type": "execute_result"
    },
    {
     "data": {
      "image/png": "[encoded data removed]",
      "text/plain": [
       "<Figure size 1080x504 with 1 Axes>"
      ]
     },
     "metadata": {
      "needs_background": "light"
     },
     "output_type": "display_data"
    }
   ],
   "source": [
    "ltc['ClosePrice'].plot(figsize=(15, 7))"
   ]
  },
  {
   "cell_type": "markdown",
   "metadata": {
    "id": "3HoaRjAIRgMY"
   },
   "source": [
    "**Dynamic plots with Bokeh**"
   ]
  },
  {
   "cell_type": "markdown",
   "metadata": {
    "id": "IV_oDeCiRgMY"
   },
   "source": [
    "May need to `pip install bokeh`"
   ]
  },
  {
   "cell_type": "code",
   "execution_count": 6,
   "metadata": {
    "colab": {
     "base_uri": "https://localhost:8080/",
     "height": 417
    },
    "id": "HWZtWww4RgMY",
    "outputId": "074c8926-59f1-4930-dc1c-6f772f493a8f"
   },
   "outputs": [
    {
     "data": {
      "application/javascript": [
       "\n",
       "(function(root) {\n",
       "  function now() {\n",
       "    return new Date();\n",
       "  }\n",
       "\n",
       "  var force = true;\n",
       "\n",
       "  if (typeof root._bokeh_onload_callbacks === \"undefined\" || force === true) {\n",
       "    root._bokeh_onload_callbacks = [];\n",
       "    root._bokeh_is_loading = undefined;\n",
       "  }\n",
       "\n",
       "  var JS_MIME_TYPE = 'application/javascript';\n",
       "  var HTML_MIME_TYPE = 'text/html';\n",
       "  var EXEC_MIME_TYPE = 'application/vnd.bokehjs_exec.v0+json';\n",
       "  var CLASS_NAME = 'output_bokeh rendered_html';\n",
       "\n",
       "  /**\n",
       "   * Render data to the DOM node\n",
       "   */\n",
       "  function render(props, node) {\n",
       "    var script = document.createElement(\"script\");\n",
       "    node.appendChild(script);\n",
       "  }\n",
       "\n",
       "  /**\n",
       "   * Handle when an output is cleared or removed\n",
       "   */\n",
       "  function handleClearOutput(event, handle) {\n",
       "    var cell = handle.cell;\n",
       "\n",
       "    var id = cell.output_area._bokeh_element_id;\n",
       "    var server_id = cell.output_area._bokeh_server_id;\n",
       "    // Clean up Bokeh references\n",
       "    if (id != null && id in Bokeh.index) {\n",
       "      Bokeh.index[id].model.document.clear();\n",
       "      delete Bokeh.index[id];\n",
       "    }\n",
       "\n",
       "    if (server_id !== undefined) {\n",
       "      // Clean up Bokeh references\n",
       "      var cmd = \"from bokeh.io.state import curstate; print(curstate().uuid_to_server['\" + server_id + \"'].get_sessions()[0].document.roots[0]._id)\";\n",
       "      cell.notebook.kernel.execute(cmd, {\n",
       "        iopub: {\n",
       "          output: function(msg) {\n",
       "            var id = msg.content.text.trim();\n",
       "            if (id in Bokeh.index) {\n",
       "              Bokeh.index[id].model.document.clear();\n",
       "              delete Bokeh.index[id];\n",
       "            }\n",
       "          }\n",
       "        }\n",
       "      });\n",
       "      // Destroy server and session\n",
       "      var cmd = \"import bokeh.io.notebook as ion; ion.destroy_server('\" + server_id + \"')\";\n",
       "      cell.notebook.kernel.execute(cmd);\n",
       "    }\n",
       "  }\n",
       "\n",
       "  /**\n",
       "   * Handle when a new output is added\n",
       "   */\n",
       "  function handleAddOutput(event, handle) {\n",
       "    var output_area = handle.output_area;\n",
       "    var output = handle.output;\n",
       "\n",
       "    // limit handleAddOutput to display_data with EXEC_MIME_TYPE content only\n",
       "    if ((output.output_type != \"display_data\") || (!Object.prototype.hasOwnProperty.call(output.data, EXEC_MIME_TYPE))) {\n",
       "      return\n",
       "    }\n",
       "\n",
       "    var toinsert = output_area.element.find(\".\" + CLASS_NAME.split(' ')[0]);\n",
       "\n",
       "    if (output.metadata[EXEC_MIME_TYPE][\"id\"] !== undefined) {\n",
       "      toinsert[toinsert.length - 1].firstChild.textContent = output.data[JS_MIME_TYPE];\n",
       "      // store reference to embed id on output_area\n",
       "      output_area._bokeh_element_id = output.metadata[EXEC_MIME_TYPE][\"id\"];\n",
       "    }\n",
       "    if (output.metadata[EXEC_MIME_TYPE][\"server_id\"] !== undefined) {\n",
       "      var bk_div = document.createElement(\"div\");\n",
       "      bk_div.innerHTML = output.data[HTML_MIME_TYPE];\n",
       "      var script_attrs = bk_div.children[0].attributes;\n",
       "      for (var i = 0; i < script_attrs.length; i++) {\n",
       "        toinsert[toinsert.length - 1].firstChild.setAttribute(script_attrs[i].name, script_attrs[i].value);\n",
       "        toinsert[toinsert.length - 1].firstChild.textContent = bk_div.children[0].textContent\n",
       "      }\n",
       "      // store reference to server id on output_area\n",
       "      output_area._bokeh_server_id = output.metadata[EXEC_MIME_TYPE][\"server_id\"];\n",
       "    }\n",
       "  }\n",
       "\n",
       "  function register_renderer(events, OutputArea) {\n",
       "\n",
       "    function append_mime(data, metadata, element) {\n",
       "      // create a DOM node to render to\n",
       "      var toinsert = this.create_output_subarea(\n",
       "        metadata,\n",
       "        CLASS_NAME,\n",
       "        EXEC_MIME_TYPE\n",
       "      );\n",
       "      this.keyboard_manager.register_events(toinsert);\n",
       "      // Render to node\n",
       "      var props = {data: data, metadata: metadata[EXEC_MIME_TYPE]};\n",
       "      render(props, toinsert[toinsert.length - 1]);\n",
       "      element.append(toinsert);\n",
       "      return toinsert\n",
       "    }\n",
       "\n",
       "    /* Handle when an output is cleared or removed */\n",
       "    events.on('clear_output.CodeCell', handleClearOutput);\n",
       "    events.on('delete.Cell', handleClearOutput);\n",
       "\n",
       "    /* Handle when a new output is added */\n",
       "    events.on('output_added.OutputArea', handleAddOutput);\n",
       "\n",
       "    /**\n",
       "     * Register the mime type and append_mime function with output_area\n",
       "     */\n",
       "    OutputArea.prototype.register_mime_type(EXEC_MIME_TYPE, append_mime, {\n",
       "      /* Is output safe? */\n",
       "      safe: true,\n",
       "      /* Index of renderer in `output_area.display_order` */\n",
       "      index: 0\n",
       "    });\n",
       "  }\n",
       "\n",
       "  // register the mime type if in Jupyter Notebook environment and previously unregistered\n",
       "  if (root.Jupyter !== undefined) {\n",
       "    var events = require('base/js/events');\n",
       "    var OutputArea = require('notebook/js/outputarea').OutputArea;\n",
       "\n",
       "    if (OutputArea.prototype.mime_types().indexOf(EXEC_MIME_TYPE) == -1) {\n",
       "      register_renderer(events, OutputArea);\n",
       "    }\n",
       "  }\n",
       "\n",
       "  \n",
       "  if (typeof (root._bokeh_timeout) === \"undefined\" || force === true) {\n",
       "    root._bokeh_timeout = Date.now() + 5000;\n",
       "    root._bokeh_failed_load = false;\n",
       "  }\n",
       "\n",
       "  var NB_LOAD_WARNING = {'data': {'text/html':\n",
       "     \"<div style='background-color: #fdd'>\\n\"+\n",
       "     \"<p>\\n\"+\n",
       "     \"BokehJS does not appear to have successfully loaded. If loading BokehJS from CDN, this \\n\"+\n",
       "     \"may be due to a slow or bad network connection. Possible fixes:\\n\"+\n",
       "     \"</p>\\n\"+\n",
       "     \"<ul>\\n\"+\n",
       "     \"<li>re-rerun `output_notebook()` to attempt to load from CDN again, or</li>\\n\"+\n",
       "     \"<li>use INLINE resources instead, as so:</li>\\n\"+\n",
       "     \"</ul>\\n\"+\n",
       "     \"<code>\\n\"+\n",
       "     \"from bokeh.resources import INLINE\\n\"+\n",
       "     \"output_notebook(resources=INLINE)\\n\"+\n",
       "     \"</code>\\n\"+\n",
       "     \"</div>\"}};\n",
       "\n",
       "  function display_loaded() {\n",
       "    var el = document.getElementById(null);\n",
       "    if (el != null) {\n",
       "      el.textContent = \"BokehJS is loading...\";\n",
       "    }\n",
       "    if (root.Bokeh !== undefined) {\n",
       "      if (el != null) {\n",
       "        el.textContent = \"BokehJS \" + root.Bokeh.version + \" successfully loaded.\";\n",
       "      }\n",
       "    } else if (Date.now() < root._bokeh_timeout) {\n",
       "      setTimeout(display_loaded, 100)\n",
       "    }\n",
       "  }\n",
       "\n",
       "\n",
       "  function run_callbacks() {\n",
       "    try {\n",
       "      root._bokeh_onload_callbacks.forEach(function(callback) {\n",
       "        if (callback != null)\n",
       "          callback();\n",
       "      });\n",
       "    } finally {\n",
       "      delete root._bokeh_onload_callbacks\n",
       "    }\n",
       "    console.debug(\"Bokeh: all callbacks have finished\");\n",
       "  }\n",
       "\n",
       "  function load_libs(css_urls, js_urls, callback) {\n",
       "    if (css_urls == null) css_urls = [];\n",
       "    if (js_urls == null) js_urls = [];\n",
       "\n",
       "    root._bokeh_onload_callbacks.push(callback);\n",
       "    if (root._bokeh_is_loading > 0) {\n",
       "      console.debug(\"Bokeh: BokehJS is being loaded, scheduling callback at\", now());\n",
       "      return null;\n",
       "    }\n",
       "    if (js_urls == null || js_urls.length === 0) {\n",
       "      run_callbacks();\n",
       "      return null;\n",
       "    }\n",
       "    console.debug(\"Bokeh: BokehJS not loaded, scheduling load and callback at\", now());\n",
       "    root._bokeh_is_loading = css_urls.length + js_urls.length;\n",
       "\n",
       "    function on_load() {\n",
       "      root._bokeh_is_loading--;\n",
       "      if (root._bokeh_is_loading === 0) {\n",
       "        console.debug(\"Bokeh: all BokehJS libraries/stylesheets loaded\");\n",
       "        run_callbacks()\n",
       "      }\n",
       "    }\n",
       "\n",
       "    function on_error(url) {\n",
       "      console.error(\"failed to load \" + url);\n",
       "    }\n",
       "\n",
       "    for (let i = 0; i < css_urls.length; i++) {\n",
       "      const url = css_urls[i];\n",
       "      const element = document.createElement(\"link\");\n",
       "      element.onload = on_load;\n",
       "      element.onerror = on_error.bind(null, url);\n",
       "      element.rel = \"stylesheet\";\n",
       "      element.type = \"text/css\";\n",
       "      element.href = url;\n",
       "      console.debug(\"Bokeh: injecting link tag for BokehJS stylesheet: \", url);\n",
       "      document.body.appendChild(element);\n",
       "    }\n",
       "\n",
       "    const hashes = {\"https://cdn.bokeh.org/bokeh/release/bokeh-2.3.3.min.js\": \"dM3QQsP+wXdHg42wTqW85BjZQdLNNIXqlPw/BgKoExPmTG7ZLML4EGqLMfqHT6ON\", \"https://cdn.bokeh.org/bokeh/release/bokeh-tables-2.3.3.min.js\": \"8x57I4YuIfu8XyZfFo0XVr2WAT8EK4rh/uDe3wF7YuW2FNUSNEpJbsPaB1nJ2fz2\", \"https://cdn.bokeh.org/bokeh/release/bokeh-widgets-2.3.3.min.js\": \"3QTqdz9LyAm2i0sG5XTePsHec3UHWwVsrOL68SYRoAXsafvfAyqtQ+h440+qIBhS\"};\n",
       "\n",
       "    for (let i = 0; i < js_urls.length; i++) {\n",
       "      const url = js_urls[i];\n",
       "      const element = document.createElement('script');\n",
       "      element.onload = on_load;\n",
       "      element.onerror = on_error.bind(null, url);\n",
       "      element.async = false;\n",
       "      element.src = url;\n",
       "      if (url in hashes) {\n",
       "        element.crossOrigin = \"anonymous\";\n",
       "        element.integrity = \"sha384-\" + hashes[url];\n",
       "      }\n",
       "      console.debug(\"Bokeh: injecting script tag for BokehJS library: \", url);\n",
       "      document.head.appendChild(element);\n",
       "    }\n",
       "  };\n",
       "\n",
       "  function inject_raw_css(css) {\n",
       "    const element = document.createElement(\"style\");\n",
       "    element.appendChild(document.createTextNode(css));\n",
       "    document.body.appendChild(element);\n",
       "  }\n",
       "\n",
       "  \n",
       "  var js_urls = [\"https://cdn.bokeh.org/bokeh/release/bokeh-2.3.3.min.js\", \"https://cdn.bokeh.org/bokeh/release/bokeh-widgets-2.3.3.min.js\", \"https://cdn.bokeh.org/bokeh/release/bokeh-tables-2.3.3.min.js\"];\n",
       "  var css_urls = [];\n",
       "  \n",
       "\n",
       "  var inline_js = [\n",
       "    function(Bokeh) {\n",
       "      Bokeh.set_log_level(\"info\");\n",
       "    },\n",
       "    function(Bokeh) {\n",
       "    \n",
       "    \n",
       "    }\n",
       "  ];\n",
       "\n",
       "  function run_inline_js() {\n",
       "    \n",
       "    if (root.Bokeh !== undefined || force === true) {\n",
       "      \n",
       "    for (var i = 0; i < inline_js.length; i++) {\n",
       "      inline_js[i].call(root, root.Bokeh);\n",
       "    }\n",
       "    } else if (Date.now() < root._bokeh_timeout) {\n",
       "      setTimeout(run_inline_js, 100);\n",
       "    } else if (!root._bokeh_failed_load) {\n",
       "      console.log(\"Bokeh: BokehJS failed to load within specified timeout.\");\n",
       "      root._bokeh_failed_load = true;\n",
       "    } else if (force !== true) {\n",
       "      var cell = $(document.getElementById(null)).parents('.cell').data().cell;\n",
       "      cell.output_area.append_execute_result(NB_LOAD_WARNING)\n",
       "    }\n",
       "\n",
       "  }\n",
       "\n",
       "  if (root._bokeh_is_loading === 0) {\n",
       "    console.debug(\"Bokeh: BokehJS loaded, going straight to plotting\");\n",
       "    run_inline_js();\n",
       "  } else {\n",
       "    load_libs(css_urls, js_urls, function() {\n",
       "      console.debug(\"Bokeh: BokehJS plotting callback run at\", now());\n",
       "      run_inline_js();\n",
       "    });\n",
       "  }\n",
       "}(window));"
      ],
      "application/vnd.bokehjs_load.v0+json": "\n(function(root) {\n  function now() {\n    return new Date();\n  }\n\n  var force = true;\n\n  if (typeof root._bokeh_onload_callbacks === \"undefined\" || force === true) {\n    root._bokeh_onload_callbacks = [];\n    root._bokeh_is_loading = undefined;\n  }\n\n  \n\n  \n  if (typeof (root._bokeh_timeout) === \"undefined\" || force === true) {\n    root._bokeh_timeout = Date.now() + 5000;\n    root._bokeh_failed_load = false;\n  }\n\n  var NB_LOAD_WARNING = {'data': {'text/html':\n     \"<div style='background-color: #fdd'>\\n\"+\n     \"<p>\\n\"+\n     \"BokehJS does not appear to have successfully loaded. If loading BokehJS from CDN, this \\n\"+\n     \"may be due to a slow or bad network connection. Possible fixes:\\n\"+\n     \"</p>\\n\"+\n     \"<ul>\\n\"+\n     \"<li>re-rerun `output_notebook()` to attempt to load from CDN again, or</li>\\n\"+\n     \"<li>use INLINE resources instead, as so:</li>\\n\"+\n     \"</ul>\\n\"+\n     \"<code>\\n\"+\n     \"from bokeh.resources import INLINE\\n\"+\n     \"output_notebook(resources=INLINE)\\n\"+\n     \"</code>\\n\"+\n     \"</div>\"}};\n\n  function display_loaded() {\n    var el = document.getElementById(null);\n    if (el != null) {\n      el.textContent = \"BokehJS is loading...\";\n    }\n    if (root.Bokeh !== undefined) {\n      if (el != null) {\n        el.textContent = \"BokehJS \" + root.Bokeh.version + \" successfully loaded.\";\n      }\n    } else if (Date.now() < root._bokeh_timeout) {\n      setTimeout(display_loaded, 100)\n    }\n  }\n\n\n  function run_callbacks() {\n    try {\n      root._bokeh_onload_callbacks.forEach(function(callback) {\n        if (callback != null)\n          callback();\n      });\n    } finally {\n      delete root._bokeh_onload_callbacks\n    }\n    console.debug(\"Bokeh: all callbacks have finished\");\n  }\n\n  function load_libs(css_urls, js_urls, callback) {\n    if (css_urls == null) css_urls = [];\n    if (js_urls == null) js_urls = [];\n\n    root._bokeh_onload_callbacks.push(callback);\n    if (root._bokeh_is_loading > 0) {\n      console.debug(\"Bokeh: BokehJS is being loaded, scheduling callback at\", now());\n      return null;\n    }\n    if (js_urls == null || js_urls.length === 0) {\n      run_callbacks();\n      return null;\n    }\n    console.debug(\"Bokeh: BokehJS not loaded, scheduling load and callback at\", now());\n    root._bokeh_is_loading = css_urls.length + js_urls.length;\n\n    function on_load() {\n      root._bokeh_is_loading--;\n      if (root._bokeh_is_loading === 0) {\n        console.debug(\"Bokeh: all BokehJS libraries/stylesheets loaded\");\n        run_callbacks()\n      }\n    }\n\n    function on_error(url) {\n      console.error(\"failed to load \" + url);\n    }\n\n    for (let i = 0; i < css_urls.length; i++) {\n      const url = css_urls[i];\n      const element = document.createElement(\"link\");\n      element.onload = on_load;\n      element.onerror = on_error.bind(null, url);\n      element.rel = \"stylesheet\";\n      element.type = \"text/css\";\n      element.href = url;\n      console.debug(\"Bokeh: injecting link tag for BokehJS stylesheet: \", url);\n      document.body.appendChild(element);\n    }\n\n    const hashes = {\"https://cdn.bokeh.org/bokeh/release/bokeh-2.3.3.min.js\": \"dM3QQsP+wXdHg42wTqW85BjZQdLNNIXqlPw/BgKoExPmTG7ZLML4EGqLMfqHT6ON\", \"https://cdn.bokeh.org/bokeh/release/bokeh-tables-2.3.3.min.js\": \"8x57I4YuIfu8XyZfFo0XVr2WAT8EK4rh/uDe3wF7YuW2FNUSNEpJbsPaB1nJ2fz2\", \"https://cdn.bokeh.org/bokeh/release/bokeh-widgets-2.3.3.min.js\": \"3QTqdz9LyAm2i0sG5XTePsHec3UHWwVsrOL68SYRoAXsafvfAyqtQ+h440+qIBhS\"};\n\n    for (let i = 0; i < js_urls.length; i++) {\n      const url = js_urls[i];\n      const element = document.createElement('script');\n      element.onload = on_load;\n      element.onerror = on_error.bind(null, url);\n      element.async = false;\n      element.src = url;\n      if (url in hashes) {\n        element.crossOrigin = \"anonymous\";\n        element.integrity = \"sha384-\" + hashes[url];\n      }\n      console.debug(\"Bokeh: injecting script tag for BokehJS library: \", url);\n      document.head.appendChild(element);\n    }\n  };\n\n  function inject_raw_css(css) {\n    const element = document.createElement(\"style\");\n    element.appendChild(document.createTextNode(css));\n    document.body.appendChild(element);\n  }\n\n  \n  var js_urls = [\"https://cdn.bokeh.org/bokeh/release/bokeh-2.3.3.min.js\", \"https://cdn.bokeh.org/bokeh/release/bokeh-widgets-2.3.3.min.js\", \"https://cdn.bokeh.org/bokeh/release/bokeh-tables-2.3.3.min.js\"];\n  var css_urls = [];\n  \n\n  var inline_js = [\n    function(Bokeh) {\n      Bokeh.set_log_level(\"info\");\n    },\n    function(Bokeh) {\n    \n    \n    }\n  ];\n\n  function run_inline_js() {\n    \n    if (root.Bokeh !== undefined || force === true) {\n      \n    for (var i = 0; i < inline_js.length; i++) {\n      inline_js[i].call(root, root.Bokeh);\n    }\n    } else if (Date.now() < root._bokeh_timeout) {\n      setTimeout(run_inline_js, 100);\n    } else if (!root._bokeh_failed_load) {\n      console.log(\"Bokeh: BokehJS failed to load within specified timeout.\");\n      root._bokeh_failed_load = true;\n    } else if (force !== true) {\n      var cell = $(document.getElementById(null)).parents('.cell').data().cell;\n      cell.output_area.append_execute_result(NB_LOAD_WARNING)\n    }\n\n  }\n\n  if (root._bokeh_is_loading === 0) {\n    console.debug(\"Bokeh: BokehJS loaded, going straight to plotting\");\n    run_inline_js();\n  } else {\n    load_libs(css_urls, js_urls, function() {\n      console.debug(\"Bokeh: BokehJS plotting callback run at\", now());\n      run_inline_js();\n    });\n  }\n}(window));"
     },
     "metadata": {},
     "output_type": "display_data"
    },
    {
     "data": {
      "text/html": [
       "\n",
       "\n",
       "\n",
       "\n",
       "\n",
       "\n",
       "  <div class=\"bk-root\" id=\"8e2edeba-4f73-4227-b4a3-d351267a1b38\" data-root-id=\"1002\"></div>\n"
      ]
     },
     "metadata": {},
     "output_type": "display_data"
    },
    {
     "data": {
      "application/javascript": [
       "(function(root) {\n",
       "  function embed_document(root) {\n",
       "    \n",
       "  var docs_json = {\"146e0b8f-6bdd-4338-81e9-770fd0007869\":{\"defs\":[],\"roots\":{\"references\":[{\"attributes\":{\"below\":[{\"id\":\"1013\"}],\"center\":[{\"id\":\"1016\"},{\"id\":\"1020\"},{\"id\":\"1062\"}],\"height\":400,\"left\":[{\"id\":\"1017\"}],\"renderers\":[{\"id\":\"1038\"}],\"title\":{\"id\":\"1003\"},\"toolbar\":{\"id\":\"1028\"},\"x_range\":{\"id\":\"1005\"},\"x_scale\":{\"id\":\"1009\"},\"y_range\":{\"id\":\"1007\"},\"y_scale\":{\"id\":\"1011\"}},\"id\":\"1002\",\"subtype\":\"Figure\",\"type\":\"Plot\"},{\"attributes\":{},\"id\":\"1025\",\"type\":\"ResetTool\"},{\"attributes\":{},\"id\":\"1009\",\"type\":\"LinearScale\"},{\"attributes\":{\"base\":24,\"mantissas\":[1,2,4,6,8,12],\"max_interval\":43200000.0,\"min_interval\":3600000.0,\"num_minor_ticks\":0},\"id\":\"1051\",\"type\":\"AdaptiveTicker\"},{\"attributes\":{},\"id\":\"1026\",\"type\":\"HelpTool\"},{\"attributes\":{\"days\":[1,15]},\"id\":\"1055\",\"type\":\"DaysTicker\"},{\"attributes\":{\"bottom_units\":\"screen\",\"fill_alpha\":0.5,\"fill_color\":\"lightgrey\",\"left_units\":\"screen\",\"level\":\"overlay\",\"line_alpha\":1.0,\"line_color\":\"black\",\"line_dash\":[4,4],\"line_width\":2,\"right_units\":\"screen\",\"syncable\":false,\"top_units\":\"screen\"},\"id\":\"1027\",\"type\":\"BoxAnnotation\"},{\"attributes\":{},\"id\":\"1011\",\"type\":\"LinearScale\"},{\"attributes\":{\"text\":\"Crypto Prices\"},\"id\":\"1003\",\"type\":\"Title\"},{\"attributes\":{},\"id\":\"1047\",\"type\":\"UnionRenderers\"},{\"attributes\":{},\"id\":\"1041\",\"type\":\"BasicTickFormatter\"},{\"attributes\":{\"days\":[1,2,3,4,5,6,7,8,9,10,11,12,13,14,15,16,17,18,19,20,21,22,23,24,25,26,27,28,29,30,31]},\"id\":\"1052\",\"type\":\"DaysTicker\"},{\"attributes\":{\"months\":[0,1,2,3,4,5,6,7,8,9,10,11]},\"id\":\"1056\",\"type\":\"MonthsTicker\"},{\"attributes\":{\"axis_label\":\"Date\",\"formatter\":{\"id\":\"1044\"},\"major_label_policy\":{\"id\":\"1045\"},\"ticker\":{\"id\":\"1014\"}},\"id\":\"1013\",\"type\":\"DatetimeAxis\"},{\"attributes\":{\"axis\":{\"id\":\"1017\"},\"dimension\":1,\"grid_line_alpha\":0.3,\"ticker\":null},\"id\":\"1020\",\"type\":\"Grid\"},{\"attributes\":{\"items\":[{\"id\":\"1063\"}],\"location\":\"top_left\"},\"id\":\"1062\",\"type\":\"Legend\"},{\"attributes\":{\"months\":[0,2,4,6,8,10]},\"id\":\"1057\",\"type\":\"MonthsTicker\"},{\"attributes\":{\"num_minor_ticks\":5,\"tickers\":[{\"id\":\"1049\"},{\"id\":\"1050\"},{\"id\":\"1051\"},{\"id\":\"1052\"},{\"id\":\"1053\"},{\"id\":\"1054\"},{\"id\":\"1055\"},{\"id\":\"1056\"},{\"id\":\"1057\"},{\"id\":\"1058\"},{\"id\":\"1059\"},{\"id\":\"1060\"}]},\"id\":\"1014\",\"type\":\"DatetimeTicker\"},{\"attributes\":{},\"id\":\"1042\",\"type\":\"AllLabels\"},{\"attributes\":{\"line_color\":\"#f2a900\",\"x\":{\"field\":\"x\"},\"y\":{\"field\":\"y\"}},\"id\":\"1036\",\"type\":\"Line\"},{\"attributes\":{\"months\":[0,4,8]},\"id\":\"1058\",\"type\":\"MonthsTicker\"},{\"attributes\":{\"axis\":{\"id\":\"1013\"},\"grid_line_alpha\":0.3,\"ticker\":null},\"id\":\"1016\",\"type\":\"Grid\"},{\"attributes\":{},\"id\":\"1045\",\"type\":\"AllLabels\"},{\"attributes\":{\"months\":[0,6]},\"id\":\"1059\",\"type\":\"MonthsTicker\"},{\"attributes\":{},\"id\":\"1018\",\"type\":\"BasicTicker\"},{\"attributes\":{\"line_alpha\":0.1,\"line_color\":\"#f2a900\",\"x\":{\"field\":\"x\"},\"y\":{\"field\":\"y\"}},\"id\":\"1037\",\"type\":\"Line\"},{\"attributes\":{\"axis_label\":\"Price $\",\"formatter\":{\"id\":\"1041\"},\"major_label_policy\":{\"id\":\"1042\"},\"ticker\":{\"id\":\"1018\"}},\"id\":\"1017\",\"type\":\"LinearAxis\"},{\"attributes\":{},\"id\":\"1060\",\"type\":\"YearsTicker\"},{\"attributes\":{},\"id\":\"1005\",\"type\":\"DataRange1d\"},{\"attributes\":{},\"id\":\"1044\",\"type\":\"DatetimeTickFormatter\"},{\"attributes\":{\"source\":{\"id\":\"1035\"}},\"id\":\"1039\",\"type\":\"CDSView\"},{\"attributes\":{\"mantissas\":[1,2,5],\"max_interval\":500.0,\"num_minor_ticks\":0},\"id\":\"1049\",\"type\":\"AdaptiveTicker\"},{\"attributes\":{\"data_source\":{\"id\":\"1035\"},\"glyph\":{\"id\":\"1036\"},\"hover_glyph\":null,\"muted_glyph\":null,\"nonselection_glyph\":{\"id\":\"1037\"},\"view\":{\"id\":\"1039\"}},\"id\":\"1038\",\"type\":\"GlyphRenderer\"},{\"attributes\":{},\"id\":\"1048\",\"type\":\"Selection\"},{\"attributes\":{\"active_multi\":null,\"tools\":[{\"id\":\"1021\"},{\"id\":\"1022\"},{\"id\":\"1023\"},{\"id\":\"1024\"},{\"id\":\"1025\"},{\"id\":\"1026\"}]},\"id\":\"1028\",\"type\":\"Toolbar\"},{\"attributes\":{},\"id\":\"1022\",\"type\":\"WheelZoomTool\"},{\"attributes\":{\"base\":60,\"mantissas\":[1,2,5,10,15,20,30],\"max_interval\":1800000.0,\"min_interval\":1000.0,\"num_minor_ticks\":0},\"id\":\"1050\",\"type\":\"AdaptiveTicker\"},{\"attributes\":{\"label\":{\"value\":\"Litecoin\"},\"renderers\":[{\"id\":\"1038\"}]},\"id\":\"1063\",\"type\":\"LegendItem\"},{\"attributes\":{},\"id\":\"1021\",\"type\":\"PanTool\"},{\"attributes\":{\"days\":[1,8,15,22]},\"id\":\"1054\",\"type\":\"DaysTicker\"},{\"attributes\":{},\"id\":\"1007\",\"type\":\"DataRange1d\"},{\"attributes\":{\"data\":{\"x\":{\"__ndarray__\":\"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\",\"dtype\":\"float64\",\"order\":\"little\",\"shape\":[2399]},\"y\":{\"__ndarray__\":\"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\",\"dtype\":\"float64\",\"order\":\"little\",\"shape\":[2399]}},\"selected\":{\"id\":\"1048\"},\"selection_policy\":{\"id\":\"1047\"}},\"id\":\"1035\",\"type\":\"ColumnDataSource\"},{\"attributes\":{\"overlay\":{\"id\":\"1027\"}},\"id\":\"1023\",\"type\":\"BoxZoomTool\"},{\"attributes\":{},\"id\":\"1024\",\"type\":\"SaveTool\"},{\"attributes\":{\"days\":[1,4,7,10,13,16,19,22,25,28]},\"id\":\"1053\",\"type\":\"DaysTicker\"}],\"root_ids\":[\"1002\"]},\"title\":\"Bokeh Application\",\"version\":\"2.3.3\"}};\n",
       "  var render_items = [{\"docid\":\"146e0b8f-6bdd-4338-81e9-770fd0007869\",\"root_ids\":[\"1002\"],\"roots\":{\"1002\":\"8e2edeba-4f73-4227-b4a3-d351267a1b38\"}}];\n",
       "  root.Bokeh.embed.embed_items_notebook(docs_json, render_items);\n",
       "\n",
       "  }\n",
       "  if (root.Bokeh !== undefined) {\n",
       "    embed_document(root);\n",
       "  } else {\n",
       "    var attempts = 0;\n",
       "    var timer = setInterval(function(root) {\n",
       "      if (root.Bokeh !== undefined) {\n",
       "        clearInterval(timer);\n",
       "        embed_document(root);\n",
       "      } else {\n",
       "        attempts++;\n",
       "        if (attempts > 100) {\n",
       "          clearInterval(timer);\n",
       "          console.log(\"Bokeh: ERROR: Unable to run BokehJS code because BokehJS library is missing\");\n",
       "        }\n",
       "      }\n",
       "    }, 10, root)\n",
       "  }\n",
       "})(window);"
      ],
      "application/vnd.bokehjs_exec.v0+json": ""
     },
     "metadata": {
      "application/vnd.bokehjs_exec.v0+json": {
       "id": "1002"
      }
     },
     "output_type": "display_data"
    }
   ],
   "source": [
    "from bokeh.plotting import figure, output_file, show\n",
    "from bokeh.io import output_notebook\n",
    "output_notebook()\n",
    "\n",
    "p1 = figure(x_axis_type=\"datetime\", title=\"Crypto Prices\")\n",
    "p1.plot_height=400\n",
    "p1.grid.grid_line_alpha=0.3\n",
    "p1.xaxis.axis_label = 'Date'\n",
    "p1.yaxis.axis_label = 'Price $'\n",
    "p1.line(ltc.index, ltc['ClosePrice'], color='#f2a900', legend_label='Litecoin')\n",
    "p1.legend.location = \"top_left\"\n",
    "\n",
    "show(p1)"
   ]
  },
  {
   "cell_type": "markdown",
   "metadata": {
    "id": "LpmSB0s4RgMY"
   },
   "source": [
    "**Exporting to Excel**"
   ]
  },
  {
   "cell_type": "code",
   "execution_count": 7,
   "metadata": {
    "collapsed": true,
    "id": "UoDeIcTSRgMZ",
    "scrolled": true
   },
   "outputs": [],
   "source": [
    "writer = pd.ExcelWriter('Litecoin_history.xlsx')\n",
    "ltc.to_excel(writer, sheet_name='Litecoin')\n",
    "writer.save()"
   ]
  }
 ],
 "metadata": {
  "colab": {
   "name": "ELUO_EAI6010_Litecoin_query_Week1.ipynb",
   "provenance": []
  },
  "kernelspec": {
   "display_name": "Python 3",
   "language": "python",
   "name": "python3"
  },
  "language_info": {
   "codemirror_mode": {
    "name": "ipython",
    "version": 3
   },
   "file_extension": ".py",
   "mimetype": "text/x-python",
   "name": "python",
   "nbconvert_exporter": "python",
   "pygments_lexer": "ipython3",
   "version": "3.8.5"
  },
  "toc": {
   "base_numbering": 1,
   "nav_menu": {},
   "number_sections": true,
   "sideBar": true,
   "skip_h1_title": false,
   "title_cell": "Table of Contents",
   "title_sidebar": "Contents",
   "toc_cell": true,
   "toc_position": {},
   "toc_section_display": true,
   "toc_window_display": false
  }
 },
 "nbformat": 4,
 "nbformat_minor": 1
}
