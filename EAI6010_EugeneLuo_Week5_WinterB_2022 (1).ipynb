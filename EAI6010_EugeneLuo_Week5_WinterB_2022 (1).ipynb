{
 "cells": [
  {
   "cell_type": "markdown",
   "metadata": {
    "id": "nrleGLqgqm-N"
   },
   "source": [
    "**EAI 6010 Mini Project 5**\n",
    "**Robotic AI Application**"
   ]
  },
  {
   "cell_type": "markdown",
   "metadata": {
    "id": "KOEilFgorKj3"
   },
   "source": [
    "In this project, I will attempt to generate a 6x12 matrix with obstacles placed in the middle of the matrix. The robot will start on the left side of the matrix and will look for the shortest path to the destination. \n",
    "This project is inspired by the wavefront planner algorithm and will use other path finding algorithms to accomplish the project. "
   ]
  },
  {
   "cell_type": "markdown",
   "metadata": {
    "id": "TPO6zGUiqcsV"
   },
   "source": [
    "**1) Using Python create a script to find the shortest path from point S (start) to point G (goal) \n",
    "through a discretized workspace (6 rows by 12 columns). Use 4-connectivity.**\n",
    "\n",
    "**2) Find a way to visualize the calculated path, including the path length, with the final state of \n",
    "the wave expansion.**"
   ]
  },
  {
   "cell_type": "code",
   "execution_count": 14,
   "metadata": {
    "colab": {
     "base_uri": "https://localhost:8080/",
     "height": 0
    },
    "id": "kWjqnXpohbIj",
    "outputId": "7ae8ed00-2a92-4079-8256-4991a44ae000"
   },
   "outputs": [
    {
     "name": "stdout",
     "output_type": "stream",
     "text": [
      "------Obstacles Allocation---------\n",
      "do you want to use default matrix dimension(6x12) and obstacles? y/n: y\n",
      "\n",
      "------Start point------\n",
      "row of start point----->0\n",
      "col of start point----->0\n",
      "\n",
      "------End point------\n",
      "row of End point----->5\n",
      "col of End point----->11\n",
      "\n",
      " -----Coefficients Matrix-------\n",
      "[[ 17.  16.  15.  14.  13.  12.  11.  10.   9.   8.   7.   6.]\n",
      " [ 16.  15.  14.  13.  12.  11.  10.   9.   8.   7.   6.   5.]\n",
      " [ 15.  14.  13.  -1.  -1.  -1.  -1.  -1. -10.   6.   5.   4.]\n",
      " [ 14.  13.  12.  -1.  -1.  -1.  -1.  -1.  -1.   5.   4.   3.]\n",
      " [ 13.  12.  11.  10.   9.   8.   7.   6.   5.   4.   3.   2.]\n",
      " [ 12.  11.  10.   9.   8.   7.   6.   5.   4.   3.   2.   1.]]\n",
      "\n",
      "---Shortest Parth from [0,0] to [5,11] -----\n",
      "[0][0]--->[1][0]--->[2][0]--->[3][0]--->[4][0]--->[5][0]--->[5][1]--->[5][2]--->[5][3]--->[5][4]--->[5][5]--->[5][6]--->[5][7]--->[5][8]--->[5][9]--->[5][10]--->[5][11]\n"
     ]
    }
   ],
   "source": [
    "#Modified by Eugene Luo Author: John Hernandez\n",
    "\n",
    "import numpy as np\n",
    "\n",
    "#This function returns a vector refering to the possible directions the agent can move(nor obstacle nor out of bounds)\n",
    "def perception(matrix,row,col):\n",
    "    #first position stands for the possibility of moving up\n",
    "    #Second for down, third position for left and fourth for right\n",
    "    array=np.array([False,False,False,False])\n",
    "    #the maximun positions of the matrix\n",
    "    superiorBorder=0\n",
    "    inferiorBorder=((matrix.shape)[0])-1\n",
    "    leftBorder=0\n",
    "    rightBorder=((matrix.shape)[1])-1\n",
    "    \n",
    "    #The 4 directions we can go\n",
    "    up=row-1\n",
    "    down=row+1\n",
    "    left=col-1\n",
    "    right=col+1\n",
    "    #Checks if  moving up will cause an IndexOutOfBound Exception if not ,he will check if there is an obstacle\n",
    "    #if no obstacle is found it'll make the  movement possible\n",
    "    if(up>=superiorBorder): #Checks for IndexOutOfBound Exception\n",
    "        if(matrix[up][col]==0): #Checks for obstacle\n",
    "            array[0]=True\n",
    "\n",
    "    if(down<=inferiorBorder): \n",
    "        if(matrix[down][col]==0):\n",
    "            array[1]=True    \n",
    "\n",
    "    if(left>=leftBorder):\n",
    "        if(matrix[row][left]==0):\n",
    "            array[2]=True\n",
    "\n",
    "    if(right<=rightBorder):\n",
    "        if(matrix[row][right]==0):\n",
    "            array[3]=True\n",
    "    return array\n",
    "\n",
    "def updateMatrix(matrix,row,col):\n",
    "    perceptionArray=perception(matrix,row,col)\n",
    "    #The 4 directions we can go\n",
    "    up=row-1\n",
    "    down=row+1\n",
    "    left=col-1\n",
    "    right=col+1\n",
    "    list=[]\n",
    "\n",
    "    #If possible,the value of the direction we're gonna move will update with the current value of our square +1\n",
    "    #moving up\n",
    "    if(perceptionArray[0]):\n",
    "        matrix[up][col]=matrix[row][col]+1\n",
    "        list.append(up)\n",
    "        list.append(col)\n",
    "    #moving down\n",
    "    if(perceptionArray[1]):\n",
    "        matrix[down][col]=matrix[row][col]+1\n",
    "        list.append(down)\n",
    "        list.append(col)\n",
    "    #Moving left\n",
    "    if(perceptionArray[2]):\n",
    "        matrix[row][left]=matrix[row][col]+1\n",
    "        list.append(row)\n",
    "        list.append(left)\n",
    "    #Moving right:\n",
    "    if(perceptionArray[3]):\n",
    "        matrix[row][right]=matrix[row][col]+1\n",
    "        list.append(row)\n",
    "        list.append(right)\n",
    "\n",
    "    #the list return the coordinates of the squares we can move to\n",
    "    return list\n",
    "\n",
    "def completeCoefficientsMatrix(matriz,rowGoal,colGoal):\n",
    "    nuevosPunto=updateMatrix(matriz,rowGoal,colGoal)\n",
    "    while(len(nuevosPunto)>0):\n",
    "        row=nuevosPunto.pop(0)\n",
    "        col=nuevosPunto.pop(0)\n",
    "        nuevosPunto.extend(updateMatrix(matriz,row,col))\n",
    "\n",
    "#This funcion with the matrix and its coefficients already completed, will only be in charge of getting the shortest Path\n",
    "def waveFront(matrix,startingRow,StartingCol,EndingRow,EndingCol):\n",
    "    print(\"\\n -----Coefficients Matrix-------\")\n",
    "    completeCoefficientsMatrix(matrix,EndingRow,EndingCol)\n",
    "    print(matrix)\n",
    "\n",
    "    msj=\"[\"+str(startingRow)+\"][\"+str(StartingCol)+\"]\"\n",
    "    count=matrix[startingRow][StartingCol]\n",
    "    # the agent position is at first the starting row and the starting col\n",
    "    currentRow=startingRow\n",
    "    currentCol=StartingCol\n",
    "    #variables for the border of the matrix\n",
    "    superiorBorder=0\n",
    "    inferiorBorder=((matrix.shape)[0])-1\n",
    "    leftBorder=0\n",
    "    rightBorder=((matrix.shape)[1])-1\n",
    "    \n",
    "    while(count!=1):\n",
    "        #UP\n",
    "        if(currentRow-1 >= superiorBorder):\n",
    "            if(matrix[currentRow-1][currentCol]==(matrix[currentRow][currentCol]-1)): #I could've used the count -1 \n",
    "                currentRow=currentRow-1\n",
    "                msj=msj+\"--->[\"+str(currentRow)+\"][\"+str(currentCol)+\"]\"\n",
    "                count-=1\n",
    "                continue\n",
    "        #DOWN\n",
    "        if(currentRow+1 <=inferiorBorder):\n",
    "            if(matrix[currentRow+1][currentCol]==(matrix[currentRow][currentCol]-1)):\n",
    "                 currentRow=currentRow+1\n",
    "                 msj=msj+\"--->[\"+str(currentRow)+\"][\"+str(currentCol)+\"]\"\n",
    "                 count-=1\n",
    "                 continue\n",
    "        #LEFT\n",
    "        if(currentCol-1 >=leftBorder):\n",
    "            if(matrix[currentRow][currentCol-1]==(matrix[currentRow][currentCol]-1)):\n",
    "                 currentCol=currentCol-1\n",
    "                 msj=msj+\"--->[\"+str(currentRow)+\"][\"+str(currentCol)+\"]\"\n",
    "                 count-=1\n",
    "\n",
    "                 continue\n",
    "        #RIGHT\n",
    "        if(currentCol+1 <=rightBorder):\n",
    "            if(matrix[currentRow][currentCol+1]==(matrix[currentRow][currentCol]-1)):\n",
    "                 currentCol=currentCol+1\n",
    "                 msj=msj+\"--->[\"+str(currentRow)+\"][\"+str(currentCol)+\"]\"\n",
    "                 count-=1\n",
    "                 continue\n",
    "    #print(count)\n",
    "    print(\"\\n---Shortest Parth from [{},{}] to [{},{}] -----\".format(startingRow,StartingCol,EndingRow,EndingCol))\n",
    "    print(msj)\n",
    "        \n",
    "\n",
    "\n",
    "print(\"------Obstacles Allocation---------\")\n",
    "obstacle=True\n",
    "default=input(\"do you want to use default matrix dimension(6x12) and obstacles? y/n: \")\n",
    "if(default=='y'):\n",
    "    obstacle=False\n",
    "    nrows=6\n",
    "    ncols=12\n",
    "    matriz=np.zeros((nrows,ncols))\n",
    "    matriz[2,3]=-1\n",
    "    matriz[2,4]=-1\n",
    "    matriz[2,5]=-1\n",
    "    matriz[2,6]=-1\n",
    "    matriz[2,7]=-1    \n",
    "    matriz[2,8]=-10\n",
    "    matriz[3,3]=-1\n",
    "    matriz[3,4]=-1\n",
    "    matriz[3,5]=-1\n",
    "    matriz[3,6]=-1\n",
    "    matriz[3,7]=-1\n",
    "    matriz[3,8]=-1\n",
    "else:\n",
    "    nrows=int(input(\"type the number of row: \"))\n",
    "    ncols=int(input(\"type the numbers of columns: \"))\n",
    "    matriz=np.zeros((nrows,ncols))\n",
    "while(obstacle==True):\n",
    "    obstacleRow=int(input(\"type the row of the obstacle: \"))\n",
    "    obstacleCol=int(input(\"type the column of the obstacle: \"))\n",
    "    matriz[obstacleRow][obstacleCol]=-1\n",
    "    option=input(\"do you want to add one more obstacle?? y/n: \")\n",
    "    if(option!=\"y\"):\n",
    "        obstacle=False\n",
    "\n",
    "print(\"\\n------Start point------\")\n",
    "rowS=int(input(\"row of start point----->\"))\n",
    "colS=int(input(\"col of start point----->\"))\n",
    "\n",
    "print(\"\\n------End point------\")\n",
    "rowE=int(input(\"row of End point----->\"))\n",
    "colE=int(input(\"col of End point----->\"))\n",
    "matriz[rowE][colE]=1\n",
    "waveFront(matriz,rowS,colS,rowE,colE)"
   ]
  },
  {
   "cell_type": "markdown",
   "metadata": {
    "id": "4XZk_QwDtFbh"
   },
   "source": [
    "**3) Change to 8-connectivity, recalculate, visualize and interpret the results.**"
   ]
  },
  {
   "cell_type": "code",
   "execution_count": 15,
   "metadata": {
    "colab": {
     "base_uri": "https://localhost:8080/",
     "height": 0
    },
    "id": "-qs07iPSpcdx",
    "outputId": "927b7aa9-955c-48dd-bea7-9512601bd36e"
   },
   "outputs": [
    {
     "name": "stdout",
     "output_type": "stream",
     "text": [
      "Shortest Path Route:\n",
      "[(0, 0), (1, 1), (2, 2), (1, 3), (1, 4), (1, 5), (1, 6), (1, 7), (1, 8), (2, 9), (3, 10), (4, 11), (5, 11)]\n"
     ]
    }
   ],
   "source": [
    "#Modified by Eugene Luo Created by Nicholas Swift\n",
    "\n",
    "class Node():\n",
    "    \"\"\"A node class for A* Pathfinding\"\"\"\n",
    "\n",
    "    def __init__(self, parent=None, position=None):\n",
    "        self.parent = parent\n",
    "        self.position = position\n",
    "\n",
    "        self.g = 0\n",
    "        self.h = 0\n",
    "        self.f = 0\n",
    "\n",
    "    def __eq__(self, other):\n",
    "        return self.position == other.position\n",
    "\n",
    "\n",
    "def astar(maze, start, end):\n",
    "    \"\"\"Returns a list of tuples as a path from the given start to the given end in the given maze\"\"\"\n",
    "\n",
    "    # Create start and end node\n",
    "    start_node = Node(None, start)\n",
    "    start_node.g = start_node.h = start_node.f = 0\n",
    "    end_node = Node(None, end)\n",
    "    end_node.g = end_node.h = end_node.f = 0\n",
    "\n",
    "    # Initialize both open and closed list\n",
    "    open_list = []\n",
    "    closed_list = []\n",
    "\n",
    "    # Add the start node\n",
    "    open_list.append(start_node)\n",
    "\n",
    "    # Loop until you find the end\n",
    "    while len(open_list) > 0:\n",
    "\n",
    "        # Get the current node\n",
    "        current_node = open_list[0]\n",
    "        current_index = 0\n",
    "        for index, item in enumerate(open_list):\n",
    "            if item.f < current_node.f:\n",
    "                current_node = item\n",
    "                current_index = index\n",
    "\n",
    "        # Pop current off open list, add to closed list\n",
    "        open_list.pop(current_index)\n",
    "        closed_list.append(current_node)\n",
    "\n",
    "        # Found the goal\n",
    "        if current_node == end_node:\n",
    "            path = []\n",
    "            current = current_node\n",
    "            while current is not None:\n",
    "                path.append(current.position)\n",
    "                current = current.parent\n",
    "            return path[::-1] # Return reversed path\n",
    "\n",
    "        # Generate children\n",
    "        children = []\n",
    "        for new_position in [(0, -1), (0, 1), (-1, 0), (1, 0), (-1, -1), (-1, 1), (1, -1), (1, 1)]: # Adjacent squares\n",
    "\n",
    "            # Get node position\n",
    "            node_position = (current_node.position[0] + new_position[0], current_node.position[1] + new_position[1])\n",
    "\n",
    "            # Make sure within range\n",
    "            if node_position[0] > (len(maze) - 1) or node_position[0] < 0 or node_position[1] > (len(maze[len(maze)-1]) -1) or node_position[1] < 0:\n",
    "                continue\n",
    "\n",
    "            # Make sure walkable terrain\n",
    "            if maze[node_position[0]][node_position[1]] != 0:\n",
    "                continue\n",
    "\n",
    "            # Create new node\n",
    "            new_node = Node(current_node, node_position)\n",
    "\n",
    "            # Append\n",
    "            children.append(new_node)\n",
    "\n",
    "        # Loop through children\n",
    "        for child in children:\n",
    "\n",
    "            # Child is on the closed list\n",
    "            for closed_child in closed_list:\n",
    "                if child == closed_child:\n",
    "                    continue\n",
    "\n",
    "            # Create the f, g, and h values\n",
    "            child.g = current_node.g + 1\n",
    "            child.h = ((child.position[0] - end_node.position[0]) ** 2) + ((child.position[1] - end_node.position[1]) ** 2)\n",
    "            child.f = child.g + child.h\n",
    "\n",
    "            # Child is already in the open list\n",
    "            for open_node in open_list:\n",
    "                if child == open_node and child.g > open_node.g:\n",
    "                    continue\n",
    "\n",
    "            # Add the child to the open list\n",
    "            open_list.append(child)\n",
    "\n",
    "\n",
    "def main():\n",
    "\n",
    "    maze = [[0, 0, 0, 0, 0, 0, 0, 0, 0, 0, 0, 0],\n",
    "            [0, 0, 0, 0, 0, 0, 0, 0, 0, 0, 0, 0],\n",
    "            [0, 0, 0, 1, 1, 1, 1, 1, 1, 0, 0, 0],\n",
    "            [0, 0, 0, 1, 1, 1, 1, 1, 1, 0, 0, 0],\n",
    "            [0, 0, 0, 0, 0, 0, 0, 0, 0, 0, 0, 0],\n",
    "            [0, 0, 0, 0, 0, 0, 0, 0, 0, 0, 0, 0]]\n",
    "\n",
    "    start = (0, 0)\n",
    "    end = (5, 11)\n",
    "\n",
    "    path = astar(maze, start, end)\n",
    "    print(\"Shortest Path Route:\")\n",
    "    print(path)\n",
    "\n",
    "\n",
    "if __name__ == '__main__':\n",
    "    main()"
   ]
  },
  {
   "cell_type": "markdown",
   "metadata": {
    "id": "NV_df8WksQtk"
   },
   "source": [
    "By allowing the robot to move in a diagonal direction using 8-connectivity, we find that the robot can get to the goal in 12 steps rather than 16 steps under a 4-connectivity rule. Additionally, we find that the robot will choose to take a path around the top of the obstacle. "
   ]
  },
  {
   "cell_type": "markdown",
   "metadata": {
    "id": "jmwYys7FzMVR"
   },
   "source": [
    "**4)Modify the code so that the coordinates of “S” and “G” are randomly generated (obviously \n",
    "locations of those cannot be in the obstacle area). Run this simulation in a loop. At the end \n",
    "of each simulation display the path. For the sake of the exercise, repeat the loop just 3 \n",
    "times. Either connectivity (4 or 8) is acceptable. For the sake of simplicity, you can restrict \n",
    "randomly generated “S”s to the left half, and “G”s to the right half.**"
   ]
  },
  {
   "cell_type": "code",
   "execution_count": 16,
   "metadata": {
    "colab": {
     "base_uri": "https://localhost:8080/",
     "height": 0
    },
    "id": "jWQfwODdtAXR",
    "outputId": "ae335591-893c-4ce0-f7a5-97d11dc643f1"
   },
   "outputs": [
    {
     "name": "stdout",
     "output_type": "stream",
     "text": [
      "0\n",
      "4\n",
      "9\n",
      "0\n"
     ]
    }
   ],
   "source": [
    "import random\n",
    "startx = random.randint(0,2)\n",
    "starty = random.randint(0,5)\n",
    "\n",
    "endx = random.randint(9,11)\n",
    "endy = random.randint(0,5)\n",
    "\n",
    "print(startx)\n",
    "print(starty)\n",
    "print(endx)\n",
    "print(endy)"
   ]
  },
  {
   "cell_type": "code",
   "execution_count": 17,
   "metadata": {
    "colab": {
     "base_uri": "https://localhost:8080/",
     "height": 0
    },
    "id": "T57a_WHmsXVy",
    "outputId": "bf02b9ca-37ac-4d6e-d9d7-470d52e5b21e"
   },
   "outputs": [
    {
     "name": "stdout",
     "output_type": "stream",
     "text": [
      "Shortest Path Using Randomly Generated Start and End Coordinates:\n",
      "[(2, 4), (1, 5), (1, 6), (1, 7), (1, 8), (2, 9), (3, 9), (4, 9), (5, 9)]\n"
     ]
    }
   ],
   "source": [
    "def main():\n",
    "    #create maze\n",
    "    maze = [[0, 0, 0, 0, 0, 0, 0, 0, 0, 0, 0, 0],\n",
    "            [0, 0, 0, 0, 0, 0, 0, 0, 0, 0, 0, 0],\n",
    "            [0, 0, 0, 1, 1, 1, 1, 1, 1, 0, 0, 0],\n",
    "            [0, 0, 0, 1, 1, 1, 1, 1, 1, 0, 0, 0],\n",
    "            [0, 0, 0, 0, 0, 0, 0, 0, 0, 0, 0, 0],\n",
    "            [0, 0, 0, 0, 0, 0, 0, 0, 0, 0, 0, 0]]\n",
    "    # randomly generate a range of integers\n",
    "    startx = random.randint(0,2)\n",
    "    starty = random.randint(0,5)\n",
    "\n",
    "    endx = random.randint(9,11)\n",
    "    endy = random.randint(0,5)\n",
    "\n",
    "    start = (startx, starty)\n",
    "    end = (endy, endx)\n",
    "\n",
    "    path = astar(maze, start, end)\n",
    "    print(\"Shortest Path Using Randomly Generated Start and End Coordinates:\")\n",
    "    print(path)\n",
    "\n",
    "if __name__ == '__main__':\n",
    "    main()"
   ]
  },
  {
   "cell_type": "code",
   "execution_count": 18,
   "metadata": {
    "colab": {
     "base_uri": "https://localhost:8080/",
     "height": 0
    },
    "id": "9n8ino1PxotZ",
    "outputId": "b42fad97-00bb-4a01-9b1d-8704c54154f3"
   },
   "outputs": [
    {
     "name": "stdout",
     "output_type": "stream",
     "text": [
      "Shortest Path Using Randomly Generated Start and End Coordinates:\n",
      "[(1, 1), (2, 2), (1, 3), (1, 4), (1, 5), (1, 6), (1, 7), (1, 8), (2, 9)]\n",
      "Shortest Path Using Randomly Generated Start and End Coordinates:\n",
      "[(1, 0), (2, 1), (2, 2), (1, 3), (1, 4), (1, 5), (1, 6), (1, 7), (1, 8), (2, 9), (2, 10), (2, 11)]\n",
      "Shortest Path Using Randomly Generated Start and End Coordinates:\n",
      "[(2, 1), (1, 2), (1, 3), (1, 4), (1, 5), (1, 6), (1, 7), (1, 8), (1, 9), (1, 10)]\n"
     ]
    }
   ],
   "source": [
    "# using a loop to iterate three times using randomized coordinates\n",
    "list = [1,2,3]\n",
    "for i in list:\n",
    "  if __name__ == '__main__':\n",
    "      main()"
   ]
  },
  {
   "cell_type": "markdown",
   "metadata": {
    "id": "zOjjPcpPzWjD"
   },
   "source": [
    "**5) Reflect on the results.**"
   ]
  },
  {
   "cell_type": "markdown",
   "metadata": {
    "id": "IlJxdd5bzhSy"
   },
   "source": [
    "In conclusion of this assignment, I used a wavefront planner algorithm to perform a 4-connectivity path finding algorithm to identify the shortest path from the start to end position. In my 8-connectivity path finding, I used an A* algorithm to find the shortest path. \n",
    "\n",
    "An 8-connectivity helps the robot reach its destination in fewer number of steps because they can move in a diagonal direction which allows them to skip steps that are require moving both x and y directions simultaneously. \n",
    "\n",
    "My final step randomly generated x,y coordinates for both the start and destination cell and iterated through a loop function three times to get three randomly generated paths while ignoring obstacles. "
   ]
  },
  {
   "cell_type": "markdown",
   "metadata": {
    "id": "YqrFyyoB1Ycl"
   },
   "source": [
    "**References**\n",
    "\n",
    "Swift, N. (2020, May 29). Easy A* (star) pathfinding. Medium. Retrieved March 26, 2022, from https://medium.com/@nicholas.w.swift/easy-a-star-pathfinding-7e6689c7f7b2 \n",
    "\n",
    "Hernandez, J. (n.d.). WaveFront/waveFront.py at master · Johnj-Hernandez/Wavefront. GitHub. Retrieved March 26, 2022, from https://github.com/johnj-hernandez/WaveFront/blob/master/waveFront.py \n"
   ]
  }
 ],
 "metadata": {
  "accelerator": "GPU",
  "colab": {
   "name": "EAI6010_EugeneLuo_Week5_WinterB_2022.ipynb",
   "provenance": []
  },
  "kernelspec": {
   "display_name": "Python 3",
   "language": "python",
   "name": "python3"
  },
  "language_info": {
   "codemirror_mode": {
    "name": "ipython",
    "version": 3
   },
   "file_extension": ".py",
   "mimetype": "text/x-python",
   "name": "python",
   "nbconvert_exporter": "python",
   "pygments_lexer": "ipython3",
   "version": "3.8.8"
  }
 },
 "nbformat": 4,
 "nbformat_minor": 4
}
