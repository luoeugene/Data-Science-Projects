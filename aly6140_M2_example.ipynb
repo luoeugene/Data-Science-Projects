{
 "cells": [
  {
   "cell_type": "markdown",
   "metadata": {
    "slideshow": {
     "slide_type": "slide"
    }
   },
   "source": [
    "### Reading data \n",
    "* Pandas support ingesting data from a variety of sources\n",
    "  * Flat file\n",
    "      * read_csv()\n",
    "      * read_table()\n",
    "      * read_fwf()\n",
    "      * read_msgpack() \n",
    "  * Excel\n",
    "      * read_excel()\n",
    "  * JSON/HTML\n",
    "      * read_json()\n",
    "      * read_html()\n",
    "  * SQL\n",
    "      * read_sql()\n",
    "      * read_sql_table()\n",
    "      * read_sql_query()\n",
    "  * Other\n",
    "      * read_feather()\n",
    "      * read_hdf()\n",
    "      * read_sas()\n",
    "      * read_feather()\n",
    "      * read_pickle()\n",
    "      * read_gbq\n",
    "* Supplementary reading\n",
    "  * https://pandas.pydata.org/pandas-docs/stable/api.html#input-output"
   ]
  },
  {
   "cell_type": "markdown",
   "metadata": {
    "slideshow": {
     "slide_type": "slide"
    }
   },
   "source": [
    "#### Flat files\n",
    "* Flat files refer to local or remote files that have tabular data in them\n",
    "* Properties\n",
    "  * Each line refers to a single row\n",
    "  * Each entry in the line corresponds to a single column value\n",
    "  * Entries are separate by a **delimiter**\n",
    "* Allowed locations\n",
    "  * local file system\n",
    "  * url\n",
    "    * http\n",
    "    * ftp\n",
    "    * s3\n",
    "    "
   ]
  },
  {
   "cell_type": "code",
   "execution_count": 1,
   "metadata": {},
   "outputs": [],
   "source": [
    "#load libs\n",
    "import pandas as pd"
   ]
  },
  {
   "cell_type": "code",
   "execution_count": 2,
   "metadata": {},
   "outputs": [],
   "source": [
    "import os\n"
   ]
  },
  {
   "cell_type": "code",
   "execution_count": 3,
   "metadata": {},
   "outputs": [
    {
     "data": {
      "text/plain": [
       "'D:\\\\rich\\\\NU2\\\\ALY6140\\\\2921FallA_70648\\\\M2'"
      ]
     },
     "execution_count": 3,
     "metadata": {},
     "output_type": "execute_result"
    }
   ],
   "source": [
    "os.getcwd()"
   ]
  },
  {
   "cell_type": "code",
   "execution_count": 4,
   "metadata": {
    "scrolled": true
   },
   "outputs": [
    {
     "data": {
      "text/plain": [
       "['.ipynb_checkpoints',\n",
       " 'aly6140_M2_data.zip',\n",
       " 'aly6140_M2_example.ipynb',\n",
       " 'data',\n",
       " 'hw2',\n",
       " 'script_vs_notebook.ipynb']"
      ]
     },
     "execution_count": 4,
     "metadata": {},
     "output_type": "execute_result"
    }
   ],
   "source": [
    "os.listdir()"
   ]
  },
  {
   "cell_type": "code",
   "execution_count": 5,
   "metadata": {},
   "outputs": [
    {
     "name": "stdout",
     "output_type": "stream",
     "text": [
      " Volume in drive D is New Volume\n",
      " Volume Serial Number is F289-CA38\n",
      "\n",
      " Directory of D:\\rich\\NU2\\ALY6140\\2921FallA_70648\\M2\n",
      "\n",
      "09/29/2021  07:42 PM    <DIR>          .\n",
      "09/29/2021  07:42 PM    <DIR>          ..\n",
      "09/29/2021  06:31 PM    <DIR>          .ipynb_checkpoints\n",
      "07/08/2021  03:08 PM         1,027,260 aly6140_M2_data.zip\n",
      "07/23/2021  11:34 AM            92,359 aly6140_M2_example.ipynb\n",
      "09/28/2021  10:10 AM    <DIR>          data\n",
      "09/29/2021  09:21 PM    <DIR>          hw2\n",
      "07/31/2021  12:21 AM             4,180 script_vs_notebook.ipynb\n",
      "               3 File(s)      1,123,799 bytes\n",
      "               5 Dir(s)  952,557,391,872 bytes free\n"
     ]
    }
   ],
   "source": [
    "%ls"
   ]
  },
  {
   "cell_type": "markdown",
   "metadata": {
    "slideshow": {
     "slide_type": "notes"
    }
   },
   "source": [
    "## Read TXT file"
   ]
  },
  {
   "cell_type": "code",
   "execution_count": 2,
   "metadata": {
    "scrolled": true,
    "slideshow": {
     "slide_type": "notes"
    }
   },
   "outputs": [
    {
     "ename": "FileNotFoundError",
     "evalue": "[Errno 2] No such file or directory: './data/network_data.txt'",
     "output_type": "error",
     "traceback": [
      "\u001b[1;31m---------------------------------------------------------------------------\u001b[0m",
      "\u001b[1;31mFileNotFoundError\u001b[0m                         Traceback (most recent call last)",
      "\u001b[1;32m<ipython-input-2-6341f4996f42>\u001b[0m in \u001b[0;36m<module>\u001b[1;34m\u001b[0m\n\u001b[1;32m----> 1\u001b[1;33m \u001b[0mfile\u001b[0m \u001b[1;33m=\u001b[0m \u001b[0mopen\u001b[0m\u001b[1;33m(\u001b[0m\u001b[1;34m'./data/network_data.txt'\u001b[0m\u001b[1;33m,\u001b[0m \u001b[1;34m'r'\u001b[0m\u001b[1;33m)\u001b[0m\u001b[1;33m\u001b[0m\u001b[1;33m\u001b[0m\u001b[0m\n\u001b[0m\u001b[0;32m      2\u001b[0m \u001b[0mprint\u001b[0m\u001b[1;33m(\u001b[0m\u001b[0mfile\u001b[0m\u001b[1;33m.\u001b[0m\u001b[0mread\u001b[0m\u001b[1;33m(\u001b[0m\u001b[1;33m)\u001b[0m\u001b[1;33m)\u001b[0m\u001b[1;33m\u001b[0m\u001b[1;33m\u001b[0m\u001b[0m\n\u001b[0;32m      3\u001b[0m \u001b[0mprint\u001b[0m\u001b[1;33m(\u001b[0m\u001b[0mfile\u001b[0m\u001b[1;33m.\u001b[0m\u001b[0mclosed\u001b[0m\u001b[1;33m)\u001b[0m\u001b[1;33m\u001b[0m\u001b[1;33m\u001b[0m\u001b[0m\n\u001b[0;32m      4\u001b[0m \u001b[1;33m\u001b[0m\u001b[0m\n\u001b[0;32m      5\u001b[0m \u001b[0mfile\u001b[0m\u001b[1;33m.\u001b[0m\u001b[0mclose\u001b[0m\u001b[1;33m(\u001b[0m\u001b[1;33m)\u001b[0m\u001b[1;33m\u001b[0m\u001b[1;33m\u001b[0m\u001b[0m\n",
      "\u001b[1;31mFileNotFoundError\u001b[0m: [Errno 2] No such file or directory: './data/network_data.txt'"
     ]
    }
   ],
   "source": [
    "file = open('./data/network_data.txt', 'r')\n",
    "print(file.read())\n",
    "print(file.closed)\n",
    "\n",
    "file.close()\n",
    "print(file.closed)"
   ]
  },
  {
   "cell_type": "code",
   "execution_count": 7,
   "metadata": {},
   "outputs": [
    {
     "name": "stdout",
     "output_type": "stream",
     "text": [
      "Name\tProfession\n",
      "Sharat\tData scientist\n",
      "Bill Gates\tPhilanthropist\n",
      "Tom Brady\tAthlete\n",
      "Bill Nye\tPresenter\n",
      "\n",
      "True\n"
     ]
    }
   ],
   "source": [
    "with open('./data/data_txt.txt') as file:\n",
    "    print(file.read())\n",
    "    \n",
    "print(file.closed)"
   ]
  },
  {
   "cell_type": "code",
   "execution_count": 8,
   "metadata": {
    "scrolled": true
   },
   "outputs": [
    {
     "name": "stdout",
     "output_type": "stream",
     "text": [
      "Name\tProfession\n",
      "\n",
      "Sharat\tData scientist\n",
      "\n",
      "Bill Gates\tPhilanthropist\n",
      "\n",
      "Tom Brady\tAthlete\n",
      "\n"
     ]
    }
   ],
   "source": [
    "with open('./data/data_txt.txt') as file:\n",
    "    print(file.readline())\n",
    "    print(file.readline())\n",
    "    print(file.readline())\n",
    "    print(file.readline())"
   ]
  },
  {
   "cell_type": "code",
   "execution_count": 9,
   "metadata": {
    "slideshow": {
     "slide_type": "subslide"
    }
   },
   "outputs": [
    {
     "data": {
      "text/html": [
       "<div>\n",
       "<style scoped>\n",
       "    .dataframe tbody tr th:only-of-type {\n",
       "        vertical-align: middle;\n",
       "    }\n",
       "\n",
       "    .dataframe tbody tr th {\n",
       "        vertical-align: top;\n",
       "    }\n",
       "\n",
       "    .dataframe thead th {\n",
       "        text-align: right;\n",
       "    }\n",
       "</style>\n",
       "<table border=\"1\" class=\"dataframe\">\n",
       "  <thead>\n",
       "    <tr style=\"text-align: right;\">\n",
       "      <th></th>\n",
       "      <th>Name</th>\n",
       "      <th>Profession</th>\n",
       "    </tr>\n",
       "  </thead>\n",
       "  <tbody>\n",
       "    <tr>\n",
       "      <th>0</th>\n",
       "      <td>Sharat</td>\n",
       "      <td>Data scientist</td>\n",
       "    </tr>\n",
       "    <tr>\n",
       "      <th>1</th>\n",
       "      <td>Bill Gates</td>\n",
       "      <td>Philanthropist</td>\n",
       "    </tr>\n",
       "    <tr>\n",
       "      <th>2</th>\n",
       "      <td>Tom Brady</td>\n",
       "      <td>Athlete</td>\n",
       "    </tr>\n",
       "    <tr>\n",
       "      <th>3</th>\n",
       "      <td>Bill Nye</td>\n",
       "      <td>Presenter</td>\n",
       "    </tr>\n",
       "  </tbody>\n",
       "</table>\n",
       "</div>"
      ],
      "text/plain": [
       "         Name      Profession\n",
       "0      Sharat  Data scientist\n",
       "1  Bill Gates  Philanthropist\n",
       "2   Tom Brady         Athlete\n",
       "3    Bill Nye       Presenter"
      ]
     },
     "execution_count": 9,
     "metadata": {},
     "output_type": "execute_result"
    }
   ],
   "source": [
    "#read data_txt.txt file\n",
    "df = pd.read_table('./data/data_txt.txt', sep='\\t', header=0)\n",
    "df"
   ]
  },
  {
   "cell_type": "code",
   "execution_count": 10,
   "metadata": {
    "slideshow": {
     "slide_type": "subslide"
    }
   },
   "outputs": [
    {
     "data": {
      "text/html": [
       "<div>\n",
       "<style scoped>\n",
       "    .dataframe tbody tr th:only-of-type {\n",
       "        vertical-align: middle;\n",
       "    }\n",
       "\n",
       "    .dataframe tbody tr th {\n",
       "        vertical-align: top;\n",
       "    }\n",
       "\n",
       "    .dataframe thead th {\n",
       "        text-align: right;\n",
       "    }\n",
       "</style>\n",
       "<table border=\"1\" class=\"dataframe\">\n",
       "  <thead>\n",
       "    <tr style=\"text-align: right;\">\n",
       "      <th></th>\n",
       "      <th>Full Name</th>\n",
       "      <th>Current Profession</th>\n",
       "    </tr>\n",
       "  </thead>\n",
       "  <tbody>\n",
       "    <tr>\n",
       "      <th>0</th>\n",
       "      <td>Sharat</td>\n",
       "      <td>Data scientist</td>\n",
       "    </tr>\n",
       "    <tr>\n",
       "      <th>1</th>\n",
       "      <td>Bill Gates</td>\n",
       "      <td>Philanthropist</td>\n",
       "    </tr>\n",
       "    <tr>\n",
       "      <th>2</th>\n",
       "      <td>Tom Brady</td>\n",
       "      <td>Athlete</td>\n",
       "    </tr>\n",
       "    <tr>\n",
       "      <th>3</th>\n",
       "      <td>Bill Nye</td>\n",
       "      <td>Presenter</td>\n",
       "    </tr>\n",
       "  </tbody>\n",
       "</table>\n",
       "</div>"
      ],
      "text/plain": [
       "    Full Name Current Profession\n",
       "0      Sharat     Data scientist\n",
       "1  Bill Gates     Philanthropist\n",
       "2   Tom Brady            Athlete\n",
       "3    Bill Nye          Presenter"
      ]
     },
     "execution_count": 10,
     "metadata": {},
     "output_type": "execute_result"
    }
   ],
   "source": [
    "# We can override column names\n",
    "df = pd.read_table('./data/data_txt.txt', sep='\\t', \n",
    "                   names = ['Full Name', 'Current Profession'],\n",
    "                   header=0)\n",
    "df"
   ]
  },
  {
   "cell_type": "markdown",
   "metadata": {
    "slideshow": {
     "slide_type": "slide"
    }
   },
   "source": [
    "## Read CSV file\n",
    "\n",
    "* Important options for read_table()/read_csv()\n",
    "  * true_values: list of values that mean True\n",
    "  * false_values: list of values that mean False\n",
    "  * na_values : list of values thatmean NA/NAN\n",
    "  * usecols: list of column indices or names to read\n",
    "  * parse_dates: boolean or list of intes or names of columns to consider for\n",
    "      parsing dates\n",
    "  * nrows: number of rows to read\n",
    "  * compression: 'infer', 'gzip', 'bz2', 'zip', 'xz'\n",
    "  * comment: comment indicator. Rest of the line is skipped \n",
    "  * dtypes: Both read_table() and read_csv() infer the data type from the values available. Data types can be explicity specified as a dict of column name: numpy dtype"
   ]
  },
  {
   "cell_type": "markdown",
   "metadata": {
    "slideshow": {
     "slide_type": "slide"
    }
   },
   "source": [
    "#### CSV files\n",
    "* CSV (Comma separated values) are format of choice to exchange tabular data\n",
    "    * Each line corresponds to a row\n",
    "    * Each entry in the line corresponds to a column\n",
    "    * Entries are separated by comma (,)\n",
    "    * The first row contains the names of the columns\n",
    "* Its a special case of tabular data with sep=','"
   ]
  },
  {
   "cell_type": "code",
   "execution_count": 11,
   "metadata": {
    "scrolled": true,
    "slideshow": {
     "slide_type": "subslide"
    }
   },
   "outputs": [
    {
     "data": {
      "text/html": [
       "<div>\n",
       "<style scoped>\n",
       "    .dataframe tbody tr th:only-of-type {\n",
       "        vertical-align: middle;\n",
       "    }\n",
       "\n",
       "    .dataframe tbody tr th {\n",
       "        vertical-align: top;\n",
       "    }\n",
       "\n",
       "    .dataframe thead th {\n",
       "        text-align: right;\n",
       "    }\n",
       "</style>\n",
       "<table border=\"1\" class=\"dataframe\">\n",
       "  <thead>\n",
       "    <tr style=\"text-align: right;\">\n",
       "      <th></th>\n",
       "      <th>Name</th>\n",
       "      <th>Profession</th>\n",
       "    </tr>\n",
       "  </thead>\n",
       "  <tbody>\n",
       "    <tr>\n",
       "      <th>0</th>\n",
       "      <td>Sharat</td>\n",
       "      <td>Data scientist</td>\n",
       "    </tr>\n",
       "    <tr>\n",
       "      <th>1</th>\n",
       "      <td>Bill Gates</td>\n",
       "      <td>Philanthropist</td>\n",
       "    </tr>\n",
       "    <tr>\n",
       "      <th>2</th>\n",
       "      <td>Tom Brady</td>\n",
       "      <td>Athlete</td>\n",
       "    </tr>\n",
       "    <tr>\n",
       "      <th>3</th>\n",
       "      <td>Bill Nye</td>\n",
       "      <td>Presenter</td>\n",
       "    </tr>\n",
       "  </tbody>\n",
       "</table>\n",
       "</div>"
      ],
      "text/plain": [
       "         Name      Profession\n",
       "0      Sharat  Data scientist\n",
       "1  Bill Gates  Philanthropist\n",
       "2   Tom Brady         Athlete\n",
       "3    Bill Nye       Presenter"
      ]
     },
     "execution_count": 11,
     "metadata": {},
     "output_type": "execute_result"
    }
   ],
   "source": [
    "#read data_csv.csv\n",
    "df = pd.read_csv('./data/data_csv.csv')\n",
    "df"
   ]
  },
  {
   "cell_type": "code",
   "execution_count": 12,
   "metadata": {},
   "outputs": [
    {
     "data": {
      "text/html": [
       "<div>\n",
       "<style scoped>\n",
       "    .dataframe tbody tr th:only-of-type {\n",
       "        vertical-align: middle;\n",
       "    }\n",
       "\n",
       "    .dataframe tbody tr th {\n",
       "        vertical-align: top;\n",
       "    }\n",
       "\n",
       "    .dataframe thead th {\n",
       "        text-align: right;\n",
       "    }\n",
       "</style>\n",
       "<table border=\"1\" class=\"dataframe\">\n",
       "  <thead>\n",
       "    <tr style=\"text-align: right;\">\n",
       "      <th></th>\n",
       "      <th>Name</th>\n",
       "      <th>Profession</th>\n",
       "    </tr>\n",
       "  </thead>\n",
       "  <tbody>\n",
       "    <tr>\n",
       "      <th>0</th>\n",
       "      <td>Sharat</td>\n",
       "      <td>Data scientist</td>\n",
       "    </tr>\n",
       "    <tr>\n",
       "      <th>1</th>\n",
       "      <td>Bill Gates</td>\n",
       "      <td>Philanthropist</td>\n",
       "    </tr>\n",
       "    <tr>\n",
       "      <th>2</th>\n",
       "      <td>Tom Brady</td>\n",
       "      <td>Athlete</td>\n",
       "    </tr>\n",
       "    <tr>\n",
       "      <th>3</th>\n",
       "      <td>Bill Nye</td>\n",
       "      <td>Presenter</td>\n",
       "    </tr>\n",
       "  </tbody>\n",
       "</table>\n",
       "</div>"
      ],
      "text/plain": [
       "         Name      Profession\n",
       "0      Sharat  Data scientist\n",
       "1  Bill Gates  Philanthropist\n",
       "2   Tom Brady         Athlete\n",
       "3    Bill Nye       Presenter"
      ]
     },
     "execution_count": 12,
     "metadata": {},
     "output_type": "execute_result"
    }
   ],
   "source": [
    "#read csv file with read_table\n",
    "df = pd.read_table('./data/data_csv.csv', sep=',', header=0)\n",
    "df"
   ]
  },
  {
   "cell_type": "code",
   "execution_count": 13,
   "metadata": {
    "slideshow": {
     "slide_type": "subslide"
    }
   },
   "outputs": [
    {
     "data": {
      "text/html": [
       "<div>\n",
       "<style scoped>\n",
       "    .dataframe tbody tr th:only-of-type {\n",
       "        vertical-align: middle;\n",
       "    }\n",
       "\n",
       "    .dataframe tbody tr th {\n",
       "        vertical-align: top;\n",
       "    }\n",
       "\n",
       "    .dataframe thead th {\n",
       "        text-align: right;\n",
       "    }\n",
       "</style>\n",
       "<table border=\"1\" class=\"dataframe\">\n",
       "  <thead>\n",
       "    <tr style=\"text-align: right;\">\n",
       "      <th></th>\n",
       "      <th>sepal_length</th>\n",
       "      <th>sepal_width</th>\n",
       "      <th>petal_length</th>\n",
       "      <th>petal_width</th>\n",
       "      <th>species</th>\n",
       "    </tr>\n",
       "  </thead>\n",
       "  <tbody>\n",
       "    <tr>\n",
       "      <th>0</th>\n",
       "      <td>5.1</td>\n",
       "      <td>3.5</td>\n",
       "      <td>1.4</td>\n",
       "      <td>0.2</td>\n",
       "      <td>setosa</td>\n",
       "    </tr>\n",
       "    <tr>\n",
       "      <th>1</th>\n",
       "      <td>4.9</td>\n",
       "      <td>3.0</td>\n",
       "      <td>1.4</td>\n",
       "      <td>0.2</td>\n",
       "      <td>setosa</td>\n",
       "    </tr>\n",
       "    <tr>\n",
       "      <th>2</th>\n",
       "      <td>4.7</td>\n",
       "      <td>3.2</td>\n",
       "      <td>1.3</td>\n",
       "      <td>0.2</td>\n",
       "      <td>setosa</td>\n",
       "    </tr>\n",
       "    <tr>\n",
       "      <th>3</th>\n",
       "      <td>4.6</td>\n",
       "      <td>3.1</td>\n",
       "      <td>1.5</td>\n",
       "      <td>0.2</td>\n",
       "      <td>setosa</td>\n",
       "    </tr>\n",
       "    <tr>\n",
       "      <th>4</th>\n",
       "      <td>5.0</td>\n",
       "      <td>3.6</td>\n",
       "      <td>1.4</td>\n",
       "      <td>0.2</td>\n",
       "      <td>setosa</td>\n",
       "    </tr>\n",
       "    <tr>\n",
       "      <th>...</th>\n",
       "      <td>...</td>\n",
       "      <td>...</td>\n",
       "      <td>...</td>\n",
       "      <td>...</td>\n",
       "      <td>...</td>\n",
       "    </tr>\n",
       "    <tr>\n",
       "      <th>145</th>\n",
       "      <td>6.7</td>\n",
       "      <td>3.0</td>\n",
       "      <td>5.2</td>\n",
       "      <td>2.3</td>\n",
       "      <td>virginica</td>\n",
       "    </tr>\n",
       "    <tr>\n",
       "      <th>146</th>\n",
       "      <td>6.3</td>\n",
       "      <td>2.5</td>\n",
       "      <td>5.0</td>\n",
       "      <td>1.9</td>\n",
       "      <td>virginica</td>\n",
       "    </tr>\n",
       "    <tr>\n",
       "      <th>147</th>\n",
       "      <td>6.5</td>\n",
       "      <td>3.0</td>\n",
       "      <td>5.2</td>\n",
       "      <td>2.0</td>\n",
       "      <td>virginica</td>\n",
       "    </tr>\n",
       "    <tr>\n",
       "      <th>148</th>\n",
       "      <td>6.2</td>\n",
       "      <td>3.4</td>\n",
       "      <td>5.4</td>\n",
       "      <td>2.3</td>\n",
       "      <td>virginica</td>\n",
       "    </tr>\n",
       "    <tr>\n",
       "      <th>149</th>\n",
       "      <td>5.9</td>\n",
       "      <td>3.0</td>\n",
       "      <td>5.1</td>\n",
       "      <td>1.8</td>\n",
       "      <td>virginica</td>\n",
       "    </tr>\n",
       "  </tbody>\n",
       "</table>\n",
       "<p>150 rows × 5 columns</p>\n",
       "</div>"
      ],
      "text/plain": [
       "     sepal_length  sepal_width  petal_length  petal_width    species\n",
       "0             5.1          3.5           1.4          0.2     setosa\n",
       "1             4.9          3.0           1.4          0.2     setosa\n",
       "2             4.7          3.2           1.3          0.2     setosa\n",
       "3             4.6          3.1           1.5          0.2     setosa\n",
       "4             5.0          3.6           1.4          0.2     setosa\n",
       "..            ...          ...           ...          ...        ...\n",
       "145           6.7          3.0           5.2          2.3  virginica\n",
       "146           6.3          2.5           5.0          1.9  virginica\n",
       "147           6.5          3.0           5.2          2.0  virginica\n",
       "148           6.2          3.4           5.4          2.3  virginica\n",
       "149           5.9          3.0           5.1          1.8  virginica\n",
       "\n",
       "[150 rows x 5 columns]"
      ]
     },
     "execution_count": 13,
     "metadata": {},
     "output_type": "execute_result"
    }
   ],
   "source": [
    "# Remote location https://raw.githubusercontent.com/mwaskom/seaborn-data/master/iris.csv\n",
    "data = 'https://raw.githubusercontent.com/mwaskom/seaborn-data/master/iris.csv'\n",
    "df = pd.read_csv(data)\n",
    "df"
   ]
  },
  {
   "cell_type": "markdown",
   "metadata": {
    "slideshow": {
     "slide_type": "slide"
    }
   },
   "source": [
    "## Read Excel file\n",
    "* Flat files are organized into 'row's and 'column's \n",
    "* Excel files are organized \n",
    "  * sheet\n",
    "  * row \n",
    "  * column\n",
    "* A single sheet correspondns to one or more sets of tabular data\n",
    "* Example\n",
    "<table>\n",
    "<td><img src=\"excel_file.png\"></td>\n",
    "<td><img src=\"excel_file_2.png\"></td>\n",
    "</table>"
   ]
  },
  {
   "cell_type": "code",
   "execution_count": 14,
   "metadata": {
    "slideshow": {
     "slide_type": "subslide"
    }
   },
   "outputs": [
    {
     "data": {
      "text/html": [
       "<div>\n",
       "<style scoped>\n",
       "    .dataframe tbody tr th:only-of-type {\n",
       "        vertical-align: middle;\n",
       "    }\n",
       "\n",
       "    .dataframe tbody tr th {\n",
       "        vertical-align: top;\n",
       "    }\n",
       "\n",
       "    .dataframe thead th {\n",
       "        text-align: right;\n",
       "    }\n",
       "</style>\n",
       "<table border=\"1\" class=\"dataframe\">\n",
       "  <thead>\n",
       "    <tr style=\"text-align: right;\">\n",
       "      <th></th>\n",
       "      <th>First Name</th>\n",
       "      <th>Last Name</th>\n",
       "      <th>Profession</th>\n",
       "    </tr>\n",
       "  </thead>\n",
       "  <tbody>\n",
       "    <tr>\n",
       "      <th>0</th>\n",
       "      <td>Sharat</td>\n",
       "      <td>Chikkerur</td>\n",
       "      <td>Data scientist</td>\n",
       "    </tr>\n",
       "    <tr>\n",
       "      <th>1</th>\n",
       "      <td>Tom</td>\n",
       "      <td>Brady</td>\n",
       "      <td>Athlete</td>\n",
       "    </tr>\n",
       "    <tr>\n",
       "      <th>2</th>\n",
       "      <td>Bill</td>\n",
       "      <td>Nye</td>\n",
       "      <td>TV Personality</td>\n",
       "    </tr>\n",
       "    <tr>\n",
       "      <th>3</th>\n",
       "      <td>Bill</td>\n",
       "      <td>Gates</td>\n",
       "      <td>Philanthropist</td>\n",
       "    </tr>\n",
       "  </tbody>\n",
       "</table>\n",
       "</div>"
      ],
      "text/plain": [
       "  First Name  Last Name      Profession\n",
       "0     Sharat  Chikkerur  Data scientist\n",
       "1        Tom      Brady         Athlete\n",
       "2       Bill        Nye  TV Personality\n",
       "3       Bill      Gates  Philanthropist"
      ]
     },
     "execution_count": 14,
     "metadata": {},
     "output_type": "execute_result"
    }
   ],
   "source": [
    "#read data_excel.xlsx Profession sheet\n",
    "df_pro = pd.read_excel('./data/data_excel.xlsx', sheet_name='Profession')\n",
    "df_pro"
   ]
  },
  {
   "cell_type": "code",
   "execution_count": 15,
   "metadata": {
    "slideshow": {
     "slide_type": "subslide"
    }
   },
   "outputs": [
    {
     "data": {
      "text/html": [
       "<div>\n",
       "<style scoped>\n",
       "    .dataframe tbody tr th:only-of-type {\n",
       "        vertical-align: middle;\n",
       "    }\n",
       "\n",
       "    .dataframe tbody tr th {\n",
       "        vertical-align: top;\n",
       "    }\n",
       "\n",
       "    .dataframe thead th {\n",
       "        text-align: right;\n",
       "    }\n",
       "</style>\n",
       "<table border=\"1\" class=\"dataframe\">\n",
       "  <thead>\n",
       "    <tr style=\"text-align: right;\">\n",
       "      <th></th>\n",
       "      <th>First Name</th>\n",
       "      <th>Last Name</th>\n",
       "      <th>Age</th>\n",
       "    </tr>\n",
       "  </thead>\n",
       "  <tbody>\n",
       "    <tr>\n",
       "      <th>0</th>\n",
       "      <td>Sharat</td>\n",
       "      <td>Chikkerur</td>\n",
       "      <td>38</td>\n",
       "    </tr>\n",
       "    <tr>\n",
       "      <th>1</th>\n",
       "      <td>Tom</td>\n",
       "      <td>Brady</td>\n",
       "      <td>40</td>\n",
       "    </tr>\n",
       "    <tr>\n",
       "      <th>2</th>\n",
       "      <td>Bill</td>\n",
       "      <td>Nye</td>\n",
       "      <td>62</td>\n",
       "    </tr>\n",
       "    <tr>\n",
       "      <th>3</th>\n",
       "      <td>Barack</td>\n",
       "      <td>Obama</td>\n",
       "      <td>56</td>\n",
       "    </tr>\n",
       "  </tbody>\n",
       "</table>\n",
       "</div>"
      ],
      "text/plain": [
       "  First Name  Last Name  Age\n",
       "0     Sharat  Chikkerur   38\n",
       "1        Tom      Brady   40\n",
       "2       Bill        Nye   62\n",
       "3     Barack      Obama   56"
      ]
     },
     "execution_count": 15,
     "metadata": {},
     "output_type": "execute_result"
    }
   ],
   "source": [
    "#read data_excel.xlsx Age sheet\n",
    "df_age = pd.read_excel('./data/data_excel.xlsx', sheet_name='Age')\n",
    "df_age"
   ]
  },
  {
   "cell_type": "code",
   "execution_count": 16,
   "metadata": {
    "scrolled": true,
    "slideshow": {
     "slide_type": "subslide"
    }
   },
   "outputs": [
    {
     "data": {
      "text/html": [
       "<div>\n",
       "<style scoped>\n",
       "    .dataframe tbody tr th:only-of-type {\n",
       "        vertical-align: middle;\n",
       "    }\n",
       "\n",
       "    .dataframe tbody tr th {\n",
       "        vertical-align: top;\n",
       "    }\n",
       "\n",
       "    .dataframe thead th {\n",
       "        text-align: right;\n",
       "    }\n",
       "</style>\n",
       "<table border=\"1\" class=\"dataframe\">\n",
       "  <thead>\n",
       "    <tr style=\"text-align: right;\">\n",
       "      <th></th>\n",
       "      <th>First Name</th>\n",
       "      <th>Last Name</th>\n",
       "      <th>Profession</th>\n",
       "      <th>Age</th>\n",
       "    </tr>\n",
       "  </thead>\n",
       "  <tbody>\n",
       "    <tr>\n",
       "      <th>0</th>\n",
       "      <td>Sharat</td>\n",
       "      <td>Chikkerur</td>\n",
       "      <td>Data scientist</td>\n",
       "      <td>38</td>\n",
       "    </tr>\n",
       "    <tr>\n",
       "      <th>1</th>\n",
       "      <td>Tom</td>\n",
       "      <td>Brady</td>\n",
       "      <td>Athlete</td>\n",
       "      <td>40</td>\n",
       "    </tr>\n",
       "    <tr>\n",
       "      <th>2</th>\n",
       "      <td>Bill</td>\n",
       "      <td>Nye</td>\n",
       "      <td>TV Personality</td>\n",
       "      <td>62</td>\n",
       "    </tr>\n",
       "    <tr>\n",
       "      <th>3</th>\n",
       "      <td>Barack</td>\n",
       "      <td>Obama</td>\n",
       "      <td>NaN</td>\n",
       "      <td>56</td>\n",
       "    </tr>\n",
       "  </tbody>\n",
       "</table>\n",
       "</div>"
      ],
      "text/plain": [
       "  First Name  Last Name      Profession  Age\n",
       "0     Sharat  Chikkerur  Data scientist   38\n",
       "1        Tom      Brady         Athlete   40\n",
       "2       Bill        Nye  TV Personality   62\n",
       "3     Barack      Obama             NaN   56"
      ]
     },
     "execution_count": 16,
     "metadata": {},
     "output_type": "execute_result"
    }
   ],
   "source": [
    "#demonstrate left, right, inner & outer join method\n",
    "df_merge = df_pro.merge(df_age,\n",
    "                       on = ['First Name', 'Last Name'],\n",
    "                       how = 'right')\n",
    "df_merge"
   ]
  },
  {
   "cell_type": "code",
   "execution_count": 17,
   "metadata": {},
   "outputs": [
    {
     "data": {
      "text/plain": [
       "First Name    0\n",
       "Last Name     0\n",
       "Profession    1\n",
       "Age           0\n",
       "dtype: int64"
      ]
     },
     "execution_count": 17,
     "metadata": {},
     "output_type": "execute_result"
    }
   ],
   "source": [
    "#check null \n",
    "df_merge.isnull().sum()"
   ]
  },
  {
   "cell_type": "markdown",
   "metadata": {
    "slideshow": {
     "slide_type": "subslide"
    }
   },
   "source": [
    "#### Additional options\n",
    "```python\n",
    "pandas.read_excel(io, sheet_name=0, header=0, skiprows=None, skip_footer=0, index_col=None, names=None, usecols=None, parse_dates=False, date_parser=None, na_values=None, thousands=None, convert_float=True, converters=None, dtype=None, true_values=None, false_values=None, engine=None, squeeze=False, **kwds)\n",
    "```\n",
    "* **skiprows** : Rows to skip in the beginning\n",
    "* **skip_footer**: Rows to skip in the end\n",
    "* **names** : List of column names to use\n",
    "* **header** : None if there is no header, otherwise row number to use\n",
    "* **usecols** : Selectively include columns\n",
    "* **na_values** : Additional string to recognize as NA\n",
    "\n",
    "* Supplementary reading\n",
    "https://pandas.pydata.org/pandas-docs/stable/generated/pandas.read_excel.htm"
   ]
  },
  {
   "cell_type": "markdown",
   "metadata": {},
   "source": [
    "## Read Pickled file"
   ]
  },
  {
   "cell_type": "code",
   "execution_count": 20,
   "metadata": {},
   "outputs": [],
   "source": [
    "import pickle\n",
    "\n",
    "data = {\n",
    "    'Name': ['Sharat', 'Bill Gates', 'Tom Brady', 'Bill Nye'],\n",
    "    'Profession': {'Data scientist', 'Philanthropist', 'Athlete', 'Presenter'}\n",
    "}\n",
    "\n",
    "with open('./data/data.pickle', 'wb') as f:\n",
    "    # Pickle the 'data' dictionary using the highest protocol available.\n",
    "    pickle.dump(data, f, pickle.HIGHEST_PROTOCOL)"
   ]
  },
  {
   "cell_type": "code",
   "execution_count": 21,
   "metadata": {},
   "outputs": [
    {
     "name": "stdout",
     "output_type": "stream",
     "text": [
      "{'Name': ['Sharat', 'Bill Gates', 'Tom Brady', 'Bill Nye'], 'Profession': {'Philanthropist', 'Athlete', 'Data scientist', 'Presenter'}}\n"
     ]
    }
   ],
   "source": [
    "with open('./data/data.pickle', 'rb') as f:\n",
    "    print(pickle.load(f))"
   ]
  },
  {
   "cell_type": "markdown",
   "metadata": {},
   "source": [
    "## Read HDF5 file"
   ]
  },
  {
   "cell_type": "code",
   "execution_count": 23,
   "metadata": {},
   "outputs": [
    {
     "name": "stdout",
     "output_type": "stream",
     "text": [
      "Collecting h5py\n",
      "  Downloading h5py-3.4.0-cp37-cp37m-win_amd64.whl (2.7 MB)\n",
      "Requirement already satisfied: numpy>=1.14.5; python_version == \"3.7\" in d:\\dev\\miniconda3\\envs\\aly6140\\lib\\site-packages (from h5py) (1.18.1)\n",
      "Collecting cached-property; python_version < \"3.8\"\n",
      "  Downloading cached_property-1.5.2-py2.py3-none-any.whl (7.6 kB)\n",
      "Installing collected packages: cached-property, h5py\n",
      "Successfully installed cached-property-1.5.2 h5py-3.4.0\n"
     ]
    }
   ],
   "source": [
    "!pip install h5py"
   ]
  },
  {
   "cell_type": "code",
   "execution_count": 24,
   "metadata": {},
   "outputs": [],
   "source": [
    "import h5py\n",
    "import numpy as np\n",
    "\n",
    "with h5py.File(\"./data/data.hdf5\", \"w\") as f:\n",
    "    dset = f.create_dataset(\"dataset_h5py\", (100,), dtype='i')"
   ]
  },
  {
   "cell_type": "code",
   "execution_count": 25,
   "metadata": {},
   "outputs": [
    {
     "data": {
      "text/plain": [
       "['dataset_h5py']"
      ]
     },
     "execution_count": 25,
     "metadata": {},
     "output_type": "execute_result"
    }
   ],
   "source": [
    "f = h5py.File('./data/data.hdf5', 'r')\n",
    "list(f.keys())"
   ]
  },
  {
   "cell_type": "code",
   "execution_count": 26,
   "metadata": {},
   "outputs": [
    {
     "name": "stdout",
     "output_type": "stream",
     "text": [
      "<HDF5 dataset \"dataset_h5py\": shape (100,), type \"<i4\">\n",
      "(100,)\n",
      "int32\n"
     ]
    }
   ],
   "source": [
    "d = f['dataset_h5py']\n",
    "print(d)\n",
    "print(d.shape)\n",
    "print(d.dtype)"
   ]
  },
  {
   "cell_type": "code",
   "execution_count": 27,
   "metadata": {
    "scrolled": true
   },
   "outputs": [
    {
     "name": "stdout",
     "output_type": "stream",
     "text": [
      "<class 'h5py._hl.files.File'>\n",
      "meta\n",
      "quality\n",
      "strain\n"
     ]
    }
   ],
   "source": [
    "#H-H1_LOSC_4_V2-1126259446-32.hdf5\n",
    "#strain data at 4096Hz around 32 seconds\n",
    "\n",
    "frequency = 4096\n",
    "\n",
    "file = './data/H-H1_LOSC_4_V2-1126259446-32.hdf5'\n",
    "hdf = h5py.File(file, 'r')\n",
    "\n",
    "print(type(hdf))\n",
    "\n",
    "for key in hdf.keys():\n",
    "    print(key)"
   ]
  },
  {
   "cell_type": "code",
   "execution_count": 28,
   "metadata": {
    "scrolled": true
   },
   "outputs": [
    {
     "name": "stdout",
     "output_type": "stream",
     "text": [
      "Description\n",
      "DescriptionURL\n",
      "Detector\n",
      "Duration\n",
      "GPSstart\n",
      "Observatory\n",
      "Type\n",
      "UTCstart\n"
     ]
    }
   ],
   "source": [
    "for key in hdf['meta'].keys():\n",
    "    print(key)"
   ]
  },
  {
   "cell_type": "code",
   "execution_count": 29,
   "metadata": {},
   "outputs": [
    {
     "name": "stdout",
     "output_type": "stream",
     "text": [
      "b'H1'\n",
      "32\n",
      "b'H'\n",
      "2015-09-14T09:50:29\n"
     ]
    }
   ],
   "source": [
    "#H5pyDeprecationWarning\n",
    "#print(hdf['meta'][('Observatory')].value) \n",
    "\n",
    "print(hdf['meta']['Detector'][()])\n",
    "print(hdf['meta']['Duration'][()])\n",
    "print(hdf['meta']['Observatory'][()])\n",
    "print(str(hdf['meta']['UTCstart'][()], 'utf-8'))"
   ]
  },
  {
   "cell_type": "code",
   "execution_count": 30,
   "metadata": {},
   "outputs": [
    {
     "name": "stdout",
     "output_type": "stream",
     "text": [
      "32.0\n"
     ]
    }
   ],
   "source": [
    "strain = hdf['strain']['Strain']\n",
    "print(len(strain)/frequency)"
   ]
  },
  {
   "cell_type": "code",
   "execution_count": 33,
   "metadata": {},
   "outputs": [
    {
     "data": {
      "image/png": "[encoded data removed]",
      "text/plain": [
       "<Figure size 1440x432 with 1 Axes>"
      ]
     },
     "metadata": {
      "needs_background": "light"
     },
     "output_type": "display_data"
    }
   ],
   "source": [
    "import matplotlib.pyplot as plt\n",
    "%matplotlib inline\n",
    "\n",
    "plt.figure(figsize=(20,6))\n",
    "\n",
    "time_span = 32\n",
    "num_samples = frequency * time_span\n",
    "\n",
    "time = np.arange(0, time_span, time_span/num_samples)\n",
    "\n",
    "plt.plot(time, strain[:num_samples], 'g')\n",
    "plt.xlabel('GPS Time (s)')\n",
    "plt.ylabel('strain')\n",
    "plt.title('Gravitational-Wave Strain Data')\n",
    "plt.show()"
   ]
  },
  {
   "cell_type": "markdown",
   "metadata": {
    "slideshow": {
     "slide_type": "slide"
    }
   },
   "source": [
    "## Reading data from SQL\n",
    "* SQL sources store data in relational form\n",
    "  * Data is organized into databases\n",
    "  * Each database consists of one or more tables\n",
    "  * Each table consists of rows and columns\n",
    "* Benefits of SQL\n",
    "  * Tables can be logically linked using joins\n",
    "  * Row and column subsets can be expressed through SQL queries \n",
    "* Pandas\n",
    "  * pandas.io.sql module provides a collection of wrappers to connect to SQL databases\n",
    "  * Its abstracts the DB specific APIs (requires sqlalchemy to be installed)\n",
    "  * Steps\n",
    "    * Create a connection using sqlalchemy.create_connection()\n",
    "    * Access data using table name or query\n",
    "        * read_sql_table()\n",
    "        * read_sql_query()\n",
    "        * read_sql()"
   ]
  },
  {
   "cell_type": "markdown",
   "metadata": {
    "slideshow": {
     "slide_type": "slide"
    }
   },
   "source": [
    "### Accessing  databases\n",
    "* For this exercise, we will try to access a local SQL database using sqlite. \n",
    "* Procedure to access remote database are similar. \n",
    "* The local database was created in SQLite using the following\n",
    "```sql\n",
    "sqlite> .open pro_and_age\n",
    "sqlite> create table profession(first_name varchar ,last_name varchar, profession varchar);\n",
    "sqlite> create table age(first_name varchar, last_name varchar, age int);\n",
    "sqlite> insert into profession values ((\"Sharat\", \"Chikkerur\", \"Data scientist\"), (\"Tom\", \"Brady\", \"Athlete\"), (\"Bill\", \"Nye\", \"TV Personality\"), (\"Bill\", \"Gates\", \"Philanthropist\"));\n",
    "sqlite> insert into profession values (\"Sharat\", \"Chikkerur\", \"Data scientist\"), (\"Tom\", \"Brady\", \"Athlete\"), (\"Bill\", \"Nye\", \"TV Personality\"), (\"Bill\", \"Gates\", \"Philanthropist\");\n",
    "sqlite> insert into age values(\"Sharat\",\"Chikkerur\", 38), (\"Tom\", \"Brady\", 40), (\"Bill\", \"Nye\", 62), (\"Barack\", \"Obama\", 56);\n",
    "```"
   ]
  },
  {
   "cell_type": "code",
   "execution_count": 34,
   "metadata": {
    "slideshow": {
     "slide_type": "subslide"
    }
   },
   "outputs": [],
   "source": [
    "from sqlalchemy import create_engine\n",
    "\n",
    "#For a relative file path, this requires three slashes\n",
    "#Load database pro_and_age.db\n",
    "engine = create_engine(\"sqlite:///./data/pro_and_age.db\") "
   ]
  },
  {
   "cell_type": "code",
   "execution_count": 35,
   "metadata": {},
   "outputs": [
    {
     "data": {
      "text/plain": [
       "['age', 'profession']"
      ]
     },
     "execution_count": 35,
     "metadata": {},
     "output_type": "execute_result"
    }
   ],
   "source": [
    "engine.table_names()"
   ]
  },
  {
   "cell_type": "code",
   "execution_count": 36,
   "metadata": {
    "scrolled": true,
    "slideshow": {
     "slide_type": "subslide"
    }
   },
   "outputs": [
    {
     "data": {
      "text/html": [
       "<div>\n",
       "<style scoped>\n",
       "    .dataframe tbody tr th:only-of-type {\n",
       "        vertical-align: middle;\n",
       "    }\n",
       "\n",
       "    .dataframe tbody tr th {\n",
       "        vertical-align: top;\n",
       "    }\n",
       "\n",
       "    .dataframe thead th {\n",
       "        text-align: right;\n",
       "    }\n",
       "</style>\n",
       "<table border=\"1\" class=\"dataframe\">\n",
       "  <thead>\n",
       "    <tr style=\"text-align: right;\">\n",
       "      <th></th>\n",
       "      <th>first_name</th>\n",
       "      <th>last_name</th>\n",
       "      <th>profession</th>\n",
       "    </tr>\n",
       "  </thead>\n",
       "  <tbody>\n",
       "    <tr>\n",
       "      <th>0</th>\n",
       "      <td>Sharat</td>\n",
       "      <td>Chikkerur</td>\n",
       "      <td>Data scientist</td>\n",
       "    </tr>\n",
       "    <tr>\n",
       "      <th>1</th>\n",
       "      <td>Tom</td>\n",
       "      <td>Brady</td>\n",
       "      <td>Athlete</td>\n",
       "    </tr>\n",
       "    <tr>\n",
       "      <th>2</th>\n",
       "      <td>Bill</td>\n",
       "      <td>Nye</td>\n",
       "      <td>TV Personality</td>\n",
       "    </tr>\n",
       "    <tr>\n",
       "      <th>3</th>\n",
       "      <td>Bill</td>\n",
       "      <td>Gates</td>\n",
       "      <td>Philanthropist</td>\n",
       "    </tr>\n",
       "  </tbody>\n",
       "</table>\n",
       "</div>"
      ],
      "text/plain": [
       "  first_name  last_name      profession\n",
       "0     Sharat  Chikkerur  Data scientist\n",
       "1        Tom      Brady         Athlete\n",
       "2       Bill        Nye  TV Personality\n",
       "3       Bill      Gates  Philanthropist"
      ]
     },
     "execution_count": 36,
     "metadata": {},
     "output_type": "execute_result"
    }
   ],
   "source": [
    "#read table profession\n",
    "pd.read_sql_table('profession', engine)"
   ]
  },
  {
   "cell_type": "code",
   "execution_count": 37,
   "metadata": {
    "scrolled": true,
    "slideshow": {
     "slide_type": "subslide"
    }
   },
   "outputs": [
    {
     "data": {
      "text/html": [
       "<div>\n",
       "<style scoped>\n",
       "    .dataframe tbody tr th:only-of-type {\n",
       "        vertical-align: middle;\n",
       "    }\n",
       "\n",
       "    .dataframe tbody tr th {\n",
       "        vertical-align: top;\n",
       "    }\n",
       "\n",
       "    .dataframe thead th {\n",
       "        text-align: right;\n",
       "    }\n",
       "</style>\n",
       "<table border=\"1\" class=\"dataframe\">\n",
       "  <thead>\n",
       "    <tr style=\"text-align: right;\">\n",
       "      <th></th>\n",
       "      <th>first_name</th>\n",
       "      <th>last_name</th>\n",
       "      <th>age</th>\n",
       "    </tr>\n",
       "  </thead>\n",
       "  <tbody>\n",
       "    <tr>\n",
       "      <th>0</th>\n",
       "      <td>Sharat</td>\n",
       "      <td>Chikkerur</td>\n",
       "      <td>38</td>\n",
       "    </tr>\n",
       "    <tr>\n",
       "      <th>1</th>\n",
       "      <td>Tom</td>\n",
       "      <td>Brady</td>\n",
       "      <td>40</td>\n",
       "    </tr>\n",
       "    <tr>\n",
       "      <th>2</th>\n",
       "      <td>Bill</td>\n",
       "      <td>Nye</td>\n",
       "      <td>62</td>\n",
       "    </tr>\n",
       "    <tr>\n",
       "      <th>3</th>\n",
       "      <td>Barack</td>\n",
       "      <td>Obama</td>\n",
       "      <td>56</td>\n",
       "    </tr>\n",
       "  </tbody>\n",
       "</table>\n",
       "</div>"
      ],
      "text/plain": [
       "  first_name  last_name  age\n",
       "0     Sharat  Chikkerur   38\n",
       "1        Tom      Brady   40\n",
       "2       Bill        Nye   62\n",
       "3     Barack      Obama   56"
      ]
     },
     "execution_count": 37,
     "metadata": {},
     "output_type": "execute_result"
    }
   ],
   "source": [
    "#read table age\n",
    "pd.read_sql_table('age', engine)"
   ]
  },
  {
   "cell_type": "code",
   "execution_count": 38,
   "metadata": {
    "scrolled": false,
    "slideshow": {
     "slide_type": "slide"
    }
   },
   "outputs": [
    {
     "data": {
      "text/html": [
       "<div>\n",
       "<style scoped>\n",
       "    .dataframe tbody tr th:only-of-type {\n",
       "        vertical-align: middle;\n",
       "    }\n",
       "\n",
       "    .dataframe tbody tr th {\n",
       "        vertical-align: top;\n",
       "    }\n",
       "\n",
       "    .dataframe thead th {\n",
       "        text-align: right;\n",
       "    }\n",
       "</style>\n",
       "<table border=\"1\" class=\"dataframe\">\n",
       "  <thead>\n",
       "    <tr style=\"text-align: right;\">\n",
       "      <th></th>\n",
       "      <th>first_name</th>\n",
       "      <th>last_name</th>\n",
       "      <th>profession</th>\n",
       "      <th>age</th>\n",
       "    </tr>\n",
       "  </thead>\n",
       "  <tbody>\n",
       "    <tr>\n",
       "      <th>0</th>\n",
       "      <td>Sharat</td>\n",
       "      <td>Chikkerur</td>\n",
       "      <td>Data scientist</td>\n",
       "      <td>38</td>\n",
       "    </tr>\n",
       "    <tr>\n",
       "      <th>1</th>\n",
       "      <td>Tom</td>\n",
       "      <td>Brady</td>\n",
       "      <td>Athlete</td>\n",
       "      <td>40</td>\n",
       "    </tr>\n",
       "    <tr>\n",
       "      <th>2</th>\n",
       "      <td>Bill</td>\n",
       "      <td>Nye</td>\n",
       "      <td>TV Personality</td>\n",
       "      <td>62</td>\n",
       "    </tr>\n",
       "  </tbody>\n",
       "</table>\n",
       "</div>"
      ],
      "text/plain": [
       "  first_name  last_name      profession  age\n",
       "0     Sharat  Chikkerur  Data scientist   38\n",
       "1        Tom      Brady         Athlete   40\n",
       "2       Bill        Nye  TV Personality   62"
      ]
     },
     "execution_count": 38,
     "metadata": {},
     "output_type": "execute_result"
    }
   ],
   "source": [
    "#sql query\n",
    "\n",
    "df_inner = pd.read_sql_query(\n",
    "\"\"\"\n",
    "select p.first_name, p.last_name, p.profession, a.age\n",
    "from \n",
    "    profession p\n",
    "    inner join age a\n",
    "    on \n",
    "        p.first_name = a.first_name and\n",
    "        p.last_name = a.last_name\n",
    "\"\"\", engine)\n",
    "\n",
    "df_inner\n",
    "\n",
    "#OperationalError: (sqlite3.OperationalError) RIGHT and FULL \n",
    "#OUTER JOINs are not currently supported\n",
    "#only left & inner work"
   ]
  },
  {
   "cell_type": "code",
   "execution_count": 40,
   "metadata": {},
   "outputs": [
    {
     "data": {
      "text/plain": [
       "first_name    0\n",
       "last_name     0\n",
       "profession    0\n",
       "age           0\n",
       "dtype: int64"
      ]
     },
     "execution_count": 40,
     "metadata": {},
     "output_type": "execute_result"
    }
   ],
   "source": [
    "#check null \n",
    "df_inner.isnull().sum()"
   ]
  },
  {
   "cell_type": "code",
   "execution_count": 41,
   "metadata": {},
   "outputs": [
    {
     "data": {
      "text/html": [
       "<div>\n",
       "<style scoped>\n",
       "    .dataframe tbody tr th:only-of-type {\n",
       "        vertical-align: middle;\n",
       "    }\n",
       "\n",
       "    .dataframe tbody tr th {\n",
       "        vertical-align: top;\n",
       "    }\n",
       "\n",
       "    .dataframe thead th {\n",
       "        text-align: right;\n",
       "    }\n",
       "</style>\n",
       "<table border=\"1\" class=\"dataframe\">\n",
       "  <thead>\n",
       "    <tr style=\"text-align: right;\">\n",
       "      <th></th>\n",
       "      <th>first_name</th>\n",
       "      <th>last_name</th>\n",
       "      <th>profession</th>\n",
       "      <th>age</th>\n",
       "    </tr>\n",
       "  </thead>\n",
       "  <tbody>\n",
       "    <tr>\n",
       "      <th>0</th>\n",
       "      <td>Sharat</td>\n",
       "      <td>Chikkerur</td>\n",
       "      <td>Data scientist</td>\n",
       "      <td>38.0</td>\n",
       "    </tr>\n",
       "    <tr>\n",
       "      <th>1</th>\n",
       "      <td>Tom</td>\n",
       "      <td>Brady</td>\n",
       "      <td>Athlete</td>\n",
       "      <td>40.0</td>\n",
       "    </tr>\n",
       "    <tr>\n",
       "      <th>2</th>\n",
       "      <td>Bill</td>\n",
       "      <td>Nye</td>\n",
       "      <td>TV Personality</td>\n",
       "      <td>62.0</td>\n",
       "    </tr>\n",
       "    <tr>\n",
       "      <th>3</th>\n",
       "      <td>Bill</td>\n",
       "      <td>Gates</td>\n",
       "      <td>Philanthropist</td>\n",
       "      <td>NaN</td>\n",
       "    </tr>\n",
       "  </tbody>\n",
       "</table>\n",
       "</div>"
      ],
      "text/plain": [
       "  first_name  last_name      profession   age\n",
       "0     Sharat  Chikkerur  Data scientist  38.0\n",
       "1        Tom      Brady         Athlete  40.0\n",
       "2       Bill        Nye  TV Personality  62.0\n",
       "3       Bill      Gates  Philanthropist   NaN"
      ]
     },
     "execution_count": 41,
     "metadata": {},
     "output_type": "execute_result"
    }
   ],
   "source": [
    "query = \"\"\"\n",
    "select p.first_name, p.last_name, p.profession, a.age\n",
    "from \n",
    "    profession p\n",
    "    left join age a\n",
    "    on \n",
    "        p.first_name = a.first_name and\n",
    "        p.last_name = a.last_name\n",
    "\"\"\"\n",
    "\n",
    "df_left = pd.read_sql(query, engine)\n",
    "df_left"
   ]
  },
  {
   "cell_type": "markdown",
   "metadata": {
    "collapsed": true,
    "slideshow": {
     "slide_type": "slide"
    }
   },
   "source": [
    "## Scraping data from the web\n",
    "\n",
    "* Data on the web might be\n",
    "  * csv, excel, flat files available through a URL\n",
    "  * structured data available through an API\n",
    "  * unstructured data embedded as parts of a web page\n",
    "* Flat files\n",
    "  * read_csv(), read_excel(), read_table() support URL as location of files\n",
    "* Structure data:\n",
    "  * requests library allows us to read/write to web-apis\n",
    "* Unstructured data\n",
    "  * BeautifulSoup library allows us to parse html pages and extract information"
   ]
  },
  {
   "cell_type": "markdown",
   "metadata": {
    "slideshow": {
     "slide_type": "slide"
    }
   },
   "source": [
    "#### Structured data\n",
    "* RESTful APIs allow us to query data by placing http calls\n",
    "* requests library allows us to access data available through http(s) protocol\n",
    "* Example:\n",
    "  * Coindesk provides a http api to get current bitcoin prices\n",
    "    * https://www.coindesk.com/api/\n",
    "  * We can use requests library to access current price\n",
    "```python\n",
    "import requests\n",
    "URL = 'https://api.coindesk.com/v1/bpi/currentprice/USD.json'\n",
    "response = requests.get(URL)\n",
    "response.json()\n",
    "```\n",
    "* A list of open access APIs is curated at\n",
    "https://github.com/toddmotto/public-apis"
   ]
  },
  {
   "cell_type": "code",
   "execution_count": 42,
   "metadata": {},
   "outputs": [
    {
     "name": "stdout",
     "output_type": "stream",
     "text": [
      "Mark Vande Hei is in space on the ISS craft.\n",
      "Oleg Novitskiy is in space on the ISS craft.\n",
      "Pyotr Dubrov is in space on the ISS craft.\n",
      "Thomas Pesquet is in space on the ISS craft.\n",
      "Megan McArthur is in space on the ISS craft.\n",
      "Shane Kimbrough is in space on the ISS craft.\n",
      "Akihiko Hoshide is in space on the ISS craft.\n"
     ]
    }
   ],
   "source": [
    "import requests\n",
    "\n",
    "URL = 'http://api.open-notify.org/astros.json'\n",
    "response = requests.get(URL)\n",
    "json = response.json()\n",
    "\n",
    "# Here is the entire result\n",
    "for n in response.json()['people']:\n",
    "    print(f\"{n['name']} is in space on the {n['craft']} craft.\")"
   ]
  },
  {
   "cell_type": "code",
   "execution_count": 43,
   "metadata": {},
   "outputs": [
    {
     "data": {
      "text/html": [
       "<div>\n",
       "<style scoped>\n",
       "    .dataframe tbody tr th:only-of-type {\n",
       "        vertical-align: middle;\n",
       "    }\n",
       "\n",
       "    .dataframe tbody tr th {\n",
       "        vertical-align: top;\n",
       "    }\n",
       "\n",
       "    .dataframe thead th {\n",
       "        text-align: right;\n",
       "    }\n",
       "</style>\n",
       "<table border=\"1\" class=\"dataframe\">\n",
       "  <thead>\n",
       "    <tr style=\"text-align: right;\">\n",
       "      <th></th>\n",
       "      <th>people</th>\n",
       "      <th>number</th>\n",
       "      <th>message</th>\n",
       "    </tr>\n",
       "  </thead>\n",
       "  <tbody>\n",
       "    <tr>\n",
       "      <th>0</th>\n",
       "      <td>{'craft': 'ISS', 'name': 'Mark Vande Hei'}</td>\n",
       "      <td>7</td>\n",
       "      <td>success</td>\n",
       "    </tr>\n",
       "    <tr>\n",
       "      <th>1</th>\n",
       "      <td>{'craft': 'ISS', 'name': 'Oleg Novitskiy'}</td>\n",
       "      <td>7</td>\n",
       "      <td>success</td>\n",
       "    </tr>\n",
       "    <tr>\n",
       "      <th>2</th>\n",
       "      <td>{'craft': 'ISS', 'name': 'Pyotr Dubrov'}</td>\n",
       "      <td>7</td>\n",
       "      <td>success</td>\n",
       "    </tr>\n",
       "    <tr>\n",
       "      <th>3</th>\n",
       "      <td>{'craft': 'ISS', 'name': 'Thomas Pesquet'}</td>\n",
       "      <td>7</td>\n",
       "      <td>success</td>\n",
       "    </tr>\n",
       "    <tr>\n",
       "      <th>4</th>\n",
       "      <td>{'craft': 'ISS', 'name': 'Megan McArthur'}</td>\n",
       "      <td>7</td>\n",
       "      <td>success</td>\n",
       "    </tr>\n",
       "    <tr>\n",
       "      <th>5</th>\n",
       "      <td>{'craft': 'ISS', 'name': 'Shane Kimbrough'}</td>\n",
       "      <td>7</td>\n",
       "      <td>success</td>\n",
       "    </tr>\n",
       "    <tr>\n",
       "      <th>6</th>\n",
       "      <td>{'craft': 'ISS', 'name': 'Akihiko Hoshide'}</td>\n",
       "      <td>7</td>\n",
       "      <td>success</td>\n",
       "    </tr>\n",
       "  </tbody>\n",
       "</table>\n",
       "</div>"
      ],
      "text/plain": [
       "                                        people  number  message\n",
       "0   {'craft': 'ISS', 'name': 'Mark Vande Hei'}       7  success\n",
       "1   {'craft': 'ISS', 'name': 'Oleg Novitskiy'}       7  success\n",
       "2     {'craft': 'ISS', 'name': 'Pyotr Dubrov'}       7  success\n",
       "3   {'craft': 'ISS', 'name': 'Thomas Pesquet'}       7  success\n",
       "4   {'craft': 'ISS', 'name': 'Megan McArthur'}       7  success\n",
       "5  {'craft': 'ISS', 'name': 'Shane Kimbrough'}       7  success\n",
       "6  {'craft': 'ISS', 'name': 'Akihiko Hoshide'}       7  success"
      ]
     },
     "execution_count": 43,
     "metadata": {},
     "output_type": "execute_result"
    }
   ],
   "source": [
    "import pandas as pd\n",
    "response = pd.read_json(URL)\n",
    "response"
   ]
  },
  {
   "cell_type": "code",
   "execution_count": 44,
   "metadata": {
    "scrolled": true,
    "slideshow": {
     "slide_type": "slide"
    }
   },
   "outputs": [
    {
     "name": "stdout",
     "output_type": "stream",
     "text": [
      "{'time': {'updated': 'Oct 1, 2021 07:52:00 UTC', 'updatedISO': '2021-10-01T07:52:00+00:00', 'updateduk': 'Oct 1, 2021 at 08:52 BST'}, 'disclaimer': 'This data was produced from the CoinDesk Bitcoin Price Index (USD). Non-USD currency data converted using hourly conversion rate from openexchangerates.org', 'bpi': {'USD': {'code': 'USD', 'rate': '44,758.3200', 'description': 'United States Dollar', 'rate_float': 44758.32}}}\n"
     ]
    }
   ],
   "source": [
    "import requests\n",
    "URL = 'https://api.coindesk.com/v1/bpi/currentprice/USD.json'\n",
    "response = requests.get(URL)\n",
    "json = response.json()\n",
    "\n",
    "# Here is the entire result\n",
    "print(json)"
   ]
  },
  {
   "cell_type": "code",
   "execution_count": 45,
   "metadata": {},
   "outputs": [
    {
     "name": "stdout",
     "output_type": "stream",
     "text": [
      "Current price\n",
      "44758.32\n",
      "Oct 1, 2021 07:52:00 UTC\n"
     ]
    }
   ],
   "source": [
    "# We can access specific fields through the json attribute\n",
    "print(\"Current price\")\n",
    "print(json.get('bpi').get('USD').get('rate_float'))\n",
    "print(json.get('time').get('updated'))"
   ]
  },
  {
   "cell_type": "markdown",
   "metadata": {
    "slideshow": {
     "slide_type": "slide"
    }
   },
   "source": [
    "#### Example\n",
    "* Use metaweather API to get weather in london next two days\n",
    "    * https://www.metaweather.com/api/"
   ]
  },
  {
   "cell_type": "code",
   "execution_count": 46,
   "metadata": {},
   "outputs": [
    {
     "name": "stdout",
     "output_type": "stream",
     "text": [
      "EUR/USD: 0.861\n",
      "USD/JPY: 111.73\n"
     ]
    }
   ],
   "source": [
    "import requests\n",
    "\n",
    "URL = 'https://api.exchangerate-api.com/v4/latest/USD'\n",
    "response = requests.get(URL).json()\n",
    "\n",
    "print(f\"EUR/USD: {response['rates']['EUR']}\")\n",
    "print(f\"USD/JPY: {response['rates']['JPY']}\")"
   ]
  },
  {
   "cell_type": "code",
   "execution_count": 47,
   "metadata": {
    "slideshow": {
     "slide_type": "slide"
    }
   },
   "outputs": [
    {
     "name": "stdout",
     "output_type": "stream",
     "text": [
      "[{'title': 'Boston', 'location_type': 'City', 'woeid': 2367105, 'latt_long': '42.358631,-71.056702'}]\n",
      "2367105\n"
     ]
    }
   ],
   "source": [
    "# Get geocode for London\n",
    "url = 'https://www.metaweather.com/api/location/search/?query=boston'\n",
    "response =  requests.get(url)\n",
    "json = response.json()\n",
    "print(json)\n",
    "\n",
    "id = json[0].get('woeid')\n",
    "print(id)"
   ]
  },
  {
   "cell_type": "code",
   "execution_count": 48,
   "metadata": {
    "slideshow": {
     "slide_type": "slide"
    }
   },
   "outputs": [
    {
     "data": {
      "text/plain": [
       "[{'id': 4833514865295360,\n",
       "  'weather_state_name': 'Light Cloud',\n",
       "  'weather_state_abbr': 'lc',\n",
       "  'wind_direction_compass': 'NW',\n",
       "  'created': '2021-10-01T07:25:50.044229Z',\n",
       "  'applicable_date': '2021-10-01',\n",
       "  'min_temp': 9.95,\n",
       "  'max_temp': 17.595,\n",
       "  'the_temp': 17.24,\n",
       "  'wind_speed': 5.4415723746467295,\n",
       "  'wind_direction': 305.6969136168543,\n",
       "  'air_pressure': 1018.5,\n",
       "  'humidity': 53,\n",
       "  'visibility': 15.30561520719001,\n",
       "  'predictability': 70},\n",
       " {'id': 4816070293585920,\n",
       "  'weather_state_name': 'Light Cloud',\n",
       "  'weather_state_abbr': 'lc',\n",
       "  'wind_direction_compass': 'W',\n",
       "  'created': '2021-10-01T07:25:52.248411Z',\n",
       "  'applicable_date': '2021-10-02',\n",
       "  'min_temp': 10.120000000000001,\n",
       "  'max_temp': 20.384999999999998,\n",
       "  'the_temp': 19.77,\n",
       "  'wind_speed': 5.500402664018135,\n",
       "  'wind_direction': 267.4247591415041,\n",
       "  'air_pressure': 1019.0,\n",
       "  'humidity': 54,\n",
       "  'visibility': 15.31524646066969,\n",
       "  'predictability': 70},\n",
       " {'id': 5751710933843968,\n",
       "  'weather_state_name': 'Showers',\n",
       "  'weather_state_abbr': 's',\n",
       "  'wind_direction_compass': 'ENE',\n",
       "  'created': '2021-10-01T07:25:55.348451Z',\n",
       "  'applicable_date': '2021-10-03',\n",
       "  'min_temp': 13.085,\n",
       "  'max_temp': 19.445,\n",
       "  'the_temp': 19.130000000000003,\n",
       "  'wind_speed': 4.839667919409316,\n",
       "  'wind_direction': 56.91342394701481,\n",
       "  'air_pressure': 1017.5,\n",
       "  'humidity': 70,\n",
       "  'visibility': 13.589387974230494,\n",
       "  'predictability': 73}]"
      ]
     },
     "execution_count": 48,
     "metadata": {},
     "output_type": "execute_result"
    }
   ],
   "source": [
    "# Use geocode to access weather next three days\n",
    "\n",
    "url = f'https://www.metaweather.com/api/location/{id}'\n",
    "\n",
    "response = requests.get(url)\n",
    "json = response.json()\n",
    "json.get('consolidated_weather')[0:3]"
   ]
  },
  {
   "cell_type": "markdown",
   "metadata": {
    "slideshow": {
     "slide_type": "slide"
    }
   },
   "source": [
    "#### Scraping data from the web\n",
    "* When possible use APIs to access data\n",
    "* In instances where APIs are not available, scraping can be used to parse the contents back to structured data\n",
    "* Note:\n",
    "  * Do not violate terms of service when scraping\n",
    "  * Set a rate limit to scraping to avoid taking down website\n",
    "* Process\n",
    "  * Extract raw html\n",
    "  * Use BeautifulSoup library to parse contents\n",
    "  * Extract information from specific sections of the page"
   ]
  },
  {
   "cell_type": "code",
   "execution_count": 49,
   "metadata": {
    "slideshow": {
     "slide_type": "slide"
    }
   },
   "outputs": [
    {
     "name": "stdout",
     "output_type": "stream",
     "text": [
      "<html>  \n",
      "    <head>\n",
      "    </head>\n",
      "    <body>\n",
      "        <h1> First title </h1>\n",
      "        <h1> Second title </h1>\n",
      "\t<p class=\"content\"> First paragraph </p>\n",
      "\t<p class=\"description\"> Second paragraph </p>\n",
      "    <body>\n",
      "</html>\n",
      "\n"
     ]
    }
   ],
   "source": [
    "#open data_html.html\n",
    "page = open('./data/data_html.html').read()\n",
    "print(page)"
   ]
  },
  {
   "cell_type": "code",
   "execution_count": 50,
   "metadata": {
    "slideshow": {
     "slide_type": "subslide"
    }
   },
   "outputs": [
    {
     "data": {
      "text/html": [
       "<html>  \n",
       "    <head>\n",
       "    </head>\n",
       "    <body>\n",
       "        <h1> First title </h1>\n",
       "        <h1> Second title </h1>\n",
       "\t<p class=\"content\"> First paragraph </p>\n",
       "\t<p class=\"description\"> Second paragraph </p>\n",
       "    <body>\n",
       "</html>\n"
      ],
      "text/plain": [
       "<IPython.core.display.HTML object>"
      ]
     },
     "metadata": {},
     "output_type": "display_data"
    }
   ],
   "source": [
    "from IPython.core.display import display, HTML\n",
    "display(HTML(page))"
   ]
  },
  {
   "cell_type": "code",
   "execution_count": 51,
   "metadata": {
    "scrolled": true,
    "slideshow": {
     "slide_type": "slide"
    }
   },
   "outputs": [],
   "source": [
    "# Extracting data from the web page BeautifulSoup\n",
    "\n",
    "from bs4 import BeautifulSoup\n",
    "soup = BeautifulSoup(page, 'html.parser')\n",
    "#print(soup.prettify())"
   ]
  },
  {
   "cell_type": "code",
   "execution_count": 52,
   "metadata": {
    "slideshow": {
     "slide_type": "subslide"
    }
   },
   "outputs": [
    {
     "data": {
      "text/plain": [
       "[<h1> First title </h1>, <h1> Second title </h1>]"
      ]
     },
     "execution_count": 52,
     "metadata": {},
     "output_type": "execute_result"
    }
   ],
   "source": [
    "soup.find_all('h1')"
   ]
  },
  {
   "cell_type": "code",
   "execution_count": 53,
   "metadata": {
    "slideshow": {
     "slide_type": "subslide"
    }
   },
   "outputs": [
    {
     "name": "stdout",
     "output_type": "stream",
     "text": [
      " First title \n",
      " Second title \n"
     ]
    }
   ],
   "source": [
    "#Extracting content of the heading\n",
    "for heading in soup.find_all('h1'):\n",
    "    print(heading.get_text())"
   ]
  },
  {
   "cell_type": "code",
   "execution_count": 54,
   "metadata": {
    "slideshow": {
     "slide_type": "subslide"
    }
   },
   "outputs": [
    {
     "data": {
      "text/plain": [
       "[<p class=\"content\"> First paragraph </p>,\n",
       " <p class=\"description\"> Second paragraph </p>]"
      ]
     },
     "execution_count": 54,
     "metadata": {},
     "output_type": "execute_result"
    }
   ],
   "source": [
    "# We can use attributes of the tag to extract specific tags\n",
    "soup.find_all('p')"
   ]
  },
  {
   "cell_type": "code",
   "execution_count": 55,
   "metadata": {
    "slideshow": {
     "slide_type": "subslide"
    }
   },
   "outputs": [
    {
     "data": {
      "text/plain": [
       "[<p class=\"content\"> First paragraph </p>]"
      ]
     },
     "execution_count": 55,
     "metadata": {},
     "output_type": "execute_result"
    }
   ],
   "source": [
    "# We can use attributes of the tag to extract specific tags\n",
    "soup.find_all('p', class_=\"content\")"
   ]
  }
 ],
 "metadata": {
  "celltoolbar": "Slideshow",
  "kernelspec": {
   "display_name": "Python 3",
   "language": "python",
   "name": "python3"
  },
  "language_info": {
   "codemirror_mode": {
    "name": "ipython",
    "version": 3
   },
   "file_extension": ".py",
   "mimetype": "text/x-python",
   "name": "python",
   "nbconvert_exporter": "python",
   "pygments_lexer": "ipython3",
   "version": "3.8.5"
  }
 },
 "nbformat": 4,
 "nbformat_minor": 2
}
