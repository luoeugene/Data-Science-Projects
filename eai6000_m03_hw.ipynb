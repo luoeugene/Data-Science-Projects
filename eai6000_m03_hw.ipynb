{
  "nbformat": 4,
  "nbformat_minor": 0,
  "metadata": {
    "kernelspec": {
      "display_name": "Python 3",
      "language": "python",
      "name": "python3"
    },
    "language_info": {
      "codemirror_mode": {
        "name": "ipython",
        "version": 3
      },
      "file_extension": ".py",
      "mimetype": "text/x-python",
      "name": "python",
      "nbconvert_exporter": "python",
      "pygments_lexer": "ipython3",
      "version": "3.6.9"
    },
    "varInspector": {
      "cols": {
        "lenName": 16,
        "lenType": 16,
        "lenVar": 40
      },
      "kernels_config": {
        "python": {
          "delete_cmd_postfix": "",
          "delete_cmd_prefix": "del ",
          "library": "var_list.py",
          "varRefreshCmd": "print(var_dic_list())"
        },
        "r": {
          "delete_cmd_postfix": ") ",
          "delete_cmd_prefix": "rm(",
          "library": "var_list.r",
          "varRefreshCmd": "cat(var_dic_list()) "
        }
      },
      "types_to_exclude": [
        "module",
        "function",
        "builtin_function_or_method",
        "instance",
        "_Feature"
      ],
      "window_display": false
    },
    "colab": {
      "name": "eai6000-m03-hw.ipynb",
      "provenance": []
    }
  },
  "cells": [
    {
      "cell_type": "markdown",
      "metadata": {
        "id": "XuoYx1Ydk7Wt"
      },
      "source": [
        "\n",
        "\n",
        "# Bayes Rule and Bayes Classification\n",
        "\n",
        "This assignment is broken up into two main sections\n",
        "1. Naive Bayes Classification Walkthrough\n",
        "2. Exercises\n",
        "\n",
        "In the first section, please read through the text and run the code to follow through how we can use Python/Pandas to build Bayes models. In the second section, you are asked to complete two exercises using Bayes to build machine learning models.\n",
        "\n"
      ]
    },
    {
      "cell_type": "markdown",
      "metadata": {
        "id": "svP2XblUV_Lt"
      },
      "source": [
        "## Naive Bayes Classification Walkthrough"
      ]
    },
    {
      "cell_type": "markdown",
      "metadata": {
        "id": "A_QZlOFJV_Lt"
      },
      "source": [
        "*Classification* is one form of supervised learning. The aim is to annotate all data points with a label. Those points that have the same label belong to the same class. There can be two or more labels. For example, a lifeform can be classified (coarsely) with labels animal, plant, fungi, archaea, bacteria, protozoa, and chromista. The data points are observed to have certain features that can be used to predict their labels. For example, if it is has feathers, then it is most likely an animal.\n",
        "\n",
        "In supervised learning an algorithm is first given a training set of data points with their features and labels. Then the algorithm learns from these features and labels a (probabilistic) model, which can afterwards be used to predict the labels of previously unseen data.\n",
        "\n",
        "*Naive Bayes classification* is a fast and simple to understand classification method. Its speed is due to some simplifications we make about the underlying probability distributions, namely, the assumption about the independence of features. Yet, it can be quite powerful, especially when there are enough features in the data.\n",
        "\n",
        "Suppose we have for each label L a probability distribution. This distribution gives probability for each possible combination of features (a feature vector):\n",
        "\n",
        "$$P(features | L).$$\n",
        "\n",
        "The main idea in Bayesian classification is to reverse the direction of dependence: we want to predict the label based on the features:\n",
        "\n",
        "$$P(L | features)$$\n",
        "\n",
        "This is possible by [the Bayes theorem](https://en.wikipedia.org/wiki/Bayes%27_theorem):\n",
        "\n",
        "$$P(L | features) = \\frac{P(features | L)P(L)}{P(features)}.$$\n",
        "\n",
        "Let's assume we have to labels L1 and L2, and their associated distributions: $P(features | L1)$ and $P(features | L2)$. If we have a data point with \"features\", whose label we don't know, we can try to predict it using the ratio of posterior probabilities:\n",
        "\n",
        "$$\\frac{P(L1 | features)}{P(L2 | features)} = \\frac{P(features | L1)P(L1)}{P(features | L2)P(L2)}.$$\n",
        "\n",
        "If the ratio is greater than one, we label our data point with label L1, and if not, we give it label L2.\n",
        "The prior probabilities P(L1) and P(L2) of labels can be easily found out from the input data, as for each data point we also have its label. Same goes for the probabilities of features conditioned on the label."
      ]
    },
    {
      "cell_type": "markdown",
      "metadata": {
        "id": "diXaQ1SSV_Lu"
      },
      "source": [
        "We first demonstrate naive Bayes classification using Gaussian distributions."
      ]
    },
    {
      "cell_type": "code",
      "metadata": {
        "ExecuteTime": {
          "end_time": "2020-06-24T19:29:18.550760Z",
          "start_time": "2020-06-24T19:29:17.727236Z"
        },
        "id": "L9g-LLl2V_Lu"
      },
      "source": [
        "import numpy as np\n",
        "import seaborn as sns\n",
        "import matplotlib.pyplot as plt\n",
        "import pandas as pd"
      ],
      "execution_count": null,
      "outputs": []
    },
    {
      "cell_type": "code",
      "metadata": {
        "ExecuteTime": {
          "end_time": "2020-06-24T19:29:18.721987Z",
          "start_time": "2020-06-24T19:29:18.551884Z"
        },
        "id": "zM__OyWeV_Lu",
        "colab": {
          "base_uri": "https://localhost:8080/",
          "height": 265
        },
        "outputId": "2d1c5eea-b031-434f-d92e-9922041d91d4"
      },
      "source": [
        "from sklearn.datasets import make_blobs\n",
        "X,y = make_blobs(100, 2, centers=2, random_state=2, cluster_std=1.5)\n",
        "colors=np.array([\"red\", \"blue\"])\n",
        "plt.scatter(X[:, 0], X[:, 1], c=colors[y], s=50)\n",
        "for label, c in enumerate(colors):\n",
        "    plt.scatter([], [], c=c, label=str(label))\n",
        "plt.legend();\n",
        "#plt.colorbar();"
      ],
      "execution_count": null,
      "outputs": [
        {
          "output_type": "display_data",
          "data": {
            "image/png": "[encoded data removed]",
            "text/plain": [
              "<Figure size 432x288 with 1 Axes>"
            ]
          },
          "metadata": {
            "needs_background": "light"
          }
        }
      ]
    },
    {
      "cell_type": "code",
      "metadata": {
        "ExecuteTime": {
          "end_time": "2020-06-24T19:29:18.728361Z",
          "start_time": "2020-06-24T19:29:18.723459Z"
        },
        "id": "CV57j7BnV_Lv"
      },
      "source": [
        "from sklearn.naive_bayes import GaussianNB\n",
        "from sklearn.naive_bayes import MultinomialNB\n",
        "model = GaussianNB()\n",
        "#model = MultinomialNB()\n",
        "model.fit(X, y);"
      ],
      "execution_count": null,
      "outputs": []
    },
    {
      "cell_type": "markdown",
      "metadata": {
        "id": "35NjsrO7V_Lw"
      },
      "source": [
        "Naive Bayes algorithm fitted two 2-dimensional Gaussian distribution to the data. The means and the variances define these distributions completely."
      ]
    },
    {
      "cell_type": "code",
      "metadata": {
        "ExecuteTime": {
          "end_time": "2020-06-24T19:29:18.733086Z",
          "start_time": "2020-06-24T19:29:18.729646Z"
        },
        "id": "ocmL4UOOV_Lw",
        "colab": {
          "base_uri": "https://localhost:8080/"
        },
        "outputId": "975927a0-ab1b-49a0-e342-19c370ad297b"
      },
      "source": [
        "print(\"Means:\", model.theta_)\n",
        "print(\"Standard deviations:\", model.sigma_)"
      ],
      "execution_count": null,
      "outputs": [
        {
          "output_type": "stream",
          "name": "stdout",
          "text": [
            "Means: [[-1.64939095 -9.36891451]\n",
            " [ 1.29327924 -1.24101221]]\n",
            "Standard deviations: [[2.06097005 2.47716872]\n",
            " [3.33164807 2.22401384]]\n"
          ]
        }
      ]
    },
    {
      "cell_type": "markdown",
      "metadata": {
        "id": "sPm1wFquV_Lx"
      },
      "source": [
        "Let's plot these distributions. First we define a helper function to draw an ellipse that gives the standard deviation in each direction from the origo."
      ]
    },
    {
      "cell_type": "code",
      "metadata": {
        "ExecuteTime": {
          "end_time": "2020-06-24T19:29:18.740310Z",
          "start_time": "2020-06-24T19:29:18.734352Z"
        },
        "id": "0tru8fsaV_Lx"
      },
      "source": [
        "def plot_ellipse(ax, mu, sigma, color=\"k\", label=None):\n",
        "    \"\"\"\n",
        "    Based on\n",
        "    http://stackoverflow.com/questions/17952171/not-sure-how-to-fit-data-with-a-gaussian-python.\n",
        "    \"\"\"\n",
        "    from matplotlib.patches import Ellipse\n",
        "    # Compute eigenvalues and associated eigenvectors\n",
        "    vals, vecs = np.linalg.eigh(sigma)\n",
        "\n",
        "    # Compute \"tilt\" of ellipse using first eigenvector\n",
        "    x, y = vecs[:, 0]\n",
        "    theta = np.degrees(np.arctan2(y, x))\n",
        "\n",
        "    # Eigenvalues give length of ellipse along each eigenvector\n",
        "    w, h = 2 * np.sqrt(vals)\n",
        "\n",
        "    ax.tick_params(axis='both', which='major', labelsize=20)\n",
        "    ellipse = Ellipse(mu, w, h, theta, color=color, label=label)  # color=\"k\")\n",
        "    ellipse.set_clip_box(ax.bbox)\n",
        "    ellipse.set_alpha(0.2)\n",
        "    ax.add_artist(ellipse)\n",
        "    return ellipse"
      ],
      "execution_count": null,
      "outputs": []
    },
    {
      "cell_type": "markdown",
      "metadata": {
        "id": "PRbwYICpV_Lx"
      },
      "source": [
        "Then we do the actual plotting:"
      ]
    },
    {
      "cell_type": "code",
      "metadata": {
        "ExecuteTime": {
          "end_time": "2020-06-24T19:29:18.822876Z",
          "start_time": "2020-06-24T19:29:18.741616Z"
        },
        "id": "SakJS77lV_Lx",
        "colab": {
          "base_uri": "https://localhost:8080/",
          "height": 282
        },
        "outputId": "06d39efa-a444-4ccb-a0da-70d1ce17228e"
      },
      "source": [
        "plt.figure()\n",
        "plt.xlim(-5, 5)\n",
        "plt.ylim(-15, 5)\n",
        "plot_ellipse(plt.gca(), model.theta_[0], np.identity(2)*model.sigma_[0], color=\"red\")\n",
        "plot_ellipse(plt.gca(), model.theta_[1], np.identity(2)*model.sigma_[1], color=\"blue\");"
      ],
      "execution_count": null,
      "outputs": [
        {
          "output_type": "display_data",
          "data": {
            "image/png": "[encoded data removed]",
            "text/plain": [
              "<Figure size 432x288 with 1 Axes>"
            ]
          },
          "metadata": {
            "needs_background": "light"
          }
        }
      ]
    },
    {
      "cell_type": "markdown",
      "metadata": {
        "id": "EAnlOtXyV_Ly"
      },
      "source": [
        "*Accuracy score* gives a measure about how well we managed to predict the labels. The maximum value is 1.0."
      ]
    },
    {
      "cell_type": "code",
      "metadata": {
        "ExecuteTime": {
          "end_time": "2020-06-24T19:29:18.837418Z",
          "start_time": "2020-06-24T19:29:18.823858Z"
        },
        "id": "GNSkcsmBV_Ly",
        "colab": {
          "base_uri": "https://localhost:8080/"
        },
        "outputId": "28a5925e-ad35-4384-97f4-876b01b971d1"
      },
      "source": [
        "from sklearn.metrics import accuracy_score\n",
        "y_fitted = model.predict(X)\n",
        "acc=accuracy_score(y,y_fitted)\n",
        "print(\"Accuracy score is\", acc)"
      ],
      "execution_count": null,
      "outputs": [
        {
          "output_type": "stream",
          "name": "stdout",
          "text": [
            "Accuracy score is 1.0\n"
          ]
        }
      ]
    },
    {
      "cell_type": "markdown",
      "metadata": {
        "id": "HB_BEl0fV_Ly"
      },
      "source": [
        "The score was the best possible, which is not a surprise, since we tried to predict the data we had already seen! Later we will split our data into two parts: one for learning the model and the other for testing its predictive skills."
      ]
    },
    {
      "cell_type": "markdown",
      "metadata": {
        "id": "pghbsbBjgnls"
      },
      "source": [
        "## [Question - Accuracy]\n",
        "What is a situation when the accuracy score is not a good representation of the quality of a classification?"
      ]
    },
    {
      "cell_type": "markdown",
      "metadata": {
        "id": "48lggrOOV_Ly"
      },
      "source": [
        "### Another example"
      ]
    },
    {
      "cell_type": "markdown",
      "metadata": {
        "id": "nzIXAXd6V_Ly"
      },
      "source": [
        "Let's generate some more data using multivariate normal distributions."
      ]
    },
    {
      "cell_type": "code",
      "metadata": {
        "ExecuteTime": {
          "end_time": "2020-06-24T19:29:18.944447Z",
          "start_time": "2020-06-24T19:29:18.839523Z"
        },
        "id": "VIGCozbrV_Ly",
        "colab": {
          "base_uri": "https://localhost:8080/",
          "height": 265
        },
        "outputId": "e9e97758-eee6-43af-d864-2be60f596c01"
      },
      "source": [
        "cov=np.array([[ 4.68, -4.32],\n",
        " [-4.32,  4.68]])\n",
        "mean1 = [0,0]\n",
        "mean2 = [0,4]\n",
        "n=500\n",
        "x1 = np.random.multivariate_normal(mean1, cov, n).T\n",
        "x2 = np.random.multivariate_normal(mean2, cov, n).T\n",
        "X=np.vstack([x1.T,x2.T])\n",
        "y=np.hstack([[0]*n, [1]*n]).T\n",
        "plt.scatter(X[:n,0], X[:n,1], color=\"red\", label=0)\n",
        "plt.scatter(X[n:,0], X[n:,1], color=\"blue\", label=1)\n",
        "plt.legend();"
      ],
      "execution_count": null,
      "outputs": [
        {
          "output_type": "display_data",
          "data": {
            "image/png": "[encoded data removed]",
            "text/plain": [
              "<Figure size 432x288 with 1 Axes>"
            ]
          },
          "metadata": {
            "needs_background": "light"
          }
        }
      ]
    },
    {
      "cell_type": "markdown",
      "metadata": {
        "id": "-Rx6iMQ_V_Ly"
      },
      "source": [
        "The two clusters seem to be quite separate. Let's try naive Bayesian classification on this data."
      ]
    },
    {
      "cell_type": "code",
      "metadata": {
        "ExecuteTime": {
          "end_time": "2020-06-24T19:29:18.948424Z",
          "start_time": "2020-06-24T19:29:18.945733Z"
        },
        "id": "Rzg3Bi10V_Lz"
      },
      "source": [
        "model = GaussianNB()\n",
        "#model = MultinomialNB()\n",
        "model.fit(X, y);"
      ],
      "execution_count": null,
      "outputs": []
    },
    {
      "cell_type": "code",
      "metadata": {
        "ExecuteTime": {
          "end_time": "2020-06-24T19:29:18.952919Z",
          "start_time": "2020-06-24T19:29:18.949630Z"
        },
        "id": "i-h_0ykmV_Lz",
        "colab": {
          "base_uri": "https://localhost:8080/"
        },
        "outputId": "e1bd6ec3-e1c1-4c5a-8928-82141a076090"
      },
      "source": [
        "print(\"Means:\", model.theta_)\n",
        "print(\"Standard deviations:\", model.sigma_)"
      ],
      "execution_count": null,
      "outputs": [
        {
          "output_type": "stream",
          "name": "stdout",
          "text": [
            "Means: [[3.71349120e-02 4.32365684e-04]\n",
            " [6.50099652e-02 3.95970949e+00]]\n",
            "Standard deviations: [[4.29938312 4.39258824]\n",
            " [5.14910217 5.21349433]]\n"
          ]
        }
      ]
    },
    {
      "cell_type": "code",
      "metadata": {
        "ExecuteTime": {
          "end_time": "2020-06-24T19:29:19.115073Z",
          "start_time": "2020-06-24T19:29:18.954208Z"
        },
        "id": "0_Uu77OlV_Lz",
        "colab": {
          "base_uri": "https://localhost:8080/",
          "height": 282
        },
        "outputId": "f24c37b6-897b-4f4d-e932-11eb954825ec"
      },
      "source": [
        "y_fitted = model.predict(X)\n",
        "colors=np.array([\"red\", \"blue\"])\n",
        "plt.scatter(X[:,0], X[:,1], color=colors[y_fitted])\n",
        "plt.scatter([], [], color=\"red\", label=\"0\")\n",
        "plt.scatter([], [], color=\"blue\", label=\"1\")\n",
        "from sklearn.metrics import accuracy_score\n",
        "acc=accuracy_score(y,y_fitted)\n",
        "plt.legend()\n",
        "print(\"Accuracy score is\", acc)"
      ],
      "execution_count": null,
      "outputs": [
        {
          "output_type": "stream",
          "name": "stdout",
          "text": [
            "Accuracy score is 0.825\n"
          ]
        },
        {
          "output_type": "display_data",
          "data": {
            "image/png": "[encoded data removed]",
            "text/plain": [
              "<Figure size 432x288 with 1 Axes>"
            ]
          },
          "metadata": {
            "needs_background": "light"
          }
        }
      ]
    },
    {
      "cell_type": "markdown",
      "metadata": {
        "id": "dSxaAWeLV_Lz"
      },
      "source": [
        "Even thought the score is quite good, we can see from the plot that the algorithm didn't have good models for the data. We can plot the models the algorithm used:"
      ]
    },
    {
      "cell_type": "code",
      "metadata": {
        "ExecuteTime": {
          "end_time": "2020-06-24T19:29:19.194395Z",
          "start_time": "2020-06-24T19:29:19.116088Z"
        },
        "id": "RLVsMQOeV_Lz",
        "colab": {
          "base_uri": "https://localhost:8080/",
          "height": 282
        },
        "outputId": "99821512-cc8d-438c-f034-9f4a7b333a0b"
      },
      "source": [
        "plt.figure()\n",
        "plt.xlim(-10, 10)\n",
        "plt.ylim(-15, 10)\n",
        "e1=plot_ellipse(plt.gca(), model.theta_[0], np.identity(2)*model.sigma_[0], color=\"red\", label=\"0\")\n",
        "e2=plot_ellipse(plt.gca(), model.theta_[1], np.identity(2)*model.sigma_[1], color=\"blue\", label=\"1\")\n",
        "plt.legend([e1, e2], [\"0\", \"1\"]);"
      ],
      "execution_count": null,
      "outputs": [
        {
          "output_type": "display_data",
          "data": {
            "image/png": "[encoded data removed]",
            "text/plain": [
              "<Figure size 432x288 with 1 Axes>"
            ]
          },
          "metadata": {
            "needs_background": "light"
          }
        }
      ]
    },
    {
      "cell_type": "markdown",
      "metadata": {
        "id": "NDwMuORWV_Lz"
      },
      "source": [
        "The problem with naive Bayesian classification is that it tries to model the data using Gaussian distributions, which are aligned along the x and y axes. With this example data we would have needed Gaussian distributions which are \"tilted\"."
      ]
    },
    {
      "cell_type": "markdown",
      "metadata": {
        "id": "C_Jbqj0JV_Lz"
      },
      "source": [
        "### Text classification"
      ]
    },
    {
      "cell_type": "markdown",
      "metadata": {
        "id": "dBqkYDYbV_Lz"
      },
      "source": [
        "We next try to classify a set of messages that were posted on a public forum. The messages were divided into groups by the topics. So, we have a data set ready for classification testing. Let's first load this data using scikit-learn and print the message categories."
      ]
    },
    {
      "cell_type": "code",
      "metadata": {
        "ExecuteTime": {
          "end_time": "2020-06-24T19:29:19.444349Z",
          "start_time": "2020-06-24T19:29:19.195328Z"
        },
        "id": "i7Dn0FPIV_Lz",
        "colab": {
          "base_uri": "https://localhost:8080/"
        },
        "outputId": "6815a4b7-fe4b-4e13-e445-7cefe1aeb72c"
      },
      "source": [
        "from sklearn.datasets import fetch_20newsgroups\n",
        "data = fetch_20newsgroups()\n",
        "data.target_names"
      ],
      "execution_count": null,
      "outputs": [
        {
          "output_type": "stream",
          "name": "stderr",
          "text": [
            "Downloading 20news dataset. This may take a few minutes.\n",
            "Downloading dataset from https://ndownloader.figshare.com/files/5975967 (14 MB)\n"
          ]
        },
        {
          "output_type": "execute_result",
          "data": {
            "text/plain": [
              "['alt.atheism',\n",
              " 'comp.graphics',\n",
              " 'comp.os.ms-windows.misc',\n",
              " 'comp.sys.ibm.pc.hardware',\n",
              " 'comp.sys.mac.hardware',\n",
              " 'comp.windows.x',\n",
              " 'misc.forsale',\n",
              " 'rec.autos',\n",
              " 'rec.motorcycles',\n",
              " 'rec.sport.baseball',\n",
              " 'rec.sport.hockey',\n",
              " 'sci.crypt',\n",
              " 'sci.electronics',\n",
              " 'sci.med',\n",
              " 'sci.space',\n",
              " 'soc.religion.christian',\n",
              " 'talk.politics.guns',\n",
              " 'talk.politics.mideast',\n",
              " 'talk.politics.misc',\n",
              " 'talk.religion.misc']"
            ]
          },
          "metadata": {},
          "execution_count": 14
        }
      ]
    },
    {
      "cell_type": "markdown",
      "metadata": {
        "id": "zDNcYZS2V_L0"
      },
      "source": [
        "We concentrate on four message categories only. The tool `fetch_20newsgroups` allows us to easily split the data into training and testing data."
      ]
    },
    {
      "cell_type": "code",
      "metadata": {
        "ExecuteTime": {
          "end_time": "2020-06-24T19:29:19.778817Z",
          "start_time": "2020-06-24T19:29:19.445242Z"
        },
        "id": "AlPnowMEV_L0"
      },
      "source": [
        "categories = ['comp.graphics', 'rec.autos', 'sci.electronics', 'sci.crypt']\n",
        "train = fetch_20newsgroups(subset='train', categories=categories)\n",
        "test = fetch_20newsgroups(subset='test', categories=categories)"
      ],
      "execution_count": null,
      "outputs": []
    },
    {
      "cell_type": "markdown",
      "metadata": {
        "id": "pMtZukGBV_L0"
      },
      "source": [
        "Let's see what we got:"
      ]
    },
    {
      "cell_type": "code",
      "metadata": {
        "ExecuteTime": {
          "end_time": "2020-06-24T19:29:19.783690Z",
          "start_time": "2020-06-24T19:29:19.780035Z"
        },
        "id": "VGpG-ZPzV_L0",
        "colab": {
          "base_uri": "https://localhost:8080/"
        },
        "outputId": "10e90dc1-3115-448f-eec9-e50518eb393f"
      },
      "source": [
        "print(\"Training data:\", \"Data:\", str(type(train.data)), len(train.data), \"Target:\", str(type(train.target)), len(train.target))\n",
        "print(\"Test data:\", \"Data:\", str(type(test.data)), len(test.data), \"Target\", str(type(test.data)), len(test.target))"
      ],
      "execution_count": null,
      "outputs": [
        {
          "output_type": "stream",
          "name": "stdout",
          "text": [
            "Training data: Data: <class 'list'> 2364 Target: <class 'numpy.ndarray'> 2364\n",
            "Test data: Data: <class 'list'> 1574 Target <class 'list'> 1574\n"
          ]
        }
      ]
    },
    {
      "cell_type": "markdown",
      "metadata": {
        "id": "bAVa6KCAV_L0"
      },
      "source": [
        "We use as features the frequencies of each word in the dataset. That is, there are as many features as there are distinct words in the dataset. We denote the number of features by $f$. As the features are now counts, it is sensible to use multinomial distribution instead of Gaussian. \n",
        "\n",
        "Let's try to model these messages using multinomial distributions. Each message category has its own distribution. A multinomial distribution has $f$ non-negative parameters $\\theta_1,\\ldots , \\theta_f$, which sum up to one. For example, the parameter $\\theta_3$ might tell the the probability of the word \"board\" appearing in a message of the category this distribution is describing.\n",
        "\n",
        "In scikit-learn there is a class `CountVectorizer` that converts messages in form of text strings to feature vectors. We can integrate this conversion with the model we are using (multinomial naive Bayes), so that the conversion happens automatically as part of the `fit` method. We achive this integration using the `make_pipeline` tool."
      ]
    },
    {
      "cell_type": "code",
      "metadata": {
        "ExecuteTime": {
          "end_time": "2020-06-24T19:29:20.367332Z",
          "start_time": "2020-06-24T19:29:19.784456Z"
        },
        "id": "g7qXXdi-V_L0",
        "colab": {
          "base_uri": "https://localhost:8080/"
        },
        "outputId": "5f11f65c-1a48-42eb-e4b4-66dca770f798"
      },
      "source": [
        "#from sklearn.feature_extraction.text import TfidfVectorizer  # an alternative feature extractor\n",
        "from sklearn.feature_extraction.text import CountVectorizer\n",
        "from sklearn.naive_bayes import MultinomialNB\n",
        "from sklearn.pipeline import make_pipeline\n",
        "\n",
        "#model = make_pipeline(TfidfVectorizer(), MultinomialNB())\n",
        "model = make_pipeline(CountVectorizer(), MultinomialNB())\n",
        "model.fit(train.data, train.target)\n",
        "labels_fitted = model.predict(test.data)\n",
        "print(\"Accuracy score is\", accuracy_score(labels_fitted, test.target))"
      ],
      "execution_count": null,
      "outputs": [
        {
          "output_type": "stream",
          "name": "stdout",
          "text": [
            "Accuracy score is 0.920584498094028\n"
          ]
        }
      ]
    },
    {
      "cell_type": "markdown",
      "metadata": {
        "id": "1-MqXu-1V_L0"
      },
      "source": [
        "The classifier seem to work quite well! Notice that now we used separate data for testing the model.\n",
        "\n",
        "Let's have a closer look at the resulting feature vectors."
      ]
    },
    {
      "cell_type": "code",
      "metadata": {
        "ExecuteTime": {
          "end_time": "2020-06-24T19:29:20.734692Z",
          "start_time": "2020-06-24T19:29:20.368401Z"
        },
        "id": "hn_jpqc_V_L0",
        "colab": {
          "base_uri": "https://localhost:8080/"
        },
        "outputId": "9f7b86fa-5b9a-4c78-acfe-4b3704ee091e"
      },
      "source": [
        "vec=CountVectorizer()\n",
        "features=vec.fit_transform(train.data)\n",
        "print(\"Type of feature matrix:\", type(features))\n",
        "print(features[0,:])        # print the features of the first sample point"
      ],
      "execution_count": null,
      "outputs": [
        {
          "output_type": "stream",
          "name": "stdout",
          "text": [
            "Type of feature matrix: <class 'scipy.sparse.csr.csr_matrix'>\n",
            "  (0, 15373)\t1\n",
            "  (0, 18962)\t3\n",
            "  (0, 21852)\t5\n",
            "  (0, 9553)\t4\n",
            "  (0, 34790)\t6\n",
            "  (0, 13317)\t6\n",
            "  (0, 19099)\t1\n",
            "  (0, 16034)\t1\n",
            "  (0, 30377)\t1\n",
            "  (0, 26624)\t1\n",
            "  (0, 23858)\t1\n",
            "  (0, 20509)\t1\n",
            "  (0, 15109)\t2\n",
            "  (0, 11079)\t1\n",
            "  (0, 23854)\t2\n",
            "  (0, 32729)\t1\n",
            "  (0, 20381)\t1\n",
            "  (0, 2100)\t1\n",
            "  (0, 12580)\t1\n",
            "  (0, 18085)\t1\n",
            "  (0, 27158)\t1\n",
            "  (0, 31686)\t6\n",
            "  (0, 23118)\t1\n",
            "  (0, 25400)\t1\n",
            "  (0, 17310)\t1\n",
            "  :\t:\n",
            "  (0, 11100)\t1\n",
            "  (0, 27521)\t1\n",
            "  (0, 29104)\t1\n",
            "  (0, 5980)\t1\n",
            "  (0, 30641)\t1\n",
            "  (0, 27517)\t1\n",
            "  (0, 12577)\t1\n",
            "  (0, 25336)\t1\n",
            "  (0, 24025)\t1\n",
            "  (0, 18436)\t1\n",
            "  (0, 29505)\t1\n",
            "  (0, 29494)\t1\n",
            "  (0, 11068)\t1\n",
            "  (0, 21787)\t1\n",
            "  (0, 23460)\t1\n",
            "  (0, 34425)\t1\n",
            "  (0, 16809)\t1\n",
            "  (0, 17883)\t1\n",
            "  (0, 31398)\t1\n",
            "  (0, 34222)\t1\n",
            "  (0, 25926)\t1\n",
            "  (0, 6320)\t1\n",
            "  (0, 29697)\t1\n",
            "  (0, 19220)\t1\n",
            "  (0, 20579)\t1\n"
          ]
        }
      ]
    },
    {
      "cell_type": "markdown",
      "metadata": {
        "id": "sx3ZhPHFV_L0"
      },
      "source": [
        "The feature matrix is stored in sparse format, that is, only the nonzero counts are stored. How many words were in the first message?"
      ]
    },
    {
      "cell_type": "code",
      "metadata": {
        "ExecuteTime": {
          "end_time": "2020-06-24T19:29:20.739668Z",
          "start_time": "2020-06-24T19:29:20.735790Z"
        },
        "id": "MNrLAJ0qV_L0",
        "colab": {
          "base_uri": "https://localhost:8080/"
        },
        "outputId": "ed730e77-7bce-45a6-b700-c84a63cd018a"
      },
      "source": [
        "print(\"Number of words:\", features[0,:].sum())\n",
        "col = vec.vocabulary_[\"it\"]   # Get the column of 'it' word in the feature matrix\n",
        "print(f\"Word 'it' appears in the first message {features[0, col]} times.\")\n",
        "print()\n",
        "print(train.data[0])   # Let's print the corresponding message as well\n",
        "#print(vec.get_feature_names())"
      ],
      "execution_count": null,
      "outputs": [
        {
          "output_type": "stream",
          "name": "stdout",
          "text": [
            "Number of words: 177\n",
            "Word 'it' appears in the first message 2 times.\n",
            "\n",
            "From: jgfoot@minerva.cis.yale.edu (Josh A. Goldfoot)\n",
            "Subject: Re: Organized Lobbying for Cryptography\n",
            "Organization: Yale University\n",
            "Lines: 21\n",
            "Distribution: inet\n",
            "Reply-To: jgfoot@minerva.cis.yale.edu\n",
            "NNTP-Posting-Host: minerva.cis.yale.edu\n",
            "X-Newsreader: TIN [version 1.1 Minerva PL9]\n",
            "\n",
            "Shaun P. Hughes (sphughes@sfsuvax1.sfsu.edu) wrote:\n",
            ": In article <1r3jgbINN35i@eli.CS.YALE.EDU> jgfoot@minerva.cis.yale.edu writes:\n",
            "[deletion]\n",
            ": >Perhaps these encryption-only types would defend the digitized porn if it\n",
            ": >was posted encrypted?\n",
            ": >\n",
            ": >These issues are not as seperable as you maintain.\n",
            ": >\n",
            "\n",
            ": Now why would anyone \"post\" anything encrypted? Encryption is only of \n",
            ": use between persons who know how to decrypt the data.\n",
            "\n",
            ": And why should I care what other people look at? \n",
            "\n",
            "I was responding to another person (Tarl Neustaedter) who held that the\n",
            "EFF wasn't the best organization to fight for crytography rights since the\n",
            "EFF also supports the right to distribute pornography over the internet,\n",
            "something some Crypto people might object to. In other words, he's\n",
            "implying that there are people who will protect any speech, just  as long\n",
            "as it is encrypted.\n",
            "\n",
            "\n"
          ]
        }
      ]
    },
    {
      "cell_type": "markdown",
      "metadata": {
        "id": "X1mhUmUXlhzk"
      },
      "source": [
        "## Exercises"
      ]
    },
    {
      "cell_type": "markdown",
      "metadata": {
        "id": "pVAgfVWOV_L0"
      },
      "source": [
        "#### <div class=\"alert alert-info\">Exercise 1 (blob classification)</div>\n",
        "\n",
        "Write function `blob_classification` that gets feature matrix X and label vector y as parameters. It should then return the accuracy score of the prediction. Do the prediction using `GaussianNB`, and use `train_test_split` function from `sklearn` to split the dataset in to two parts: one for training and one for testing. Give parameter `random_state=0` to the splitting function so that the result is deterministic. Use training set size of 75% of the whole data.\n",
        "<hr/>"
      ]
    },
    {
      "cell_type": "markdown",
      "metadata": {
        "id": "z3r24NN6V_L0"
      },
      "source": [
        "#### <div class=\"alert alert-info\">Exercise 2 (plant classification)</div>\n",
        "\n",
        "Write function `plant_classification` that does the following:\n",
        "\n",
        "* loads the iris dataset using sklearn (`sklearn.datasets.load_iris`)\n",
        "* splits the data into training and testing part using the `train_test_split` function so that the training set size is 80% of the whole data (give the call also the `random_state=0` argument to make the result deterministic)\n",
        "* use Gaussian naive Bayes to fit the training data\n",
        "* predict labels of the test data\n",
        "* the function should return the accuracy score of the prediction performance (`sklearn.metrics.accuracy_score`)\n",
        "<hr/>"
      ]
    }
  ]
}